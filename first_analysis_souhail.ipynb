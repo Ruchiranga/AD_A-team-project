{
 "cells": [
  {
   "cell_type": "code",
   "execution_count": 185,
   "metadata": {},
   "outputs": [],
   "source": [
    "import pandas as pd\n",
    "import numpy as np\n",
    "import datetime as dt\n",
    "import re\n",
    "import seaborn as sns\n",
    "from datetime import datetime, date, time, timezone\n",
    "import matplotlib.pyplot as plt"
   ]
  },
  {
   "cell_type": "code",
   "execution_count": 6,
   "metadata": {},
   "outputs": [],
   "source": [
    "actors_aw=pd.read_pickle('actors_awards_subset.pkl')"
   ]
  },
  {
   "cell_type": "code",
   "execution_count": 8,
   "metadata": {},
   "outputs": [
    {
     "data": {
      "text/html": [
       "<div>\n",
       "<style scoped>\n",
       "    .dataframe tbody tr th:only-of-type {\n",
       "        vertical-align: middle;\n",
       "    }\n",
       "\n",
       "    .dataframe tbody tr th {\n",
       "        vertical-align: top;\n",
       "    }\n",
       "\n",
       "    .dataframe thead th {\n",
       "        text-align: right;\n",
       "    }\n",
       "</style>\n",
       "<table border=\"1\" class=\"dataframe\">\n",
       "  <thead>\n",
       "    <tr style=\"text-align: right;\">\n",
       "      <th></th>\n",
       "      <th>nconst</th>\n",
       "      <th>year</th>\n",
       "      <th>category</th>\n",
       "      <th>w_n</th>\n",
       "      <th>description</th>\n",
       "      <th>movie</th>\n",
       "      <th>tconst</th>\n",
       "    </tr>\n",
       "  </thead>\n",
       "  <tbody>\n",
       "    <tr>\n",
       "      <td>0</td>\n",
       "      <td>nm0309470</td>\n",
       "      <td>2005</td>\n",
       "      <td>David</td>\n",
       "      <td>Nominee</td>\n",
       "      <td>Best Supporting Actress (Migliore Attrice non ...</td>\n",
       "      <td>Cuore sacro</td>\n",
       "      <td>tt0429898</td>\n",
       "    </tr>\n",
       "    <tr>\n",
       "      <td>1</td>\n",
       "      <td>nm0309470</td>\n",
       "      <td>1968</td>\n",
       "      <td>Golden Plate</td>\n",
       "      <td>Winner</td>\n",
       "      <td></td>\n",
       "      <td>Grazie zia</td>\n",
       "      <td>tt0063033</td>\n",
       "    </tr>\n",
       "    <tr>\n",
       "      <td>2</td>\n",
       "      <td>nm0309470</td>\n",
       "      <td>2005</td>\n",
       "      <td>Golden Ciak</td>\n",
       "      <td>Winner</td>\n",
       "      <td>Best Supporting Actress (Migliore Attrice Non ...</td>\n",
       "      <td>Cuore sacro</td>\n",
       "      <td>tt0429898</td>\n",
       "    </tr>\n",
       "    <tr>\n",
       "      <td>3</td>\n",
       "      <td>nm0309470</td>\n",
       "      <td>1967</td>\n",
       "      <td>Golden Globe</td>\n",
       "      <td>Winner</td>\n",
       "      <td>Best Actress (Migliore Attrice)</td>\n",
       "      <td>Svegliati e uccidi</td>\n",
       "      <td>tt0061049</td>\n",
       "    </tr>\n",
       "    <tr>\n",
       "      <td>4</td>\n",
       "      <td>nm0309470</td>\n",
       "      <td>1968</td>\n",
       "      <td>Golden Goblet</td>\n",
       "      <td>Winner</td>\n",
       "      <td>Best Actress (Migliore Attrice)</td>\n",
       "      <td>Grazie zia</td>\n",
       "      <td>tt0063033</td>\n",
       "    </tr>\n",
       "  </tbody>\n",
       "</table>\n",
       "</div>"
      ],
      "text/plain": [
       "      nconst  year       category      w_n  \\\n",
       "0  nm0309470  2005          David  Nominee   \n",
       "1  nm0309470  1968   Golden Plate   Winner   \n",
       "2  nm0309470  2005    Golden Ciak   Winner   \n",
       "3  nm0309470  1967   Golden Globe   Winner   \n",
       "4  nm0309470  1968  Golden Goblet   Winner   \n",
       "\n",
       "                                         description               movie  \\\n",
       "0  Best Supporting Actress (Migliore Attrice non ...         Cuore sacro   \n",
       "1                                                             Grazie zia   \n",
       "2  Best Supporting Actress (Migliore Attrice Non ...         Cuore sacro   \n",
       "3                    Best Actress (Migliore Attrice)  Svegliati e uccidi   \n",
       "4                    Best Actress (Migliore Attrice)          Grazie zia   \n",
       "\n",
       "      tconst  \n",
       "0  tt0429898  \n",
       "1  tt0063033  \n",
       "2  tt0429898  \n",
       "3  tt0061049  \n",
       "4  tt0063033  "
      ]
     },
     "execution_count": 8,
     "metadata": {},
     "output_type": "execute_result"
    }
   ],
   "source": [
    "actors_aw.head()"
   ]
  },
  {
   "cell_type": "code",
   "execution_count": 47,
   "metadata": {},
   "outputs": [],
   "source": [
    "movies=pd.DataFrame(pd.read_pickle('movies_subset.pkl'))"
   ]
  },
  {
   "cell_type": "code",
   "execution_count": 11,
   "metadata": {},
   "outputs": [
    {
     "data": {
      "text/html": [
       "<div>\n",
       "<style scoped>\n",
       "    .dataframe tbody tr th:only-of-type {\n",
       "        vertical-align: middle;\n",
       "    }\n",
       "\n",
       "    .dataframe tbody tr th {\n",
       "        vertical-align: top;\n",
       "    }\n",
       "\n",
       "    .dataframe thead th {\n",
       "        text-align: right;\n",
       "    }\n",
       "</style>\n",
       "<table border=\"1\" class=\"dataframe\">\n",
       "  <thead>\n",
       "    <tr style=\"text-align: right;\">\n",
       "      <th></th>\n",
       "      <th>tconst</th>\n",
       "      <th>stars</th>\n",
       "      <th>oscarWins</th>\n",
       "      <th>nominations</th>\n",
       "      <th>wins</th>\n",
       "      <th>releaseDate</th>\n",
       "      <th>releaseCountry</th>\n",
       "      <th>plotKeywords</th>\n",
       "      <th>budget</th>\n",
       "      <th>worldwideGross</th>\n",
       "      <th>metascore</th>\n",
       "      <th>musicProducer</th>\n",
       "    </tr>\n",
       "  </thead>\n",
       "  <tbody>\n",
       "    <tr>\n",
       "      <td>0</td>\n",
       "      <td>tt0014799</td>\n",
       "      <td>[nm0265550, nm0370407, nm0550195]</td>\n",
       "      <td>0</td>\n",
       "      <td>0</td>\n",
       "      <td>0</td>\n",
       "      <td>1924-05-31</td>\n",
       "      <td>UK</td>\n",
       "      <td>[]</td>\n",
       "      <td>None</td>\n",
       "      <td>None</td>\n",
       "      <td>None</td>\n",
       "      <td>None</td>\n",
       "    </tr>\n",
       "    <tr>\n",
       "      <td>1</td>\n",
       "      <td>tt0014843</td>\n",
       "      <td>[nm0427659, nm0107574, nm0421138]</td>\n",
       "      <td>0</td>\n",
       "      <td>0</td>\n",
       "      <td>0</td>\n",
       "      <td>1924-08-24</td>\n",
       "      <td>USA</td>\n",
       "      <td>[]</td>\n",
       "      <td>None</td>\n",
       "      <td>None</td>\n",
       "      <td>None</td>\n",
       "      <td>None</td>\n",
       "    </tr>\n",
       "    <tr>\n",
       "      <td>2</td>\n",
       "      <td>tt0014809</td>\n",
       "      <td>[nm0267916, nm0119572, nm0055809]</td>\n",
       "      <td>0</td>\n",
       "      <td>0</td>\n",
       "      <td>0</td>\n",
       "      <td>1924-04-08</td>\n",
       "      <td>USA</td>\n",
       "      <td>[]</td>\n",
       "      <td>None</td>\n",
       "      <td>None</td>\n",
       "      <td>None</td>\n",
       "      <td>None</td>\n",
       "    </tr>\n",
       "    <tr>\n",
       "      <td>3</td>\n",
       "      <td>tt0014751</td>\n",
       "      <td>[nm0403710, nm0744408]</td>\n",
       "      <td>0</td>\n",
       "      <td>0</td>\n",
       "      <td>0</td>\n",
       "      <td>None</td>\n",
       "      <td>None</td>\n",
       "      <td>[]</td>\n",
       "      <td>None</td>\n",
       "      <td>None</td>\n",
       "      <td>None</td>\n",
       "      <td>None</td>\n",
       "    </tr>\n",
       "    <tr>\n",
       "      <td>4</td>\n",
       "      <td>tt0014812</td>\n",
       "      <td>[nm0556953, nm0531962, nm0645941]</td>\n",
       "      <td>0</td>\n",
       "      <td>0</td>\n",
       "      <td>0</td>\n",
       "      <td>1924-12-28</td>\n",
       "      <td>USA</td>\n",
       "      <td>[]</td>\n",
       "      <td>None</td>\n",
       "      <td>None</td>\n",
       "      <td>None</td>\n",
       "      <td>None</td>\n",
       "    </tr>\n",
       "  </tbody>\n",
       "</table>\n",
       "</div>"
      ],
      "text/plain": [
       "      tconst                              stars  oscarWins  nominations  wins  \\\n",
       "0  tt0014799  [nm0265550, nm0370407, nm0550195]          0            0     0   \n",
       "1  tt0014843  [nm0427659, nm0107574, nm0421138]          0            0     0   \n",
       "2  tt0014809  [nm0267916, nm0119572, nm0055809]          0            0     0   \n",
       "3  tt0014751             [nm0403710, nm0744408]          0            0     0   \n",
       "4  tt0014812  [nm0556953, nm0531962, nm0645941]          0            0     0   \n",
       "\n",
       "  releaseDate releaseCountry plotKeywords budget worldwideGross metascore  \\\n",
       "0  1924-05-31             UK           []   None           None      None   \n",
       "1  1924-08-24            USA           []   None           None      None   \n",
       "2  1924-04-08            USA           []   None           None      None   \n",
       "3        None           None           []   None           None      None   \n",
       "4  1924-12-28            USA           []   None           None      None   \n",
       "\n",
       "  musicProducer  \n",
       "0          None  \n",
       "1          None  \n",
       "2          None  \n",
       "3          None  \n",
       "4          None  "
      ]
     },
     "execution_count": 11,
     "metadata": {},
     "output_type": "execute_result"
    }
   ],
   "source": [
    "movies.head()"
   ]
  },
  {
   "cell_type": "code",
   "execution_count": 12,
   "metadata": {},
   "outputs": [
    {
     "data": {
      "text/plain": [
       "(178117, 12)"
      ]
     },
     "execution_count": 12,
     "metadata": {},
     "output_type": "execute_result"
    }
   ],
   "source": [
    "movies.shape"
   ]
  },
  {
   "cell_type": "code",
   "execution_count": 146,
   "metadata": {},
   "outputs": [
    {
     "data": {
      "text/plain": [
       "Index(['tconst', 'stars', 'oscarWins', 'nominations', 'wins', 'releaseDate',\n",
       "       'releaseCountry', 'plotKeywords', 'budget', 'worldwideGross',\n",
       "       'metascore', 'musicProducer', 'Gain_loss', 'month', 'year'],\n",
       "      dtype='object')"
      ]
     },
     "execution_count": 146,
     "metadata": {},
     "output_type": "execute_result"
    }
   ],
   "source": [
    "movies.columns"
   ]
  },
  {
   "cell_type": "code",
   "execution_count": 15,
   "metadata": {},
   "outputs": [],
   "source": [
    "oscar_wins=movies[movies.oscarWins>=1]"
   ]
  },
  {
   "cell_type": "code",
   "execution_count": 16,
   "metadata": {},
   "outputs": [
    {
     "data": {
      "text/plain": [
       "265"
      ]
     },
     "execution_count": 16,
     "metadata": {},
     "output_type": "execute_result"
    }
   ],
   "source": [
    "len(oscar_wins)"
   ]
  },
  {
   "cell_type": "code",
   "execution_count": 26,
   "metadata": {},
   "outputs": [
    {
     "data": {
      "text/plain": [
       "tconst            object\n",
       "stars             object\n",
       "oscarWins          int64\n",
       "nominations        int64\n",
       "wins               int64\n",
       "releaseDate       object\n",
       "releaseCountry    object\n",
       "plotKeywords      object\n",
       "budget            object\n",
       "worldwideGross    object\n",
       "metascore         object\n",
       "musicProducer     object\n",
       "dtype: object"
      ]
     },
     "execution_count": 26,
     "metadata": {},
     "output_type": "execute_result"
    }
   ],
   "source": [
    "movies.dtypes "
   ]
  },
  {
   "cell_type": "code",
   "execution_count": 132,
   "metadata": {},
   "outputs": [
    {
     "data": {
      "text/plain": [
       "5"
      ]
     },
     "execution_count": 132,
     "metadata": {},
     "output_type": "execute_result"
    }
   ],
   "source": [
    "movies.iloc[0,5].month"
   ]
  },
  {
   "cell_type": "code",
   "execution_count": 75,
   "metadata": {},
   "outputs": [],
   "source": [
    "def rem_dollar(st):\n",
    "    if(st!=None):\n",
    "        return int(re.sub(r'[a-zA-Z,@\\'?\\.$%_]', '', st))"
   ]
  },
  {
   "cell_type": "code",
   "execution_count": 76,
   "metadata": {},
   "outputs": [],
   "source": [
    "movies.worldwideGross=movies.apply(lambda x:rem_dollar(x.worldwideGross), axis=1)"
   ]
  },
  {
   "cell_type": "code",
   "execution_count": 79,
   "metadata": {},
   "outputs": [
    {
     "data": {
      "text/plain": [
       "count    9.073000e+03\n",
       "mean     2.594221e+07\n",
       "std      7.784786e+07\n",
       "min      0.000000e+00\n",
       "25%      1.221210e+05\n",
       "50%      2.046433e+06\n",
       "75%      1.648735e+07\n",
       "max      2.187464e+09\n",
       "Name: worldwideGross, dtype: float64"
      ]
     },
     "execution_count": 79,
     "metadata": {},
     "output_type": "execute_result"
    }
   ],
   "source": [
    "movies.worldwideGross.describe()"
   ]
  },
  {
   "cell_type": "code",
   "execution_count": 94,
   "metadata": {},
   "outputs": [
    {
     "data": {
      "text/plain": [
       "<matplotlib.axes._subplots.AxesSubplot at 0x25650924648>"
      ]
     },
     "execution_count": 94,
     "metadata": {},
     "output_type": "execute_result"
    },
    {
     "data": {
      "image/png": "[encoded data removed]",
      "text/plain": [
       "<Figure size 432x288 with 1 Axes>"
      ]
     },
     "metadata": {
      "needs_background": "light"
     },
     "output_type": "display_data"
    }
   ],
   "source": [
    "np.log(movies.worldwideGross+0.001).hist(bins=30)"
   ]
  },
  {
   "cell_type": "code",
   "execution_count": 90,
   "metadata": {},
   "outputs": [],
   "source": [
    "movies.budget=movies.apply(lambda x: rem_dollar(x.budget),axis=1)"
   ]
  },
  {
   "cell_type": "code",
   "execution_count": 93,
   "metadata": {},
   "outputs": [
    {
     "data": {
      "text/plain": [
       "<matplotlib.axes._subplots.AxesSubplot at 0x25650561788>"
      ]
     },
     "execution_count": 93,
     "metadata": {},
     "output_type": "execute_result"
    },
    {
     "data": {
      "image/png": "[encoded data removed]",
      "text/plain": [
       "<Figure size 432x288 with 1 Axes>"
      ]
     },
     "metadata": {
      "needs_background": "light"
     },
     "output_type": "display_data"
    }
   ],
   "source": [
    "np.log(movies.budget+0.001).hist(bins=30)"
   ]
  },
  {
   "cell_type": "code",
   "execution_count": 120,
   "metadata": {},
   "outputs": [],
   "source": [
    "movies['Gain_loss']=movies.apply(lambda x: x.worldwideGross-x.budget,axis=1)"
   ]
  },
  {
   "cell_type": "code",
   "execution_count": 121,
   "metadata": {},
   "outputs": [
    {
     "data": {
      "text/plain": [
       "count    4.432000e+03\n",
       "mean     9.758234e+06\n",
       "std      5.495241e+08\n",
       "min     -2.999285e+10\n",
       "25%     -6.375574e+06\n",
       "50%     -4.349700e+04\n",
       "75%      2.215926e+07\n",
       "max      1.987464e+09\n",
       "dtype: float64"
      ]
     },
     "execution_count": 121,
     "metadata": {},
     "output_type": "execute_result"
    }
   ],
   "source": [
    "movies.Gain_loss.describe()"
   ]
  },
  {
   "cell_type": "code",
   "execution_count": 110,
   "metadata": {},
   "outputs": [],
   "source": [
    "def to_int(meta):\n",
    "    if(meta!=None):\n",
    "        return int(meta)"
   ]
  },
  {
   "cell_type": "code",
   "execution_count": 111,
   "metadata": {},
   "outputs": [],
   "source": [
    "movies.metascore=movies.apply(lambda x: to_int(x.metascore),axis=1)"
   ]
  },
  {
   "cell_type": "code",
   "execution_count": 112,
   "metadata": {},
   "outputs": [
    {
     "data": {
      "text/plain": [
       "count    4950.000000\n",
       "mean       57.622222\n",
       "std        18.594554\n",
       "min         1.000000\n",
       "25%        45.000000\n",
       "50%        59.000000\n",
       "75%        71.000000\n",
       "max       100.000000\n",
       "Name: metascore, dtype: float64"
      ]
     },
     "execution_count": 112,
     "metadata": {},
     "output_type": "execute_result"
    }
   ],
   "source": [
    "movies.metascore.describe()"
   ]
  },
  {
   "cell_type": "code",
   "execution_count": 129,
   "metadata": {},
   "outputs": [],
   "source": [
    "cor=movies.corr()"
   ]
  },
  {
   "cell_type": "code",
   "execution_count": 130,
   "metadata": {},
   "outputs": [
    {
     "data": {
      "text/plain": [
       "<matplotlib.axes._subplots.AxesSubplot at 0x2564daafe48>"
      ]
     },
     "execution_count": 130,
     "metadata": {},
     "output_type": "execute_result"
    },
    {
     "data": {
      "image/png": "[encoded data removed]",
      "text/plain": [
       "<Figure size 432x288 with 2 Axes>"
      ]
     },
     "metadata": {
      "needs_background": "light"
     },
     "output_type": "display_data"
    }
   ],
   "source": [
    "\n",
    "sns.heatmap(cor)\n"
   ]
  },
  {
   "cell_type": "code",
   "execution_count": 141,
   "metadata": {},
   "outputs": [],
   "source": [
    "def get_month(date):\n",
    "    if(date!=None):\n",
    "        return date.month"
   ]
  },
  {
   "cell_type": "code",
   "execution_count": 139,
   "metadata": {},
   "outputs": [],
   "source": [
    "def get_year(date):\n",
    "    if(date!=None):\n",
    "        return date.year"
   ]
  },
  {
   "cell_type": "code",
   "execution_count": 144,
   "metadata": {},
   "outputs": [],
   "source": [
    "movies['month'] =movies.apply(lambda x: get_month(x.releaseDate),axis=1).fillna(0)"
   ]
  },
  {
   "cell_type": "code",
   "execution_count": 143,
   "metadata": {},
   "outputs": [],
   "source": [
    "movies['year'] =movies.apply(lambda x: get_year(x.releaseDate),axis=1).fillna(0)"
   ]
  },
  {
   "cell_type": "code",
   "execution_count": 162,
   "metadata": {},
   "outputs": [],
   "source": [
    "year_month=movies.groupby(['month','year']).sum()"
   ]
  },
  {
   "cell_type": "code",
   "execution_count": 181,
   "metadata": {},
   "outputs": [],
   "source": [
    "df=year_month.pivot_table(index='month',columns='year',values='oscarWins').fillna(0)"
   ]
  },
  {
   "cell_type": "code",
   "execution_count": 182,
   "metadata": {},
   "outputs": [],
   "source": [
    "oscars_heat=df.iloc[1:,35:]"
   ]
  },
  {
   "cell_type": "code",
   "execution_count": 183,
   "metadata": {},
   "outputs": [
    {
     "data": {
      "text/html": [
       "<div>\n",
       "<style scoped>\n",
       "    .dataframe tbody tr th:only-of-type {\n",
       "        vertical-align: middle;\n",
       "    }\n",
       "\n",
       "    .dataframe tbody tr th {\n",
       "        vertical-align: top;\n",
       "    }\n",
       "\n",
       "    .dataframe thead th {\n",
       "        text-align: right;\n",
       "    }\n",
       "</style>\n",
       "<table border=\"1\" class=\"dataframe\">\n",
       "  <thead>\n",
       "    <tr style=\"text-align: right;\">\n",
       "      <th>year</th>\n",
       "      <th>1932.0</th>\n",
       "      <th>1933.0</th>\n",
       "      <th>1934.0</th>\n",
       "      <th>1935.0</th>\n",
       "      <th>1936.0</th>\n",
       "      <th>1937.0</th>\n",
       "      <th>1938.0</th>\n",
       "      <th>1939.0</th>\n",
       "      <th>1940.0</th>\n",
       "      <th>1941.0</th>\n",
       "      <th>...</th>\n",
       "      <th>2011.0</th>\n",
       "      <th>2012.0</th>\n",
       "      <th>2013.0</th>\n",
       "      <th>2014.0</th>\n",
       "      <th>2015.0</th>\n",
       "      <th>2016.0</th>\n",
       "      <th>2017.0</th>\n",
       "      <th>2018.0</th>\n",
       "      <th>2019.0</th>\n",
       "      <th>2021.0</th>\n",
       "    </tr>\n",
       "    <tr>\n",
       "      <th>month</th>\n",
       "      <th></th>\n",
       "      <th></th>\n",
       "      <th></th>\n",
       "      <th></th>\n",
       "      <th></th>\n",
       "      <th></th>\n",
       "      <th></th>\n",
       "      <th></th>\n",
       "      <th></th>\n",
       "      <th></th>\n",
       "      <th></th>\n",
       "      <th></th>\n",
       "      <th></th>\n",
       "      <th></th>\n",
       "      <th></th>\n",
       "      <th></th>\n",
       "      <th></th>\n",
       "      <th></th>\n",
       "      <th></th>\n",
       "      <th></th>\n",
       "      <th></th>\n",
       "    </tr>\n",
       "  </thead>\n",
       "  <tbody>\n",
       "    <tr>\n",
       "      <td>1.0</td>\n",
       "      <td>0.0</td>\n",
       "      <td>0.0</td>\n",
       "      <td>0.0</td>\n",
       "      <td>0.0</td>\n",
       "      <td>0.0</td>\n",
       "      <td>0.0</td>\n",
       "      <td>0.0</td>\n",
       "      <td>0.0</td>\n",
       "      <td>8.0</td>\n",
       "      <td>2.0</td>\n",
       "      <td>...</td>\n",
       "      <td>0.0</td>\n",
       "      <td>0.0</td>\n",
       "      <td>0.0</td>\n",
       "      <td>0.0</td>\n",
       "      <td>0.0</td>\n",
       "      <td>0.0</td>\n",
       "      <td>0.0</td>\n",
       "      <td>0.0</td>\n",
       "      <td>0.0</td>\n",
       "      <td>0.0</td>\n",
       "    </tr>\n",
       "    <tr>\n",
       "      <td>2.0</td>\n",
       "      <td>0.0</td>\n",
       "      <td>0.0</td>\n",
       "      <td>0.0</td>\n",
       "      <td>5.0</td>\n",
       "      <td>0.0</td>\n",
       "      <td>0.0</td>\n",
       "      <td>0.0</td>\n",
       "      <td>0.0</td>\n",
       "      <td>2.0</td>\n",
       "      <td>0.0</td>\n",
       "      <td>...</td>\n",
       "      <td>0.0</td>\n",
       "      <td>0.0</td>\n",
       "      <td>0.0</td>\n",
       "      <td>0.0</td>\n",
       "      <td>0.0</td>\n",
       "      <td>0.0</td>\n",
       "      <td>0.0</td>\n",
       "      <td>0.0</td>\n",
       "      <td>0.0</td>\n",
       "      <td>0.0</td>\n",
       "    </tr>\n",
       "    <tr>\n",
       "      <td>3.0</td>\n",
       "      <td>0.0</td>\n",
       "      <td>0.0</td>\n",
       "      <td>0.0</td>\n",
       "      <td>2.0</td>\n",
       "      <td>0.0</td>\n",
       "      <td>0.0</td>\n",
       "      <td>2.0</td>\n",
       "      <td>2.0</td>\n",
       "      <td>2.0</td>\n",
       "      <td>0.0</td>\n",
       "      <td>...</td>\n",
       "      <td>0.0</td>\n",
       "      <td>0.0</td>\n",
       "      <td>0.0</td>\n",
       "      <td>0.0</td>\n",
       "      <td>0.0</td>\n",
       "      <td>0.0</td>\n",
       "      <td>0.0</td>\n",
       "      <td>0.0</td>\n",
       "      <td>0.0</td>\n",
       "      <td>0.0</td>\n",
       "    </tr>\n",
       "    <tr>\n",
       "      <td>4.0</td>\n",
       "      <td>0.0</td>\n",
       "      <td>3.0</td>\n",
       "      <td>0.0</td>\n",
       "      <td>0.0</td>\n",
       "      <td>3.0</td>\n",
       "      <td>0.0</td>\n",
       "      <td>2.0</td>\n",
       "      <td>0.0</td>\n",
       "      <td>2.0</td>\n",
       "      <td>0.0</td>\n",
       "      <td>...</td>\n",
       "      <td>0.0</td>\n",
       "      <td>0.0</td>\n",
       "      <td>0.0</td>\n",
       "      <td>0.0</td>\n",
       "      <td>0.0</td>\n",
       "      <td>0.0</td>\n",
       "      <td>0.0</td>\n",
       "      <td>0.0</td>\n",
       "      <td>0.0</td>\n",
       "      <td>0.0</td>\n",
       "    </tr>\n",
       "    <tr>\n",
       "      <td>5.0</td>\n",
       "      <td>0.0</td>\n",
       "      <td>0.0</td>\n",
       "      <td>0.0</td>\n",
       "      <td>0.0</td>\n",
       "      <td>0.0</td>\n",
       "      <td>0.0</td>\n",
       "      <td>3.0</td>\n",
       "      <td>0.0</td>\n",
       "      <td>0.0</td>\n",
       "      <td>0.0</td>\n",
       "      <td>...</td>\n",
       "      <td>0.0</td>\n",
       "      <td>0.0</td>\n",
       "      <td>0.0</td>\n",
       "      <td>0.0</td>\n",
       "      <td>0.0</td>\n",
       "      <td>0.0</td>\n",
       "      <td>0.0</td>\n",
       "      <td>0.0</td>\n",
       "      <td>0.0</td>\n",
       "      <td>0.0</td>\n",
       "    </tr>\n",
       "  </tbody>\n",
       "</table>\n",
       "<p>5 rows × 89 columns</p>\n",
       "</div>"
      ],
      "text/plain": [
       "year   1932.0  1933.0  1934.0  1935.0  1936.0  1937.0  1938.0  1939.0  1940.0  \\\n",
       "month                                                                           \n",
       "1.0       0.0     0.0     0.0     0.0     0.0     0.0     0.0     0.0     8.0   \n",
       "2.0       0.0     0.0     0.0     5.0     0.0     0.0     0.0     0.0     2.0   \n",
       "3.0       0.0     0.0     0.0     2.0     0.0     0.0     2.0     2.0     2.0   \n",
       "4.0       0.0     3.0     0.0     0.0     3.0     0.0     2.0     0.0     2.0   \n",
       "5.0       0.0     0.0     0.0     0.0     0.0     0.0     3.0     0.0     0.0   \n",
       "\n",
       "year   1941.0  ...  2011.0  2012.0  2013.0  2014.0  2015.0  2016.0  2017.0  \\\n",
       "month          ...                                                           \n",
       "1.0       2.0  ...     0.0     0.0     0.0     0.0     0.0     0.0     0.0   \n",
       "2.0       0.0  ...     0.0     0.0     0.0     0.0     0.0     0.0     0.0   \n",
       "3.0       0.0  ...     0.0     0.0     0.0     0.0     0.0     0.0     0.0   \n",
       "4.0       0.0  ...     0.0     0.0     0.0     0.0     0.0     0.0     0.0   \n",
       "5.0       0.0  ...     0.0     0.0     0.0     0.0     0.0     0.0     0.0   \n",
       "\n",
       "year   2018.0  2019.0  2021.0  \n",
       "month                          \n",
       "1.0       0.0     0.0     0.0  \n",
       "2.0       0.0     0.0     0.0  \n",
       "3.0       0.0     0.0     0.0  \n",
       "4.0       0.0     0.0     0.0  \n",
       "5.0       0.0     0.0     0.0  \n",
       "\n",
       "[5 rows x 89 columns]"
      ]
     },
     "execution_count": 183,
     "metadata": {},
     "output_type": "execute_result"
    }
   ],
   "source": [
    "oscars_heat.head()\n"
   ]
  },
  {
   "cell_type": "code",
   "execution_count": 189,
   "metadata": {},
   "outputs": [
    {
     "data": {
      "text/plain": [
       "Text(0.5, 1, 'Number of oscar wining movies subject to the release date')"
      ]
     },
     "execution_count": 189,
     "metadata": {},
     "output_type": "execute_result"
    },
    {
     "data": {
      "image/png": "[encoded data removed]",
      "text/plain": [
       "<Figure size 1152x720 with 2 Axes>"
      ]
     },
     "metadata": {
      "needs_background": "light"
     },
     "output_type": "display_data"
    }
   ],
   "source": [
    "fig, ax = plt.subplots(figsize=(16,10)) \n",
    "sns.heatmap(oscars_heat,ax=ax)\n",
    "plt.title('Number of oscar wining movies subject to the release date')"
   ]
  },
  {
   "cell_type": "code",
   "execution_count": 191,
   "metadata": {},
   "outputs": [
    {
     "data": {
      "text/html": [
       "<div>\n",
       "<style scoped>\n",
       "    .dataframe tbody tr th:only-of-type {\n",
       "        vertical-align: middle;\n",
       "    }\n",
       "\n",
       "    .dataframe tbody tr th {\n",
       "        vertical-align: top;\n",
       "    }\n",
       "\n",
       "    .dataframe thead th {\n",
       "        text-align: right;\n",
       "    }\n",
       "</style>\n",
       "<table border=\"1\" class=\"dataframe\">\n",
       "  <thead>\n",
       "    <tr style=\"text-align: right;\">\n",
       "      <th>year</th>\n",
       "      <th>0.0</th>\n",
       "      <th>1920.0</th>\n",
       "      <th>1921.0</th>\n",
       "      <th>1923.0</th>\n",
       "      <th>1925.0</th>\n",
       "      <th>1927.0</th>\n",
       "      <th>1929.0</th>\n",
       "      <th>1930.0</th>\n",
       "      <th>1931.0</th>\n",
       "      <th>1932.0</th>\n",
       "      <th>...</th>\n",
       "      <th>2004.0</th>\n",
       "      <th>2005.0</th>\n",
       "      <th>2006.0</th>\n",
       "      <th>2007.0</th>\n",
       "      <th>2008.0</th>\n",
       "      <th>2009.0</th>\n",
       "      <th>2010.0</th>\n",
       "      <th>2012.0</th>\n",
       "      <th>2013.0</th>\n",
       "      <th>2016.0</th>\n",
       "    </tr>\n",
       "    <tr>\n",
       "      <th>month</th>\n",
       "      <th></th>\n",
       "      <th></th>\n",
       "      <th></th>\n",
       "      <th></th>\n",
       "      <th></th>\n",
       "      <th></th>\n",
       "      <th></th>\n",
       "      <th></th>\n",
       "      <th></th>\n",
       "      <th></th>\n",
       "      <th></th>\n",
       "      <th></th>\n",
       "      <th></th>\n",
       "      <th></th>\n",
       "      <th></th>\n",
       "      <th></th>\n",
       "      <th></th>\n",
       "      <th></th>\n",
       "      <th></th>\n",
       "      <th></th>\n",
       "      <th></th>\n",
       "    </tr>\n",
       "  </thead>\n",
       "  <tbody>\n",
       "    <tr>\n",
       "      <td>0.0</td>\n",
       "      <td>-1.819605e+06</td>\n",
       "      <td>0.0</td>\n",
       "      <td>0.0</td>\n",
       "      <td>0.0</td>\n",
       "      <td>0.0</td>\n",
       "      <td>0.0</td>\n",
       "      <td>0.0</td>\n",
       "      <td>0.0</td>\n",
       "      <td>0.0</td>\n",
       "      <td>0.0</td>\n",
       "      <td>...</td>\n",
       "      <td>0.000000e+00</td>\n",
       "      <td>0.000000e+00</td>\n",
       "      <td>0.0</td>\n",
       "      <td>0.000000e+00</td>\n",
       "      <td>0.0</td>\n",
       "      <td>0.0</td>\n",
       "      <td>0.0</td>\n",
       "      <td>0.0</td>\n",
       "      <td>0.0</td>\n",
       "      <td>0.0</td>\n",
       "    </tr>\n",
       "    <tr>\n",
       "      <td>1.0</td>\n",
       "      <td>0.000000e+00</td>\n",
       "      <td>0.0</td>\n",
       "      <td>0.0</td>\n",
       "      <td>0.0</td>\n",
       "      <td>0.0</td>\n",
       "      <td>0.0</td>\n",
       "      <td>-1999254.0</td>\n",
       "      <td>0.0</td>\n",
       "      <td>0.0</td>\n",
       "      <td>-522902.0</td>\n",
       "      <td>...</td>\n",
       "      <td>1.667451e+07</td>\n",
       "      <td>2.505642e+07</td>\n",
       "      <td>754480.0</td>\n",
       "      <td>-2.542582e+07</td>\n",
       "      <td>0.0</td>\n",
       "      <td>0.0</td>\n",
       "      <td>0.0</td>\n",
       "      <td>0.0</td>\n",
       "      <td>0.0</td>\n",
       "      <td>0.0</td>\n",
       "    </tr>\n",
       "    <tr>\n",
       "      <td>2.0</td>\n",
       "      <td>0.000000e+00</td>\n",
       "      <td>-9189.0</td>\n",
       "      <td>-223084.0</td>\n",
       "      <td>0.0</td>\n",
       "      <td>0.0</td>\n",
       "      <td>-2289514.5</td>\n",
       "      <td>0.0</td>\n",
       "      <td>0.0</td>\n",
       "      <td>-270242.0</td>\n",
       "      <td>-306535.0</td>\n",
       "      <td>...</td>\n",
       "      <td>3.978490e+07</td>\n",
       "      <td>-3.136748e+06</td>\n",
       "      <td>-3482431.0</td>\n",
       "      <td>3.395535e+07</td>\n",
       "      <td>-449467.0</td>\n",
       "      <td>64596398.0</td>\n",
       "      <td>0.0</td>\n",
       "      <td>0.0</td>\n",
       "      <td>-62879859.0</td>\n",
       "      <td>0.0</td>\n",
       "    </tr>\n",
       "    <tr>\n",
       "      <td>3.0</td>\n",
       "      <td>0.000000e+00</td>\n",
       "      <td>0.0</td>\n",
       "      <td>0.0</td>\n",
       "      <td>0.0</td>\n",
       "      <td>0.0</td>\n",
       "      <td>0.0</td>\n",
       "      <td>0.0</td>\n",
       "      <td>0.0</td>\n",
       "      <td>-1467391.0</td>\n",
       "      <td>0.0</td>\n",
       "      <td>...</td>\n",
       "      <td>1.572008e+07</td>\n",
       "      <td>4.985983e+06</td>\n",
       "      <td>-7848131.0</td>\n",
       "      <td>0.000000e+00</td>\n",
       "      <td>44828421.0</td>\n",
       "      <td>0.0</td>\n",
       "      <td>0.0</td>\n",
       "      <td>0.0</td>\n",
       "      <td>0.0</td>\n",
       "      <td>0.0</td>\n",
       "    </tr>\n",
       "    <tr>\n",
       "      <td>4.0</td>\n",
       "      <td>0.000000e+00</td>\n",
       "      <td>0.0</td>\n",
       "      <td>0.0</td>\n",
       "      <td>0.0</td>\n",
       "      <td>0.0</td>\n",
       "      <td>0.0</td>\n",
       "      <td>0.0</td>\n",
       "      <td>0.0</td>\n",
       "      <td>0.0</td>\n",
       "      <td>0.0</td>\n",
       "      <td>...</td>\n",
       "      <td>8.051285e+06</td>\n",
       "      <td>-2.596400e+06</td>\n",
       "      <td>-97722393.0</td>\n",
       "      <td>-8.914222e+06</td>\n",
       "      <td>7038417.0</td>\n",
       "      <td>0.0</td>\n",
       "      <td>-969842.0</td>\n",
       "      <td>0.0</td>\n",
       "      <td>0.0</td>\n",
       "      <td>0.0</td>\n",
       "    </tr>\n",
       "  </tbody>\n",
       "</table>\n",
       "<p>5 rows × 90 columns</p>\n",
       "</div>"
      ],
      "text/plain": [
       "year         0.0     1920.0    1921.0  1923.0  1925.0     1927.0     1929.0  \\\n",
       "month                                                                         \n",
       "0.0   -1.819605e+06     0.0       0.0     0.0     0.0        0.0        0.0   \n",
       "1.0    0.000000e+00     0.0       0.0     0.0     0.0        0.0 -1999254.0   \n",
       "2.0    0.000000e+00 -9189.0 -223084.0     0.0     0.0 -2289514.5        0.0   \n",
       "3.0    0.000000e+00     0.0       0.0     0.0     0.0        0.0        0.0   \n",
       "4.0    0.000000e+00     0.0       0.0     0.0     0.0        0.0        0.0   \n",
       "\n",
       "year   1930.0     1931.0    1932.0  ...        2004.0        2005.0  \\\n",
       "month                               ...                               \n",
       "0.0       0.0        0.0       0.0  ...  0.000000e+00  0.000000e+00   \n",
       "1.0       0.0        0.0 -522902.0  ...  1.667451e+07  2.505642e+07   \n",
       "2.0       0.0  -270242.0 -306535.0  ...  3.978490e+07 -3.136748e+06   \n",
       "3.0       0.0 -1467391.0       0.0  ...  1.572008e+07  4.985983e+06   \n",
       "4.0       0.0        0.0       0.0  ...  8.051285e+06 -2.596400e+06   \n",
       "\n",
       "year       2006.0        2007.0      2008.0      2009.0    2010.0  2012.0  \\\n",
       "month                                                                       \n",
       "0.0           0.0  0.000000e+00         0.0         0.0       0.0     0.0   \n",
       "1.0      754480.0 -2.542582e+07         0.0         0.0       0.0     0.0   \n",
       "2.0    -3482431.0  3.395535e+07   -449467.0  64596398.0       0.0     0.0   \n",
       "3.0    -7848131.0  0.000000e+00  44828421.0         0.0       0.0     0.0   \n",
       "4.0   -97722393.0 -8.914222e+06   7038417.0         0.0 -969842.0     0.0   \n",
       "\n",
       "year       2013.0  2016.0  \n",
       "month                      \n",
       "0.0           0.0     0.0  \n",
       "1.0           0.0     0.0  \n",
       "2.0   -62879859.0     0.0  \n",
       "3.0           0.0     0.0  \n",
       "4.0           0.0     0.0  \n",
       "\n",
       "[5 rows x 90 columns]"
      ]
     },
     "execution_count": 191,
     "metadata": {},
     "output_type": "execute_result"
    }
   ],
   "source": [
    "year_month=movies.groupby(['month','year']).mean()\n",
    "revenue=year_month.pivot_table(index='month',columns='year',values='Gain_loss').fillna(0)\n",
    "revenue.head()"
   ]
  },
  {
   "cell_type": "code",
   "execution_count": 192,
   "metadata": {},
   "outputs": [],
   "source": [
    "revenu_heat=revenue.iloc[1:,35:]"
   ]
  },
  {
   "cell_type": "code",
   "execution_count": 194,
   "metadata": {},
   "outputs": [
    {
     "data": {
      "text/plain": [
       "Text(0.5, 1, 'aAerage Gain&Loss subject to the release date')"
      ]
     },
     "execution_count": 194,
     "metadata": {},
     "output_type": "execute_result"
    },
    {
     "data": {
      "image/png": "[encoded data removed]",
      "text/plain": [
       "<Figure size 1152x720 with 2 Axes>"
      ]
     },
     "metadata": {
      "needs_background": "light"
     },
     "output_type": "display_data"
    }
   ],
   "source": [
    "fig, ax = plt.subplots(figsize=(16,10)) \n",
    "sns.heatmap(revenu_heat,ax=ax)\n",
    "plt.title('Aerage Gain&Loss subject to the release date')"
   ]
  },
  {
   "cell_type": "code",
   "execution_count": null,
   "metadata": {},
   "outputs": [],
   "source": []
  }
 ],
 "metadata": {
  "kernelspec": {
   "display_name": "Python 3",
   "language": "python",
   "name": "python3"
  },
  "language_info": {
   "codemirror_mode": {
    "name": "ipython",
    "version": 3
   },
   "file_extension": ".py",
   "mimetype": "text/x-python",
   "name": "python",
   "nbconvert_exporter": "python",
   "pygments_lexer": "ipython3",
   "version": "3.7.4"
  }
 },
 "nbformat": 4,
 "nbformat_minor": 2
}
