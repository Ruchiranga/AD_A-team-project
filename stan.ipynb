{
 "cells": [
  {
   "cell_type": "markdown",
   "metadata": {},
   "source": [
    "# Age"
   ]
  },
  {
   "cell_type": "code",
   "execution_count": 354,
   "metadata": {},
   "outputs": [],
   "source": [
    "import pandas as pd\n",
    "import numpy as np\n",
    "import re\n",
    "import seaborn as sns\n",
    "import matplotlib.pyplot as plt\n",
    "from easymoney.money import EasyPeasy"
   ]
  },
  {
   "cell_type": "code",
   "execution_count": 2,
   "metadata": {},
   "outputs": [],
   "source": [
    "movies = pd.read_pickle('pickles/complete_movies.pkl')\n",
    "cast = pd.read_pickle('pickles/complete_cast.pkl')\n",
    "actors= pd.read_csv('data/name.basics.tsv.gz', sep='\\t')\n",
    "\n",
    "movies_file = pd.read_csv('data/title.basics.tsv', sep='\\t',na_values= '\\\\N')\n",
    "movies_file = movies_file[movies_file['titleType'] == 'movie']\n",
    "movies_file = movies_file.drop(['titleType', 'endYear'], axis=1)"
   ]
  },
  {
   "cell_type": "code",
   "execution_count": 3,
   "metadata": {},
   "outputs": [],
   "source": [
    "movies = movies.merge(movies_file, how='outer', on='tconst')"
   ]
  },
  {
   "cell_type": "markdown",
   "metadata": {},
   "source": [
    "### Just checking if the year from the scraping and the files are the same"
   ]
  },
  {
   "cell_type": "code",
   "execution_count": 4,
   "metadata": {},
   "outputs": [],
   "source": [
    "date_to_year = [lambda x: np.nan if (x == None) else x.year]\n",
    "movies['testYear'] = movies['releaseDate'].apply(date_to_year)"
   ]
  },
  {
   "cell_type": "code",
   "execution_count": 5,
   "metadata": {},
   "outputs": [],
   "source": [
    "diffs = (movies['testYear'] - movies['startYear'])"
   ]
  },
  {
   "cell_type": "code",
   "execution_count": 6,
   "metadata": {},
   "outputs": [
    {
     "data": {
      "text/plain": [
       "232203"
      ]
     },
     "execution_count": 6,
     "metadata": {},
     "output_type": "execute_result"
    }
   ],
   "source": [
    "(diffs.isna()).sum()"
   ]
  },
  {
   "cell_type": "code",
   "execution_count": 7,
   "metadata": {},
   "outputs": [
    {
     "data": {
      "text/plain": [
       "264842"
      ]
     },
     "execution_count": 7,
     "metadata": {},
     "output_type": "execute_result"
    }
   ],
   "source": [
    "(diffs != 0.0).sum()"
   ]
  },
  {
   "cell_type": "code",
   "execution_count": 8,
   "metadata": {},
   "outputs": [
    {
     "name": "stdout",
     "output_type": "stream",
     "text": [
      "There is 32639 movies where the scraped year is not the same is in the files\n"
     ]
    }
   ],
   "source": [
    "print('There is {} movies where the scraped year is not the same is in the files'\\\n",
    "      .format((diffs != 0.0).sum()-(diffs.isna()).sum()))"
   ]
  },
  {
   "cell_type": "code",
   "execution_count": 9,
   "metadata": {},
   "outputs": [
    {
     "data": {
      "image/png": "[encoded data removed]",
      "text/plain": [
       "<Figure size 432x288 with 1 Axes>"
      ]
     },
     "metadata": {
      "needs_background": "light"
     },
     "output_type": "display_data"
    }
   ],
   "source": [
    "plt.hist(diffs[~np.isnan(diffs)], bins = 200);\n",
    "plt.yscale('log', nonposy='clip')"
   ]
  },
  {
   "cell_type": "markdown",
   "metadata": {},
   "source": [
    "### We use the scraped cast, the scraped movies and the movie files to get an average age of each cast "
   ]
  },
  {
   "cell_type": "code",
   "execution_count": 76,
   "metadata": {},
   "outputs": [],
   "source": [
    "def split_profession(str):\n",
    "    return str.split(',')"
   ]
  },
  {
   "cell_type": "code",
   "execution_count": 77,
   "metadata": {},
   "outputs": [],
   "source": [
    "people_df = pd.read_csv('./data/name.basics.tsv.gz', sep='\\t', converters={'primaryProfession': split_profession},\\\n",
    "                        na_values= '\\\\N')"
   ]
  },
  {
   "cell_type": "code",
   "execution_count": 78,
   "metadata": {},
   "outputs": [],
   "source": [
    "people_df = people_df.explode('primaryProfession')"
   ]
  },
  {
   "cell_type": "code",
   "execution_count": 79,
   "metadata": {},
   "outputs": [],
   "source": [
    "#people_df = people_df[(people_df['primaryProfession'] == 'actor') | (people_df['primaryProfession'] == 'actress')]"
   ]
  },
  {
   "cell_type": "code",
   "execution_count": 80,
   "metadata": {},
   "outputs": [],
   "source": [
    "cast = pd.read_pickle('complete_cast.pkl')"
   ]
  },
  {
   "cell_type": "code",
   "execution_count": 81,
   "metadata": {},
   "outputs": [],
   "source": [
    "cast = cast.explode('cast')"
   ]
  },
  {
   "cell_type": "code",
   "execution_count": 82,
   "metadata": {},
   "outputs": [],
   "source": [
    "people_df_year = people_df.drop(['primaryName', 'deathYear', 'primaryProfession', 'knownForTitles'], axis=1)"
   ]
  },
  {
   "cell_type": "code",
   "execution_count": 83,
   "metadata": {},
   "outputs": [],
   "source": [
    "cast = cast.merge(people_df_year, how='inner', left_on = 'cast', right_on = 'nconst')"
   ]
  },
  {
   "cell_type": "code",
   "execution_count": 84,
   "metadata": {},
   "outputs": [],
   "source": [
    "movies['Year'] = np.where(np.isnan(movies['startYear']), movies['testYear'], movies['startYear'])"
   ]
  },
  {
   "cell_type": "code",
   "execution_count": 85,
   "metadata": {},
   "outputs": [],
   "source": [
    "movies_year = movies[['tconst', 'Year']]"
   ]
  },
  {
   "cell_type": "code",
   "execution_count": 86,
   "metadata": {},
   "outputs": [],
   "source": [
    "cast = cast.merge(movies_year, how='inner', on = 'tconst')"
   ]
  },
  {
   "cell_type": "markdown",
   "metadata": {},
   "source": [
    "There is a lot of duplicates after all those merges"
   ]
  },
  {
   "cell_type": "code",
   "execution_count": 87,
   "metadata": {},
   "outputs": [
    {
     "data": {
      "text/plain": [
       "0"
      ]
     },
     "execution_count": 87,
     "metadata": {},
     "output_type": "execute_result"
    }
   ],
   "source": [
    "cast['cast'].isna().sum()"
   ]
  },
  {
   "cell_type": "code",
   "execution_count": 88,
   "metadata": {},
   "outputs": [
    {
     "data": {
      "text/plain": [
       "0"
      ]
     },
     "execution_count": 88,
     "metadata": {},
     "output_type": "execute_result"
    }
   ],
   "source": [
    "cast['tconst'].isna().sum()"
   ]
  },
  {
   "cell_type": "code",
   "execution_count": 89,
   "metadata": {},
   "outputs": [
    {
     "data": {
      "text/plain": [
       "4120666"
      ]
     },
     "execution_count": 89,
     "metadata": {},
     "output_type": "execute_result"
    }
   ],
   "source": [
    "(cast[['tconst', 'cast']].duplicated()).sum()"
   ]
  },
  {
   "cell_type": "code",
   "execution_count": 90,
   "metadata": {},
   "outputs": [],
   "source": [
    "cast = cast.drop_duplicates(subset=['tconst', 'cast'])"
   ]
  },
  {
   "cell_type": "markdown",
   "metadata": {},
   "source": [
    "###### We remove the obvious outliers like birthYear < 1800"
   ]
  },
  {
   "cell_type": "code",
   "execution_count": 91,
   "metadata": {},
   "outputs": [],
   "source": [
    "cast['birthYear'] = np.where(cast['birthYear'] < 1800, np.nan, cast['birthYear'])"
   ]
  },
  {
   "cell_type": "code",
   "execution_count": 92,
   "metadata": {},
   "outputs": [],
   "source": [
    "cast['Age'] = cast['Year'] - cast['birthYear']"
   ]
  },
  {
   "cell_type": "code",
   "execution_count": 93,
   "metadata": {},
   "outputs": [],
   "source": [
    "ages = cast['Age'].values"
   ]
  },
  {
   "cell_type": "code",
   "execution_count": 94,
   "metadata": {},
   "outputs": [
    {
     "data": {
      "text/plain": [
       "530"
      ]
     },
     "execution_count": 94,
     "metadata": {},
     "output_type": "execute_result"
    }
   ],
   "source": [
    "(cast['Age'] < 0).sum()"
   ]
  },
  {
   "cell_type": "code",
   "execution_count": 95,
   "metadata": {},
   "outputs": [
    {
     "data": {
      "text/plain": [
       "6737"
      ]
     },
     "execution_count": 95,
     "metadata": {},
     "output_type": "execute_result"
    }
   ],
   "source": [
    "(cast['Age'] > 100).sum()"
   ]
  },
  {
   "cell_type": "code",
   "execution_count": 96,
   "metadata": {},
   "outputs": [
    {
     "data": {
      "text/html": [
       "<div>\n",
       "<style scoped>\n",
       "    .dataframe tbody tr th:only-of-type {\n",
       "        vertical-align: middle;\n",
       "    }\n",
       "\n",
       "    .dataframe tbody tr th {\n",
       "        vertical-align: top;\n",
       "    }\n",
       "\n",
       "    .dataframe thead th {\n",
       "        text-align: right;\n",
       "    }\n",
       "</style>\n",
       "<table border=\"1\" class=\"dataframe\">\n",
       "  <thead>\n",
       "    <tr style=\"text-align: right;\">\n",
       "      <th></th>\n",
       "      <th>tconst</th>\n",
       "      <th>cast</th>\n",
       "      <th>count</th>\n",
       "      <th>nconst</th>\n",
       "      <th>birthYear</th>\n",
       "      <th>Year</th>\n",
       "      <th>Age</th>\n",
       "    </tr>\n",
       "  </thead>\n",
       "  <tbody>\n",
       "    <tr>\n",
       "      <th>68268</th>\n",
       "      <td>tt0447263</td>\n",
       "      <td>nm1294583</td>\n",
       "      <td>11</td>\n",
       "      <td>nm1294583</td>\n",
       "      <td>1962.0</td>\n",
       "      <td>1960.0</td>\n",
       "      <td>-2.0</td>\n",
       "    </tr>\n",
       "    <tr>\n",
       "      <th>88066</th>\n",
       "      <td>tt0104252</td>\n",
       "      <td>nm0572986</td>\n",
       "      <td>52</td>\n",
       "      <td>nm0572986</td>\n",
       "      <td>1992.0</td>\n",
       "      <td>1991.0</td>\n",
       "      <td>-1.0</td>\n",
       "    </tr>\n",
       "    <tr>\n",
       "      <th>113164</th>\n",
       "      <td>tt0071673</td>\n",
       "      <td>nm1013094</td>\n",
       "      <td>26</td>\n",
       "      <td>nm1013094</td>\n",
       "      <td>1977.0</td>\n",
       "      <td>1974.0</td>\n",
       "      <td>-3.0</td>\n",
       "    </tr>\n",
       "    <tr>\n",
       "      <th>122850</th>\n",
       "      <td>tt0273315</td>\n",
       "      <td>nm0951004</td>\n",
       "      <td>20</td>\n",
       "      <td>nm0951004</td>\n",
       "      <td>1969.0</td>\n",
       "      <td>1966.0</td>\n",
       "      <td>-3.0</td>\n",
       "    </tr>\n",
       "    <tr>\n",
       "      <th>144939</th>\n",
       "      <td>tt8761880</td>\n",
       "      <td>nm1001002</td>\n",
       "      <td>3</td>\n",
       "      <td>nm1001002</td>\n",
       "      <td>1985.0</td>\n",
       "      <td>1970.0</td>\n",
       "      <td>-15.0</td>\n",
       "    </tr>\n",
       "    <tr>\n",
       "      <th>...</th>\n",
       "      <td>...</td>\n",
       "      <td>...</td>\n",
       "      <td>...</td>\n",
       "      <td>...</td>\n",
       "      <td>...</td>\n",
       "      <td>...</td>\n",
       "      <td>...</td>\n",
       "    </tr>\n",
       "    <tr>\n",
       "      <th>10646958</th>\n",
       "      <td>tt0015667</td>\n",
       "      <td>nm0317854</td>\n",
       "      <td>4</td>\n",
       "      <td>nm0317854</td>\n",
       "      <td>1977.0</td>\n",
       "      <td>1926.0</td>\n",
       "      <td>-51.0</td>\n",
       "    </tr>\n",
       "    <tr>\n",
       "      <th>10651352</th>\n",
       "      <td>tt8763656</td>\n",
       "      <td>nm1001035</td>\n",
       "      <td>1</td>\n",
       "      <td>nm1001035</td>\n",
       "      <td>1970.0</td>\n",
       "      <td>1965.0</td>\n",
       "      <td>-5.0</td>\n",
       "    </tr>\n",
       "    <tr>\n",
       "      <th>10731075</th>\n",
       "      <td>tt8771062</td>\n",
       "      <td>nm1001408</td>\n",
       "      <td>1</td>\n",
       "      <td>nm1001408</td>\n",
       "      <td>1979.0</td>\n",
       "      <td>1966.0</td>\n",
       "      <td>-13.0</td>\n",
       "    </tr>\n",
       "    <tr>\n",
       "      <th>10786228</th>\n",
       "      <td>tt0064634</td>\n",
       "      <td>nm1093879</td>\n",
       "      <td>3</td>\n",
       "      <td>nm1093879</td>\n",
       "      <td>1986.0</td>\n",
       "      <td>1969.0</td>\n",
       "      <td>-17.0</td>\n",
       "    </tr>\n",
       "    <tr>\n",
       "      <th>10786304</th>\n",
       "      <td>tt9669264</td>\n",
       "      <td>nm1043056</td>\n",
       "      <td>1</td>\n",
       "      <td>nm1043056</td>\n",
       "      <td>1981.0</td>\n",
       "      <td>1974.0</td>\n",
       "      <td>-7.0</td>\n",
       "    </tr>\n",
       "  </tbody>\n",
       "</table>\n",
       "<p>530 rows × 7 columns</p>\n",
       "</div>"
      ],
      "text/plain": [
       "             tconst       cast  count     nconst  birthYear    Year   Age\n",
       "68268     tt0447263  nm1294583     11  nm1294583     1962.0  1960.0  -2.0\n",
       "88066     tt0104252  nm0572986     52  nm0572986     1992.0  1991.0  -1.0\n",
       "113164    tt0071673  nm1013094     26  nm1013094     1977.0  1974.0  -3.0\n",
       "122850    tt0273315  nm0951004     20  nm0951004     1969.0  1966.0  -3.0\n",
       "144939    tt8761880  nm1001002      3  nm1001002     1985.0  1970.0 -15.0\n",
       "...             ...        ...    ...        ...        ...     ...   ...\n",
       "10646958  tt0015667  nm0317854      4  nm0317854     1977.0  1926.0 -51.0\n",
       "10651352  tt8763656  nm1001035      1  nm1001035     1970.0  1965.0  -5.0\n",
       "10731075  tt8771062  nm1001408      1  nm1001408     1979.0  1966.0 -13.0\n",
       "10786228  tt0064634  nm1093879      3  nm1093879     1986.0  1969.0 -17.0\n",
       "10786304  tt9669264  nm1043056      1  nm1043056     1981.0  1974.0  -7.0\n",
       "\n",
       "[530 rows x 7 columns]"
      ]
     },
     "execution_count": 96,
     "metadata": {},
     "output_type": "execute_result"
    }
   ],
   "source": [
    "cast[cast['Age'] < 0]"
   ]
  },
  {
   "cell_type": "code",
   "execution_count": 97,
   "metadata": {},
   "outputs": [
    {
     "data": {
      "text/html": [
       "<div>\n",
       "<style scoped>\n",
       "    .dataframe tbody tr th:only-of-type {\n",
       "        vertical-align: middle;\n",
       "    }\n",
       "\n",
       "    .dataframe tbody tr th {\n",
       "        vertical-align: top;\n",
       "    }\n",
       "\n",
       "    .dataframe thead th {\n",
       "        text-align: right;\n",
       "    }\n",
       "</style>\n",
       "<table border=\"1\" class=\"dataframe\">\n",
       "  <thead>\n",
       "    <tr style=\"text-align: right;\">\n",
       "      <th></th>\n",
       "      <th>tconst</th>\n",
       "      <th>cast</th>\n",
       "      <th>count</th>\n",
       "      <th>nconst</th>\n",
       "      <th>birthYear</th>\n",
       "      <th>Year</th>\n",
       "      <th>Age</th>\n",
       "    </tr>\n",
       "  </thead>\n",
       "  <tbody>\n",
       "    <tr>\n",
       "      <th>7022</th>\n",
       "      <td>tt8885602</td>\n",
       "      <td>nm1006813</td>\n",
       "      <td>6</td>\n",
       "      <td>nm1006813</td>\n",
       "      <td>1881.0</td>\n",
       "      <td>2011.0</td>\n",
       "      <td>130.0</td>\n",
       "    </tr>\n",
       "    <tr>\n",
       "      <th>25937</th>\n",
       "      <td>tt0118694</td>\n",
       "      <td>nm0208540</td>\n",
       "      <td>16</td>\n",
       "      <td>nm0208540</td>\n",
       "      <td>1890.0</td>\n",
       "      <td>2000.0</td>\n",
       "      <td>110.0</td>\n",
       "    </tr>\n",
       "    <tr>\n",
       "      <th>40435</th>\n",
       "      <td>tt3180122</td>\n",
       "      <td>nm0855602</td>\n",
       "      <td>86</td>\n",
       "      <td>nm0855602</td>\n",
       "      <td>1912.0</td>\n",
       "      <td>2017.0</td>\n",
       "      <td>105.0</td>\n",
       "    </tr>\n",
       "    <tr>\n",
       "      <th>40461</th>\n",
       "      <td>tt3180122</td>\n",
       "      <td>nm0000060</td>\n",
       "      <td>86</td>\n",
       "      <td>nm0000060</td>\n",
       "      <td>1916.0</td>\n",
       "      <td>2017.0</td>\n",
       "      <td>101.0</td>\n",
       "    </tr>\n",
       "    <tr>\n",
       "      <th>40485</th>\n",
       "      <td>tt3180122</td>\n",
       "      <td>nm0580565</td>\n",
       "      <td>86</td>\n",
       "      <td>nm0580565</td>\n",
       "      <td>1907.0</td>\n",
       "      <td>2017.0</td>\n",
       "      <td>110.0</td>\n",
       "    </tr>\n",
       "    <tr>\n",
       "      <th>...</th>\n",
       "      <td>...</td>\n",
       "      <td>...</td>\n",
       "      <td>...</td>\n",
       "      <td>...</td>\n",
       "      <td>...</td>\n",
       "      <td>...</td>\n",
       "      <td>...</td>\n",
       "    </tr>\n",
       "    <tr>\n",
       "      <th>10793739</th>\n",
       "      <td>tt8237250</td>\n",
       "      <td>nm1013661</td>\n",
       "      <td>1</td>\n",
       "      <td>nm1013661</td>\n",
       "      <td>1890.0</td>\n",
       "      <td>2018.0</td>\n",
       "      <td>128.0</td>\n",
       "    </tr>\n",
       "    <tr>\n",
       "      <th>10794325</th>\n",
       "      <td>tt6714954</td>\n",
       "      <td>nm1057706</td>\n",
       "      <td>5</td>\n",
       "      <td>nm1057706</td>\n",
       "      <td>1892.0</td>\n",
       "      <td>2019.0</td>\n",
       "      <td>127.0</td>\n",
       "    </tr>\n",
       "    <tr>\n",
       "      <th>10795797</th>\n",
       "      <td>tt11090844</td>\n",
       "      <td>nm0046035</td>\n",
       "      <td>1</td>\n",
       "      <td>nm0046035</td>\n",
       "      <td>1910.0</td>\n",
       "      <td>2013.0</td>\n",
       "      <td>103.0</td>\n",
       "    </tr>\n",
       "    <tr>\n",
       "      <th>10795834</th>\n",
       "      <td>tt11112696</td>\n",
       "      <td>nm1105325</td>\n",
       "      <td>1</td>\n",
       "      <td>nm1105325</td>\n",
       "      <td>1886.0</td>\n",
       "      <td>2019.0</td>\n",
       "      <td>133.0</td>\n",
       "    </tr>\n",
       "    <tr>\n",
       "      <th>10795893</th>\n",
       "      <td>tt8970568</td>\n",
       "      <td>nm1110431</td>\n",
       "      <td>1</td>\n",
       "      <td>nm1110431</td>\n",
       "      <td>1900.0</td>\n",
       "      <td>2018.0</td>\n",
       "      <td>118.0</td>\n",
       "    </tr>\n",
       "  </tbody>\n",
       "</table>\n",
       "<p>6737 rows × 7 columns</p>\n",
       "</div>"
      ],
      "text/plain": [
       "              tconst       cast  count     nconst  birthYear    Year    Age\n",
       "7022       tt8885602  nm1006813      6  nm1006813     1881.0  2011.0  130.0\n",
       "25937      tt0118694  nm0208540     16  nm0208540     1890.0  2000.0  110.0\n",
       "40435      tt3180122  nm0855602     86  nm0855602     1912.0  2017.0  105.0\n",
       "40461      tt3180122  nm0000060     86  nm0000060     1916.0  2017.0  101.0\n",
       "40485      tt3180122  nm0580565     86  nm0580565     1907.0  2017.0  110.0\n",
       "...              ...        ...    ...        ...        ...     ...    ...\n",
       "10793739   tt8237250  nm1013661      1  nm1013661     1890.0  2018.0  128.0\n",
       "10794325   tt6714954  nm1057706      5  nm1057706     1892.0  2019.0  127.0\n",
       "10795797  tt11090844  nm0046035      1  nm0046035     1910.0  2013.0  103.0\n",
       "10795834  tt11112696  nm1105325      1  nm1105325     1886.0  2019.0  133.0\n",
       "10795893   tt8970568  nm1110431      1  nm1110431     1900.0  2018.0  118.0\n",
       "\n",
       "[6737 rows x 7 columns]"
      ]
     },
     "execution_count": 97,
     "metadata": {},
     "output_type": "execute_result"
    }
   ],
   "source": [
    "cast[cast['Age'] > 100]"
   ]
  },
  {
   "cell_type": "code",
   "execution_count": 98,
   "metadata": {},
   "outputs": [
    {
     "data": {
      "image/png": "[encoded data removed]",
      "text/plain": [
       "<Figure size 432x288 with 1 Axes>"
      ]
     },
     "metadata": {
      "needs_background": "light"
     },
     "output_type": "display_data"
    }
   ],
   "source": [
    "ages = cast['Age'].values\n",
    "plt.hist(ages[~np.isnan(ages)], bins=100);\n",
    "plt.yscale('log', nonposy='clip')"
   ]
  },
  {
   "cell_type": "markdown",
   "metadata": {},
   "source": [
    "#### We use the median age of the cast instead of the mean and see if it gives credible results"
   ]
  },
  {
   "cell_type": "code",
   "execution_count": 377,
   "metadata": {},
   "outputs": [],
   "source": [
    "def custom_median(cast_age):\n",
    "    return np.median(cast_age[~np.isnan(cast_age)])\n",
    "\n",
    "def custom_mean(cast_age):\n",
    "    return np.mean(cast_age[~np.isnan(cast_age)])\n",
    "\n",
    "def cast_count(cast_age):\n",
    "    return len(cast_age[~np.isnan(cast_age)])"
   ]
  },
  {
   "cell_type": "code",
   "execution_count": 100,
   "metadata": {},
   "outputs": [
    {
     "name": "stderr",
     "output_type": "stream",
     "text": [
      "/anaconda3/lib/python3.6/site-packages/numpy/core/fromnumeric.py:3257: RuntimeWarning: Mean of empty slice.\n",
      "  out=out, **kwargs)\n",
      "/anaconda3/lib/python3.6/site-packages/numpy/core/_methods.py:161: RuntimeWarning: invalid value encountered in double_scalars\n",
      "  ret = ret.dtype.type(ret / rcount)\n"
     ]
    }
   ],
   "source": [
    "cast_ages = cast.groupby(['tconst'])['Age'].agg([custom_median, cast_count])"
   ]
  },
  {
   "cell_type": "code",
   "execution_count": 101,
   "metadata": {},
   "outputs": [
    {
     "data": {
      "text/html": [
       "<div>\n",
       "<style scoped>\n",
       "    .dataframe tbody tr th:only-of-type {\n",
       "        vertical-align: middle;\n",
       "    }\n",
       "\n",
       "    .dataframe tbody tr th {\n",
       "        vertical-align: top;\n",
       "    }\n",
       "\n",
       "    .dataframe thead th {\n",
       "        text-align: right;\n",
       "    }\n",
       "</style>\n",
       "<table border=\"1\" class=\"dataframe\">\n",
       "  <thead>\n",
       "    <tr style=\"text-align: right;\">\n",
       "      <th></th>\n",
       "      <th>custom_median</th>\n",
       "      <th>cast_count</th>\n",
       "    </tr>\n",
       "    <tr>\n",
       "      <th>tconst</th>\n",
       "      <th></th>\n",
       "      <th></th>\n",
       "    </tr>\n",
       "  </thead>\n",
       "  <tbody>\n",
       "    <tr>\n",
       "      <th>tt0000009</th>\n",
       "      <td>19.0</td>\n",
       "      <td>3.0</td>\n",
       "    </tr>\n",
       "    <tr>\n",
       "      <th>tt0000147</th>\n",
       "      <td>39.0</td>\n",
       "      <td>5.0</td>\n",
       "    </tr>\n",
       "    <tr>\n",
       "      <th>tt0000335</th>\n",
       "      <td>11.0</td>\n",
       "      <td>2.0</td>\n",
       "    </tr>\n",
       "    <tr>\n",
       "      <th>tt0000502</th>\n",
       "      <td>NaN</td>\n",
       "      <td>0.0</td>\n",
       "    </tr>\n",
       "    <tr>\n",
       "      <th>tt0000574</th>\n",
       "      <td>28.0</td>\n",
       "      <td>6.0</td>\n",
       "    </tr>\n",
       "  </tbody>\n",
       "</table>\n",
       "</div>"
      ],
      "text/plain": [
       "           custom_median  cast_count\n",
       "tconst                              \n",
       "tt0000009           19.0         3.0\n",
       "tt0000147           39.0         5.0\n",
       "tt0000335           11.0         2.0\n",
       "tt0000502            NaN         0.0\n",
       "tt0000574           28.0         6.0"
      ]
     },
     "execution_count": 101,
     "metadata": {},
     "output_type": "execute_result"
    }
   ],
   "source": [
    "cast_ages.head()"
   ]
  },
  {
   "cell_type": "code",
   "execution_count": 109,
   "metadata": {},
   "outputs": [
    {
     "data": {
      "image/png": "[encoded data removed]",
      "text/plain": [
       "<Figure size 432x288 with 1 Axes>"
      ]
     },
     "metadata": {
      "needs_background": "light"
     },
     "output_type": "display_data"
    }
   ],
   "source": [
    "plt.hist(cast_ages['cast_count'], bins=500);\n",
    "plt.yscale('log', nonposy='clip')"
   ]
  },
  {
   "cell_type": "markdown",
   "metadata": {},
   "source": [
    "We only take into the median where we have more than 10 persons in the cast"
   ]
  },
  {
   "cell_type": "code",
   "execution_count": 103,
   "metadata": {},
   "outputs": [],
   "source": [
    "cast_ages['credible_median'] = np.where(cast_ages['cast_count'] > 10, cast_ages['custom_median'], np.nan)"
   ]
  },
  {
   "cell_type": "code",
   "execution_count": 128,
   "metadata": {},
   "outputs": [
    {
     "data": {
      "image/png": "[encoded data removed]",
      "text/plain": [
       "<Figure size 432x288 with 1 Axes>"
      ]
     },
     "metadata": {
      "needs_background": "light"
     },
     "output_type": "display_data"
    }
   ],
   "source": [
    "credible_median_ages = cast_ages['credible_median'].values\n",
    "plt.hist(credible_median_ages[~np.isnan(credible_median_ages)], bins = 135);\n",
    "plt.yscale('log', nonposy='clip')"
   ]
  },
  {
   "cell_type": "code",
   "execution_count": 105,
   "metadata": {},
   "outputs": [
    {
     "data": {
      "text/html": [
       "<div>\n",
       "<style scoped>\n",
       "    .dataframe tbody tr th:only-of-type {\n",
       "        vertical-align: middle;\n",
       "    }\n",
       "\n",
       "    .dataframe tbody tr th {\n",
       "        vertical-align: top;\n",
       "    }\n",
       "\n",
       "    .dataframe thead th {\n",
       "        text-align: right;\n",
       "    }\n",
       "</style>\n",
       "<table border=\"1\" class=\"dataframe\">\n",
       "  <thead>\n",
       "    <tr style=\"text-align: right;\">\n",
       "      <th></th>\n",
       "      <th>custom_median</th>\n",
       "      <th>cast_count</th>\n",
       "      <th>credible_median</th>\n",
       "    </tr>\n",
       "    <tr>\n",
       "      <th>tconst</th>\n",
       "      <th></th>\n",
       "      <th></th>\n",
       "      <th></th>\n",
       "    </tr>\n",
       "  </thead>\n",
       "  <tbody>\n",
       "    <tr>\n",
       "      <th>tt6454944</th>\n",
       "      <td>144.5</td>\n",
       "      <td>30.0</td>\n",
       "      <td>144.5</td>\n",
       "    </tr>\n",
       "    <tr>\n",
       "      <th>tt6490038</th>\n",
       "      <td>135.0</td>\n",
       "      <td>11.0</td>\n",
       "      <td>135.0</td>\n",
       "    </tr>\n",
       "    <tr>\n",
       "      <th>tt1646939</th>\n",
       "      <td>126.0</td>\n",
       "      <td>11.0</td>\n",
       "      <td>126.0</td>\n",
       "    </tr>\n",
       "    <tr>\n",
       "      <th>tt3587202</th>\n",
       "      <td>126.0</td>\n",
       "      <td>17.0</td>\n",
       "      <td>126.0</td>\n",
       "    </tr>\n",
       "    <tr>\n",
       "      <th>tt0212457</th>\n",
       "      <td>125.0</td>\n",
       "      <td>11.0</td>\n",
       "      <td>125.0</td>\n",
       "    </tr>\n",
       "    <tr>\n",
       "      <th>tt3188516</th>\n",
       "      <td>123.0</td>\n",
       "      <td>13.0</td>\n",
       "      <td>123.0</td>\n",
       "    </tr>\n",
       "    <tr>\n",
       "      <th>tt3526810</th>\n",
       "      <td>123.0</td>\n",
       "      <td>13.0</td>\n",
       "      <td>123.0</td>\n",
       "    </tr>\n",
       "    <tr>\n",
       "      <th>tt10443162</th>\n",
       "      <td>122.0</td>\n",
       "      <td>43.0</td>\n",
       "      <td>122.0</td>\n",
       "    </tr>\n",
       "    <tr>\n",
       "      <th>tt2161168</th>\n",
       "      <td>121.0</td>\n",
       "      <td>20.0</td>\n",
       "      <td>121.0</td>\n",
       "    </tr>\n",
       "    <tr>\n",
       "      <th>tt6683232</th>\n",
       "      <td>121.0</td>\n",
       "      <td>17.0</td>\n",
       "      <td>121.0</td>\n",
       "    </tr>\n",
       "  </tbody>\n",
       "</table>\n",
       "</div>"
      ],
      "text/plain": [
       "            custom_median  cast_count  credible_median\n",
       "tconst                                                \n",
       "tt6454944           144.5        30.0            144.5\n",
       "tt6490038           135.0        11.0            135.0\n",
       "tt1646939           126.0        11.0            126.0\n",
       "tt3587202           126.0        17.0            126.0\n",
       "tt0212457           125.0        11.0            125.0\n",
       "tt3188516           123.0        13.0            123.0\n",
       "tt3526810           123.0        13.0            123.0\n",
       "tt10443162          122.0        43.0            122.0\n",
       "tt2161168           121.0        20.0            121.0\n",
       "tt6683232           121.0        17.0            121.0"
      ]
     },
     "execution_count": 105,
     "metadata": {},
     "output_type": "execute_result"
    }
   ],
   "source": [
    "cast_ages.nlargest(10, 'credible_median')"
   ]
  },
  {
   "cell_type": "code",
   "execution_count": 106,
   "metadata": {},
   "outputs": [
    {
     "data": {
      "text/html": [
       "<div>\n",
       "<style scoped>\n",
       "    .dataframe tbody tr th:only-of-type {\n",
       "        vertical-align: middle;\n",
       "    }\n",
       "\n",
       "    .dataframe tbody tr th {\n",
       "        vertical-align: top;\n",
       "    }\n",
       "\n",
       "    .dataframe thead th {\n",
       "        text-align: right;\n",
       "    }\n",
       "</style>\n",
       "<table border=\"1\" class=\"dataframe\">\n",
       "  <thead>\n",
       "    <tr style=\"text-align: right;\">\n",
       "      <th></th>\n",
       "      <th>custom_median</th>\n",
       "      <th>cast_count</th>\n",
       "      <th>credible_median</th>\n",
       "    </tr>\n",
       "    <tr>\n",
       "      <th>tconst</th>\n",
       "      <th></th>\n",
       "      <th></th>\n",
       "      <th></th>\n",
       "    </tr>\n",
       "  </thead>\n",
       "  <tbody>\n",
       "    <tr>\n",
       "      <th>tt0201347</th>\n",
       "      <td>8.0</td>\n",
       "      <td>27.0</td>\n",
       "      <td>8.0</td>\n",
       "    </tr>\n",
       "    <tr>\n",
       "      <th>tt0008144</th>\n",
       "      <td>9.0</td>\n",
       "      <td>17.0</td>\n",
       "      <td>9.0</td>\n",
       "    </tr>\n",
       "    <tr>\n",
       "      <th>tt0110366</th>\n",
       "      <td>9.0</td>\n",
       "      <td>34.0</td>\n",
       "      <td>9.0</td>\n",
       "    </tr>\n",
       "    <tr>\n",
       "      <th>tt0007617</th>\n",
       "      <td>9.5</td>\n",
       "      <td>14.0</td>\n",
       "      <td>9.5</td>\n",
       "    </tr>\n",
       "    <tr>\n",
       "      <th>tt0009721</th>\n",
       "      <td>9.5</td>\n",
       "      <td>14.0</td>\n",
       "      <td>9.5</td>\n",
       "    </tr>\n",
       "    <tr>\n",
       "      <th>tt0117008</th>\n",
       "      <td>10.0</td>\n",
       "      <td>44.0</td>\n",
       "      <td>10.0</td>\n",
       "    </tr>\n",
       "    <tr>\n",
       "      <th>tt0124879</th>\n",
       "      <td>10.0</td>\n",
       "      <td>35.0</td>\n",
       "      <td>10.0</td>\n",
       "    </tr>\n",
       "    <tr>\n",
       "      <th>tt0007669</th>\n",
       "      <td>11.0</td>\n",
       "      <td>14.0</td>\n",
       "      <td>11.0</td>\n",
       "    </tr>\n",
       "    <tr>\n",
       "      <th>tt0022397</th>\n",
       "      <td>11.0</td>\n",
       "      <td>16.0</td>\n",
       "      <td>11.0</td>\n",
       "    </tr>\n",
       "    <tr>\n",
       "      <th>tt0017423</th>\n",
       "      <td>11.5</td>\n",
       "      <td>16.0</td>\n",
       "      <td>11.5</td>\n",
       "    </tr>\n",
       "  </tbody>\n",
       "</table>\n",
       "</div>"
      ],
      "text/plain": [
       "           custom_median  cast_count  credible_median\n",
       "tconst                                               \n",
       "tt0201347            8.0        27.0              8.0\n",
       "tt0008144            9.0        17.0              9.0\n",
       "tt0110366            9.0        34.0              9.0\n",
       "tt0007617            9.5        14.0              9.5\n",
       "tt0009721            9.5        14.0              9.5\n",
       "tt0117008           10.0        44.0             10.0\n",
       "tt0124879           10.0        35.0             10.0\n",
       "tt0007669           11.0        14.0             11.0\n",
       "tt0022397           11.0        16.0             11.0\n",
       "tt0017423           11.5        16.0             11.5"
      ]
     },
     "execution_count": 106,
     "metadata": {},
     "output_type": "execute_result"
    }
   ],
   "source": [
    "cast_ages.nsmallest(10, 'credible_median')"
   ]
  },
  {
   "cell_type": "code",
   "execution_count": 133,
   "metadata": {},
   "outputs": [
    {
     "data": {
      "text/html": [
       "<div>\n",
       "<style scoped>\n",
       "    .dataframe tbody tr th:only-of-type {\n",
       "        vertical-align: middle;\n",
       "    }\n",
       "\n",
       "    .dataframe tbody tr th {\n",
       "        vertical-align: top;\n",
       "    }\n",
       "\n",
       "    .dataframe thead th {\n",
       "        text-align: right;\n",
       "    }\n",
       "</style>\n",
       "<table border=\"1\" class=\"dataframe\">\n",
       "  <thead>\n",
       "    <tr style=\"text-align: right;\">\n",
       "      <th></th>\n",
       "      <th>tconst</th>\n",
       "      <th>stars</th>\n",
       "      <th>oscarWins</th>\n",
       "      <th>nominations</th>\n",
       "      <th>wins</th>\n",
       "      <th>releaseDate</th>\n",
       "      <th>releaseCountry</th>\n",
       "      <th>plotKeywords</th>\n",
       "      <th>budget</th>\n",
       "      <th>worldwideGross</th>\n",
       "      <th>...</th>\n",
       "      <th>musicProducer</th>\n",
       "      <th>primaryTitle</th>\n",
       "      <th>originalTitle</th>\n",
       "      <th>isAdult</th>\n",
       "      <th>startYear</th>\n",
       "      <th>runtimeMinutes</th>\n",
       "      <th>genres</th>\n",
       "      <th>testYear</th>\n",
       "      <th>Year</th>\n",
       "      <th>recognition</th>\n",
       "    </tr>\n",
       "  </thead>\n",
       "  <tbody>\n",
       "    <tr>\n",
       "      <th>137270</th>\n",
       "      <td>tt2024544</td>\n",
       "      <td>[nm0252230, nm0931324, nm1055413]</td>\n",
       "      <td>3</td>\n",
       "      <td>330</td>\n",
       "      <td>238</td>\n",
       "      <td>2014-02-20</td>\n",
       "      <td>Netherlands</td>\n",
       "      <td>[torture, kidnapping, racism, whipping, slaver...</td>\n",
       "      <td>$20,000,000</td>\n",
       "      <td>$187,733,202</td>\n",
       "      <td>...</td>\n",
       "      <td>nm0001877</td>\n",
       "      <td>12 Years a Slave</td>\n",
       "      <td>12 Years a Slave</td>\n",
       "      <td>0.0</td>\n",
       "      <td>2013.0</td>\n",
       "      <td>134.0</td>\n",
       "      <td>NaN</td>\n",
       "      <td>2014.0</td>\n",
       "      <td>2013.0</td>\n",
       "      <td>836</td>\n",
       "    </tr>\n",
       "    <tr>\n",
       "      <th>532918</th>\n",
       "      <td>tt3783958</td>\n",
       "      <td>[nm0331516, nm1297015, nm1679669]</td>\n",
       "      <td>6</td>\n",
       "      <td>268</td>\n",
       "      <td>233</td>\n",
       "      <td>2016-12-25</td>\n",
       "      <td>USA</td>\n",
       "      <td>[los angeles california, pianist, aspiring act...</td>\n",
       "      <td>$30,000,000</td>\n",
       "      <td>$446,092,357</td>\n",
       "      <td>...</td>\n",
       "      <td>nm3225654</td>\n",
       "      <td>La La Land</td>\n",
       "      <td>La La Land</td>\n",
       "      <td>0.0</td>\n",
       "      <td>2016.0</td>\n",
       "      <td>128.0</td>\n",
       "      <td>NaN</td>\n",
       "      <td>2016.0</td>\n",
       "      <td>2016.0</td>\n",
       "      <td>794</td>\n",
       "    </tr>\n",
       "    <tr>\n",
       "      <th>523662</th>\n",
       "      <td>tt4975722</td>\n",
       "      <td>[nm0991810, nm0365140, nm5218990]</td>\n",
       "      <td>3</td>\n",
       "      <td>281</td>\n",
       "      <td>223</td>\n",
       "      <td>2016-11-18</td>\n",
       "      <td>USA</td>\n",
       "      <td>[bullying, gay lead character, african america...</td>\n",
       "      <td>$4,000,000</td>\n",
       "      <td>$65,046,687</td>\n",
       "      <td>...</td>\n",
       "      <td>nm1615109</td>\n",
       "      <td>Moonlight</td>\n",
       "      <td>Moonlight</td>\n",
       "      <td>0.0</td>\n",
       "      <td>2016.0</td>\n",
       "      <td>111.0</td>\n",
       "      <td>NaN</td>\n",
       "      <td>2016.0</td>\n",
       "      <td>2016.0</td>\n",
       "      <td>757</td>\n",
       "    </tr>\n",
       "    <tr>\n",
       "      <th>9395</th>\n",
       "      <td>tt1392190</td>\n",
       "      <td>[nm0362766, nm0000234, nm0396558]</td>\n",
       "      <td>6</td>\n",
       "      <td>220</td>\n",
       "      <td>232</td>\n",
       "      <td>2015-05-14</td>\n",
       "      <td>Netherlands</td>\n",
       "      <td>[post apocalypse, desert, chase, female warrio...</td>\n",
       "      <td>$150,000,000</td>\n",
       "      <td>$375,209,362</td>\n",
       "      <td>...</td>\n",
       "      <td>nm0432725</td>\n",
       "      <td>Mad Max: Fury Road</td>\n",
       "      <td>Mad Max: Fury Road</td>\n",
       "      <td>0.0</td>\n",
       "      <td>2015.0</td>\n",
       "      <td>120.0</td>\n",
       "      <td>NaN</td>\n",
       "      <td>2015.0</td>\n",
       "      <td>2015.0</td>\n",
       "      <td>744</td>\n",
       "    </tr>\n",
       "    <tr>\n",
       "      <th>125615</th>\n",
       "      <td>tt1454468</td>\n",
       "      <td>[nm0000113, nm0000123, nm0000438]</td>\n",
       "      <td>7</td>\n",
       "      <td>177</td>\n",
       "      <td>233</td>\n",
       "      <td>2013-10-23</td>\n",
       "      <td>France</td>\n",
       "      <td>[female protagonist, space station, sole survi...</td>\n",
       "      <td>$100,000,000</td>\n",
       "      <td>$723,192,705</td>\n",
       "      <td>...</td>\n",
       "      <td>nm1888527</td>\n",
       "      <td>Gravity</td>\n",
       "      <td>Gravity</td>\n",
       "      <td>0.0</td>\n",
       "      <td>2013.0</td>\n",
       "      <td>91.0</td>\n",
       "      <td>NaN</td>\n",
       "      <td>2013.0</td>\n",
       "      <td>2013.0</td>\n",
       "      <td>713</td>\n",
       "    </tr>\n",
       "    <tr>\n",
       "      <th>...</th>\n",
       "      <td>...</td>\n",
       "      <td>...</td>\n",
       "      <td>...</td>\n",
       "      <td>...</td>\n",
       "      <td>...</td>\n",
       "      <td>...</td>\n",
       "      <td>...</td>\n",
       "      <td>...</td>\n",
       "      <td>...</td>\n",
       "      <td>...</td>\n",
       "      <td>...</td>\n",
       "      <td>...</td>\n",
       "      <td>...</td>\n",
       "      <td>...</td>\n",
       "      <td>...</td>\n",
       "      <td>...</td>\n",
       "      <td>...</td>\n",
       "      <td>...</td>\n",
       "      <td>...</td>\n",
       "      <td>...</td>\n",
       "      <td>...</td>\n",
       "    </tr>\n",
       "    <tr>\n",
       "      <th>189271</th>\n",
       "      <td>tt0054356</td>\n",
       "      <td>[nm0088946, nm0127113, nm0353757]</td>\n",
       "      <td>0</td>\n",
       "      <td>0</td>\n",
       "      <td>0</td>\n",
       "      <td>1961-01-20</td>\n",
       "      <td>Finland</td>\n",
       "      <td>[]</td>\n",
       "      <td>None</td>\n",
       "      <td>None</td>\n",
       "      <td>...</td>\n",
       "      <td>nm0286769</td>\n",
       "      <td>Susanne</td>\n",
       "      <td>Susanne</td>\n",
       "      <td>0.0</td>\n",
       "      <td>1960.0</td>\n",
       "      <td>87.0</td>\n",
       "      <td>NaN</td>\n",
       "      <td>1961.0</td>\n",
       "      <td>1960.0</td>\n",
       "      <td>0</td>\n",
       "    </tr>\n",
       "    <tr>\n",
       "      <th>189270</th>\n",
       "      <td>tt0054308</td>\n",
       "      <td>[nm0310618, nm0865063, nm0051060]</td>\n",
       "      <td>0</td>\n",
       "      <td>0</td>\n",
       "      <td>0</td>\n",
       "      <td>1960-11-23</td>\n",
       "      <td>Yugoslavia</td>\n",
       "      <td>[]</td>\n",
       "      <td>None</td>\n",
       "      <td>None</td>\n",
       "      <td>...</td>\n",
       "      <td>nm0010650</td>\n",
       "      <td>Signal Over the City</td>\n",
       "      <td>Signali nad gradom</td>\n",
       "      <td>0.0</td>\n",
       "      <td>1960.0</td>\n",
       "      <td>91.0</td>\n",
       "      <td>NaN</td>\n",
       "      <td>1960.0</td>\n",
       "      <td>1960.0</td>\n",
       "      <td>0</td>\n",
       "    </tr>\n",
       "    <tr>\n",
       "      <th>189268</th>\n",
       "      <td>tt0054304</td>\n",
       "      <td>[nm0496856, nm0466977, nm0266949]</td>\n",
       "      <td>0</td>\n",
       "      <td>0</td>\n",
       "      <td>0</td>\n",
       "      <td>1961-03-11</td>\n",
       "      <td>Italy</td>\n",
       "      <td>[]</td>\n",
       "      <td>None</td>\n",
       "      <td>None</td>\n",
       "      <td>...</td>\n",
       "      <td>nm0630466</td>\n",
       "      <td>Blood Feud</td>\n",
       "      <td>Il sicario</td>\n",
       "      <td>0.0</td>\n",
       "      <td>1961.0</td>\n",
       "      <td>87.0</td>\n",
       "      <td>NaN</td>\n",
       "      <td>1961.0</td>\n",
       "      <td>1961.0</td>\n",
       "      <td>0</td>\n",
       "    </tr>\n",
       "    <tr>\n",
       "      <th>189267</th>\n",
       "      <td>tt0054332</td>\n",
       "      <td>[]</td>\n",
       "      <td>0</td>\n",
       "      <td>0</td>\n",
       "      <td>0</td>\n",
       "      <td>None</td>\n",
       "      <td>None</td>\n",
       "      <td>[]</td>\n",
       "      <td>None</td>\n",
       "      <td>None</td>\n",
       "      <td>...</td>\n",
       "      <td>None</td>\n",
       "      <td>Spartakiáda</td>\n",
       "      <td>Spartakiáda</td>\n",
       "      <td>0.0</td>\n",
       "      <td>1956.0</td>\n",
       "      <td>88.0</td>\n",
       "      <td>NaN</td>\n",
       "      <td>NaN</td>\n",
       "      <td>1956.0</td>\n",
       "      <td>0</td>\n",
       "    </tr>\n",
       "    <tr>\n",
       "      <th>268956</th>\n",
       "      <td>tt0020869</td>\n",
       "      <td>[nm0611804, nm0164883, nm0817021]</td>\n",
       "      <td>0</td>\n",
       "      <td>0</td>\n",
       "      <td>0</td>\n",
       "      <td>1930-06-15</td>\n",
       "      <td>USA</td>\n",
       "      <td>[]</td>\n",
       "      <td>None</td>\n",
       "      <td>None</td>\n",
       "      <td>...</td>\n",
       "      <td>None</td>\n",
       "      <td>The Fall Guy</td>\n",
       "      <td>The Fall Guy</td>\n",
       "      <td>0.0</td>\n",
       "      <td>1930.0</td>\n",
       "      <td>66.0</td>\n",
       "      <td>NaN</td>\n",
       "      <td>1930.0</td>\n",
       "      <td>1930.0</td>\n",
       "      <td>0</td>\n",
       "    </tr>\n",
       "  </tbody>\n",
       "</table>\n",
       "<p>537913 rows × 21 columns</p>\n",
       "</div>"
      ],
      "text/plain": [
       "           tconst                              stars  oscarWins  nominations  \\\n",
       "137270  tt2024544  [nm0252230, nm0931324, nm1055413]          3          330   \n",
       "532918  tt3783958  [nm0331516, nm1297015, nm1679669]          6          268   \n",
       "523662  tt4975722  [nm0991810, nm0365140, nm5218990]          3          281   \n",
       "9395    tt1392190  [nm0362766, nm0000234, nm0396558]          6          220   \n",
       "125615  tt1454468  [nm0000113, nm0000123, nm0000438]          7          177   \n",
       "...           ...                                ...        ...          ...   \n",
       "189271  tt0054356  [nm0088946, nm0127113, nm0353757]          0            0   \n",
       "189270  tt0054308  [nm0310618, nm0865063, nm0051060]          0            0   \n",
       "189268  tt0054304  [nm0496856, nm0466977, nm0266949]          0            0   \n",
       "189267  tt0054332                                 []          0            0   \n",
       "268956  tt0020869  [nm0611804, nm0164883, nm0817021]          0            0   \n",
       "\n",
       "        wins releaseDate releaseCountry  \\\n",
       "137270   238  2014-02-20    Netherlands   \n",
       "532918   233  2016-12-25            USA   \n",
       "523662   223  2016-11-18            USA   \n",
       "9395     232  2015-05-14    Netherlands   \n",
       "125615   233  2013-10-23         France   \n",
       "...      ...         ...            ...   \n",
       "189271     0  1961-01-20        Finland   \n",
       "189270     0  1960-11-23     Yugoslavia   \n",
       "189268     0  1961-03-11          Italy   \n",
       "189267     0        None           None   \n",
       "268956     0  1930-06-15            USA   \n",
       "\n",
       "                                             plotKeywords        budget  \\\n",
       "137270  [torture, kidnapping, racism, whipping, slaver...   $20,000,000   \n",
       "532918  [los angeles california, pianist, aspiring act...   $30,000,000   \n",
       "523662  [bullying, gay lead character, african america...    $4,000,000   \n",
       "9395    [post apocalypse, desert, chase, female warrio...  $150,000,000   \n",
       "125615  [female protagonist, space station, sole survi...  $100,000,000   \n",
       "...                                                   ...           ...   \n",
       "189271                                                 []          None   \n",
       "189270                                                 []          None   \n",
       "189268                                                 []          None   \n",
       "189267                                                 []          None   \n",
       "268956                                                 []          None   \n",
       "\n",
       "       worldwideGross  ... musicProducer          primaryTitle  \\\n",
       "137270   $187,733,202  ...     nm0001877      12 Years a Slave   \n",
       "532918   $446,092,357  ...     nm3225654            La La Land   \n",
       "523662    $65,046,687  ...     nm1615109             Moonlight   \n",
       "9395     $375,209,362  ...     nm0432725    Mad Max: Fury Road   \n",
       "125615   $723,192,705  ...     nm1888527               Gravity   \n",
       "...               ...  ...           ...                   ...   \n",
       "189271           None  ...     nm0286769               Susanne   \n",
       "189270           None  ...     nm0010650  Signal Over the City   \n",
       "189268           None  ...     nm0630466            Blood Feud   \n",
       "189267           None  ...          None           Spartakiáda   \n",
       "268956           None  ...          None          The Fall Guy   \n",
       "\n",
       "             originalTitle isAdult  startYear  runtimeMinutes  genres  \\\n",
       "137270    12 Years a Slave     0.0     2013.0           134.0     NaN   \n",
       "532918          La La Land     0.0     2016.0           128.0     NaN   \n",
       "523662           Moonlight     0.0     2016.0           111.0     NaN   \n",
       "9395    Mad Max: Fury Road     0.0     2015.0           120.0     NaN   \n",
       "125615             Gravity     0.0     2013.0            91.0     NaN   \n",
       "...                    ...     ...        ...             ...     ...   \n",
       "189271             Susanne     0.0     1960.0            87.0     NaN   \n",
       "189270  Signali nad gradom     0.0     1960.0            91.0     NaN   \n",
       "189268          Il sicario     0.0     1961.0            87.0     NaN   \n",
       "189267         Spartakiáda     0.0     1956.0            88.0     NaN   \n",
       "268956        The Fall Guy     0.0     1930.0            66.0     NaN   \n",
       "\n",
       "        testYear    Year  recognition  \n",
       "137270    2014.0  2013.0          836  \n",
       "532918    2016.0  2016.0          794  \n",
       "523662    2016.0  2016.0          757  \n",
       "9395      2015.0  2015.0          744  \n",
       "125615    2013.0  2013.0          713  \n",
       "...          ...     ...          ...  \n",
       "189271    1961.0  1960.0            0  \n",
       "189270    1960.0  1960.0            0  \n",
       "189268    1961.0  1961.0            0  \n",
       "189267       NaN  1956.0            0  \n",
       "268956    1930.0  1930.0            0  \n",
       "\n",
       "[537913 rows x 21 columns]"
      ]
     },
     "execution_count": 133,
     "metadata": {},
     "output_type": "execute_result"
    }
   ],
   "source": [
    "OSCAR_WEIGHT = 10\n",
    "WIN_WEIGHT = 2\n",
    "NOMINATION_WEIGHT = 1\n",
    "movies['recognition'] = (movies.oscarWins * OSCAR_WEIGHT) + (movies.nominations * NOMINATION_WEIGHT) + (movies.wins *WIN_WEIGHT)\n",
    "recognized_movies = movies.sort_values('recognition', ascending=False)\n",
    "recognized_movies"
   ]
  },
  {
   "cell_type": "code",
   "execution_count": 135,
   "metadata": {},
   "outputs": [],
   "source": [
    "recognized_movies = recognized_movies.merge(cast_ages, how='left', left_on='tconst', right_index=True)"
   ]
  },
  {
   "cell_type": "code",
   "execution_count": 333,
   "metadata": {},
   "outputs": [],
   "source": [
    "recognized_movies = recognized_movies.drop_duplicates(subset=['tconst'])"
   ]
  },
  {
   "cell_type": "code",
   "execution_count": 334,
   "metadata": {},
   "outputs": [
    {
     "data": {
      "text/html": [
       "<div>\n",
       "<style scoped>\n",
       "    .dataframe tbody tr th:only-of-type {\n",
       "        vertical-align: middle;\n",
       "    }\n",
       "\n",
       "    .dataframe tbody tr th {\n",
       "        vertical-align: top;\n",
       "    }\n",
       "\n",
       "    .dataframe thead th {\n",
       "        text-align: right;\n",
       "    }\n",
       "</style>\n",
       "<table border=\"1\" class=\"dataframe\">\n",
       "  <thead>\n",
       "    <tr style=\"text-align: right;\">\n",
       "      <th></th>\n",
       "      <th>tconst</th>\n",
       "      <th>stars</th>\n",
       "      <th>oscarWins</th>\n",
       "      <th>nominations</th>\n",
       "      <th>wins</th>\n",
       "      <th>releaseDate</th>\n",
       "      <th>releaseCountry</th>\n",
       "      <th>plotKeywords</th>\n",
       "      <th>budget</th>\n",
       "      <th>worldwideGross</th>\n",
       "      <th>...</th>\n",
       "      <th>genres</th>\n",
       "      <th>testYear</th>\n",
       "      <th>Year</th>\n",
       "      <th>recognition</th>\n",
       "      <th>custom_median</th>\n",
       "      <th>cast_count</th>\n",
       "      <th>credible_median</th>\n",
       "      <th>averageRating</th>\n",
       "      <th>numVotes</th>\n",
       "      <th>worldwideGross_adjusted</th>\n",
       "    </tr>\n",
       "  </thead>\n",
       "  <tbody>\n",
       "    <tr>\n",
       "      <th>0</th>\n",
       "      <td>tt2024544</td>\n",
       "      <td>[nm0252230, nm0931324, nm1055413]</td>\n",
       "      <td>3</td>\n",
       "      <td>330</td>\n",
       "      <td>238</td>\n",
       "      <td>2014-02-20</td>\n",
       "      <td>Netherlands</td>\n",
       "      <td>[torture, kidnapping, racism, whipping, slaver...</td>\n",
       "      <td>$20,000,000</td>\n",
       "      <td>$187,733,202</td>\n",
       "      <td>...</td>\n",
       "      <td>NaN</td>\n",
       "      <td>2014.0</td>\n",
       "      <td>2013.0</td>\n",
       "      <td>836</td>\n",
       "      <td>42.5</td>\n",
       "      <td>32.0</td>\n",
       "      <td>42.5</td>\n",
       "      <td>8.1</td>\n",
       "      <td>590369.0</td>\n",
       "      <td>2.023595e+08</td>\n",
       "    </tr>\n",
       "    <tr>\n",
       "      <th>2</th>\n",
       "      <td>tt3783958</td>\n",
       "      <td>[nm0331516, nm1297015, nm1679669]</td>\n",
       "      <td>6</td>\n",
       "      <td>268</td>\n",
       "      <td>233</td>\n",
       "      <td>2016-12-25</td>\n",
       "      <td>USA</td>\n",
       "      <td>[los angeles california, pianist, aspiring act...</td>\n",
       "      <td>$30,000,000</td>\n",
       "      <td>$446,092,357</td>\n",
       "      <td>...</td>\n",
       "      <td>NaN</td>\n",
       "      <td>2016.0</td>\n",
       "      <td>2016.0</td>\n",
       "      <td>794</td>\n",
       "      <td>36.5</td>\n",
       "      <td>54.0</td>\n",
       "      <td>36.5</td>\n",
       "      <td>8.0</td>\n",
       "      <td>451658.0</td>\n",
       "      <td>4.667229e+08</td>\n",
       "    </tr>\n",
       "    <tr>\n",
       "      <th>3</th>\n",
       "      <td>tt4975722</td>\n",
       "      <td>[nm0991810, nm0365140, nm5218990]</td>\n",
       "      <td>3</td>\n",
       "      <td>281</td>\n",
       "      <td>223</td>\n",
       "      <td>2016-11-18</td>\n",
       "      <td>USA</td>\n",
       "      <td>[bullying, gay lead character, african america...</td>\n",
       "      <td>$4,000,000</td>\n",
       "      <td>$65,046,687</td>\n",
       "      <td>...</td>\n",
       "      <td>NaN</td>\n",
       "      <td>2016.0</td>\n",
       "      <td>2016.0</td>\n",
       "      <td>757</td>\n",
       "      <td>37.0</td>\n",
       "      <td>5.0</td>\n",
       "      <td>NaN</td>\n",
       "      <td>7.4</td>\n",
       "      <td>237473.0</td>\n",
       "      <td>6.805492e+07</td>\n",
       "    </tr>\n",
       "    <tr>\n",
       "      <th>4</th>\n",
       "      <td>tt1392190</td>\n",
       "      <td>[nm0362766, nm0000234, nm0396558]</td>\n",
       "      <td>6</td>\n",
       "      <td>220</td>\n",
       "      <td>232</td>\n",
       "      <td>2015-05-14</td>\n",
       "      <td>Netherlands</td>\n",
       "      <td>[post apocalypse, desert, chase, female warrio...</td>\n",
       "      <td>$150,000,000</td>\n",
       "      <td>$375,209,362</td>\n",
       "      <td>...</td>\n",
       "      <td>NaN</td>\n",
       "      <td>2015.0</td>\n",
       "      <td>2015.0</td>\n",
       "      <td>744</td>\n",
       "      <td>40.0</td>\n",
       "      <td>25.0</td>\n",
       "      <td>40.0</td>\n",
       "      <td>8.1</td>\n",
       "      <td>802392.0</td>\n",
       "      <td>3.975142e+08</td>\n",
       "    </tr>\n",
       "    <tr>\n",
       "      <th>6</th>\n",
       "      <td>tt1454468</td>\n",
       "      <td>[nm0000113, nm0000123, nm0000438]</td>\n",
       "      <td>7</td>\n",
       "      <td>177</td>\n",
       "      <td>233</td>\n",
       "      <td>2013-10-23</td>\n",
       "      <td>France</td>\n",
       "      <td>[female protagonist, space station, sole survi...</td>\n",
       "      <td>$100,000,000</td>\n",
       "      <td>$723,192,705</td>\n",
       "      <td>...</td>\n",
       "      <td>NaN</td>\n",
       "      <td>2013.0</td>\n",
       "      <td>2013.0</td>\n",
       "      <td>713</td>\n",
       "      <td>53.0</td>\n",
       "      <td>4.0</td>\n",
       "      <td>NaN</td>\n",
       "      <td>7.7</td>\n",
       "      <td>724190.0</td>\n",
       "      <td>7.795368e+08</td>\n",
       "    </tr>\n",
       "  </tbody>\n",
       "</table>\n",
       "<p>5 rows × 27 columns</p>\n",
       "</div>"
      ],
      "text/plain": [
       "      tconst                              stars  oscarWins  nominations  wins  \\\n",
       "0  tt2024544  [nm0252230, nm0931324, nm1055413]          3          330   238   \n",
       "2  tt3783958  [nm0331516, nm1297015, nm1679669]          6          268   233   \n",
       "3  tt4975722  [nm0991810, nm0365140, nm5218990]          3          281   223   \n",
       "4  tt1392190  [nm0362766, nm0000234, nm0396558]          6          220   232   \n",
       "6  tt1454468  [nm0000113, nm0000123, nm0000438]          7          177   233   \n",
       "\n",
       "  releaseDate releaseCountry  \\\n",
       "0  2014-02-20    Netherlands   \n",
       "2  2016-12-25            USA   \n",
       "3  2016-11-18            USA   \n",
       "4  2015-05-14    Netherlands   \n",
       "6  2013-10-23         France   \n",
       "\n",
       "                                        plotKeywords        budget  \\\n",
       "0  [torture, kidnapping, racism, whipping, slaver...   $20,000,000   \n",
       "2  [los angeles california, pianist, aspiring act...   $30,000,000   \n",
       "3  [bullying, gay lead character, african america...    $4,000,000   \n",
       "4  [post apocalypse, desert, chase, female warrio...  $150,000,000   \n",
       "6  [female protagonist, space station, sole survi...  $100,000,000   \n",
       "\n",
       "  worldwideGross  ...  genres testYear    Year recognition  custom_median  \\\n",
       "0   $187,733,202  ...     NaN   2014.0  2013.0         836           42.5   \n",
       "2   $446,092,357  ...     NaN   2016.0  2016.0         794           36.5   \n",
       "3    $65,046,687  ...     NaN   2016.0  2016.0         757           37.0   \n",
       "4   $375,209,362  ...     NaN   2015.0  2015.0         744           40.0   \n",
       "6   $723,192,705  ...     NaN   2013.0  2013.0         713           53.0   \n",
       "\n",
       "   cast_count  credible_median  averageRating  numVotes  \\\n",
       "0        32.0             42.5            8.1  590369.0   \n",
       "2        54.0             36.5            8.0  451658.0   \n",
       "3         5.0              NaN            7.4  237473.0   \n",
       "4        25.0             40.0            8.1  802392.0   \n",
       "6         4.0              NaN            7.7  724190.0   \n",
       "\n",
       "   worldwideGross_adjusted  \n",
       "0             2.023595e+08  \n",
       "2             4.667229e+08  \n",
       "3             6.805492e+07  \n",
       "4             3.975142e+08  \n",
       "6             7.795368e+08  \n",
       "\n",
       "[5 rows x 27 columns]"
      ]
     },
     "execution_count": 334,
     "metadata": {},
     "output_type": "execute_result"
    }
   ],
   "source": [
    "recognized_movies.head()"
   ]
  },
  {
   "cell_type": "code",
   "execution_count": 335,
   "metadata": {},
   "outputs": [
    {
     "data": {
      "image/png": "[encoded data removed]",
      "text/plain": [
       "<Figure size 1008x576 with 1 Axes>"
      ]
     },
     "metadata": {
      "needs_background": "light"
     },
     "output_type": "display_data"
    }
   ],
   "source": [
    "fig = plt.figure(figsize=(14,8))\n",
    "\n",
    "plt.scatter(recognized_movies['credible_median'],\\\n",
    "            recognized_movies['recognition'], s=5);\n",
    "plt.title(\"Awards score against median age\") \n",
    "\n",
    "annotations = []\n",
    "annotations.append(recognized_movies[(recognized_movies['credible_median'] < 25) &\\\n",
    "                  (recognized_movies['recognition'] > 200)]\\\n",
    "                 [['primaryTitle', 'credible_median', 'recognition']].values[0])\n",
    "annotations.append(recognized_movies[(recognized_movies['credible_median'] > 90) &\\\n",
    "                  (recognized_movies['recognition'] > 100)]\\\n",
    "                 [['primaryTitle', 'credible_median', 'recognition']].values[0])\n",
    "\n",
    "for title, x, y in annotation:\n",
    "    plt.text(x+1, y+10, title, fontsize=8)\n",
    "\n",
    "#plt.yscale('symlog')\n",
    "plt.xlabel('Median age')\n",
    "plt.ylabel('Awards score');"
   ]
  },
  {
   "cell_type": "code",
   "execution_count": 173,
   "metadata": {},
   "outputs": [],
   "source": [
    "movie_ratings = pd.read_csv(\"./data/title.ratings.tsv.gz\", sep='\\t')"
   ]
  },
  {
   "cell_type": "code",
   "execution_count": 177,
   "metadata": {},
   "outputs": [],
   "source": [
    "recognized_movies = recognized_movies.merge(movie_ratings, on='tconst', how='left')"
   ]
  },
  {
   "cell_type": "code",
   "execution_count": 336,
   "metadata": {},
   "outputs": [],
   "source": [
    "recognized_movies = recognized_movies.drop_duplicates(subset=['tconst'])"
   ]
  },
  {
   "cell_type": "code",
   "execution_count": 178,
   "metadata": {},
   "outputs": [
    {
     "data": {
      "text/html": [
       "<div>\n",
       "<style scoped>\n",
       "    .dataframe tbody tr th:only-of-type {\n",
       "        vertical-align: middle;\n",
       "    }\n",
       "\n",
       "    .dataframe tbody tr th {\n",
       "        vertical-align: top;\n",
       "    }\n",
       "\n",
       "    .dataframe thead th {\n",
       "        text-align: right;\n",
       "    }\n",
       "</style>\n",
       "<table border=\"1\" class=\"dataframe\">\n",
       "  <thead>\n",
       "    <tr style=\"text-align: right;\">\n",
       "      <th></th>\n",
       "      <th>tconst</th>\n",
       "      <th>stars</th>\n",
       "      <th>oscarWins</th>\n",
       "      <th>nominations</th>\n",
       "      <th>wins</th>\n",
       "      <th>releaseDate</th>\n",
       "      <th>releaseCountry</th>\n",
       "      <th>plotKeywords</th>\n",
       "      <th>budget</th>\n",
       "      <th>worldwideGross</th>\n",
       "      <th>...</th>\n",
       "      <th>runtimeMinutes</th>\n",
       "      <th>genres</th>\n",
       "      <th>testYear</th>\n",
       "      <th>Year</th>\n",
       "      <th>recognition</th>\n",
       "      <th>custom_median</th>\n",
       "      <th>cast_count</th>\n",
       "      <th>credible_median</th>\n",
       "      <th>averageRating</th>\n",
       "      <th>numVotes</th>\n",
       "    </tr>\n",
       "  </thead>\n",
       "  <tbody>\n",
       "    <tr>\n",
       "      <th>0</th>\n",
       "      <td>tt2024544</td>\n",
       "      <td>[nm0252230, nm0931324, nm1055413]</td>\n",
       "      <td>3</td>\n",
       "      <td>330</td>\n",
       "      <td>238</td>\n",
       "      <td>2014-02-20</td>\n",
       "      <td>Netherlands</td>\n",
       "      <td>[torture, kidnapping, racism, whipping, slaver...</td>\n",
       "      <td>$20,000,000</td>\n",
       "      <td>$187,733,202</td>\n",
       "      <td>...</td>\n",
       "      <td>134.0</td>\n",
       "      <td>NaN</td>\n",
       "      <td>2014.0</td>\n",
       "      <td>2013.0</td>\n",
       "      <td>836</td>\n",
       "      <td>42.5</td>\n",
       "      <td>32.0</td>\n",
       "      <td>42.5</td>\n",
       "      <td>8.1</td>\n",
       "      <td>590369.0</td>\n",
       "    </tr>\n",
       "    <tr>\n",
       "      <th>1</th>\n",
       "      <td>tt2024544</td>\n",
       "      <td>[nm0252230, nm0931324, nm1055413]</td>\n",
       "      <td>3</td>\n",
       "      <td>330</td>\n",
       "      <td>238</td>\n",
       "      <td>2014-02-20</td>\n",
       "      <td>Netherlands</td>\n",
       "      <td>[torture, kidnapping, racism, whipping, slaver...</td>\n",
       "      <td>$20,000,000</td>\n",
       "      <td>$187,733,202</td>\n",
       "      <td>...</td>\n",
       "      <td>134.0</td>\n",
       "      <td>NaN</td>\n",
       "      <td>2014.0</td>\n",
       "      <td>2013.0</td>\n",
       "      <td>836</td>\n",
       "      <td>42.5</td>\n",
       "      <td>32.0</td>\n",
       "      <td>42.5</td>\n",
       "      <td>8.1</td>\n",
       "      <td>590369.0</td>\n",
       "    </tr>\n",
       "    <tr>\n",
       "      <th>2</th>\n",
       "      <td>tt3783958</td>\n",
       "      <td>[nm0331516, nm1297015, nm1679669]</td>\n",
       "      <td>6</td>\n",
       "      <td>268</td>\n",
       "      <td>233</td>\n",
       "      <td>2016-12-25</td>\n",
       "      <td>USA</td>\n",
       "      <td>[los angeles california, pianist, aspiring act...</td>\n",
       "      <td>$30,000,000</td>\n",
       "      <td>$446,092,357</td>\n",
       "      <td>...</td>\n",
       "      <td>128.0</td>\n",
       "      <td>NaN</td>\n",
       "      <td>2016.0</td>\n",
       "      <td>2016.0</td>\n",
       "      <td>794</td>\n",
       "      <td>36.5</td>\n",
       "      <td>54.0</td>\n",
       "      <td>36.5</td>\n",
       "      <td>8.0</td>\n",
       "      <td>451658.0</td>\n",
       "    </tr>\n",
       "    <tr>\n",
       "      <th>3</th>\n",
       "      <td>tt4975722</td>\n",
       "      <td>[nm0991810, nm0365140, nm5218990]</td>\n",
       "      <td>3</td>\n",
       "      <td>281</td>\n",
       "      <td>223</td>\n",
       "      <td>2016-11-18</td>\n",
       "      <td>USA</td>\n",
       "      <td>[bullying, gay lead character, african america...</td>\n",
       "      <td>$4,000,000</td>\n",
       "      <td>$65,046,687</td>\n",
       "      <td>...</td>\n",
       "      <td>111.0</td>\n",
       "      <td>NaN</td>\n",
       "      <td>2016.0</td>\n",
       "      <td>2016.0</td>\n",
       "      <td>757</td>\n",
       "      <td>37.0</td>\n",
       "      <td>5.0</td>\n",
       "      <td>NaN</td>\n",
       "      <td>7.4</td>\n",
       "      <td>237473.0</td>\n",
       "    </tr>\n",
       "    <tr>\n",
       "      <th>4</th>\n",
       "      <td>tt1392190</td>\n",
       "      <td>[nm0362766, nm0000234, nm0396558]</td>\n",
       "      <td>6</td>\n",
       "      <td>220</td>\n",
       "      <td>232</td>\n",
       "      <td>2015-05-14</td>\n",
       "      <td>Netherlands</td>\n",
       "      <td>[post apocalypse, desert, chase, female warrio...</td>\n",
       "      <td>$150,000,000</td>\n",
       "      <td>$375,209,362</td>\n",
       "      <td>...</td>\n",
       "      <td>120.0</td>\n",
       "      <td>NaN</td>\n",
       "      <td>2015.0</td>\n",
       "      <td>2015.0</td>\n",
       "      <td>744</td>\n",
       "      <td>40.0</td>\n",
       "      <td>25.0</td>\n",
       "      <td>40.0</td>\n",
       "      <td>8.1</td>\n",
       "      <td>802392.0</td>\n",
       "    </tr>\n",
       "  </tbody>\n",
       "</table>\n",
       "<p>5 rows × 26 columns</p>\n",
       "</div>"
      ],
      "text/plain": [
       "      tconst                              stars  oscarWins  nominations  wins  \\\n",
       "0  tt2024544  [nm0252230, nm0931324, nm1055413]          3          330   238   \n",
       "1  tt2024544  [nm0252230, nm0931324, nm1055413]          3          330   238   \n",
       "2  tt3783958  [nm0331516, nm1297015, nm1679669]          6          268   233   \n",
       "3  tt4975722  [nm0991810, nm0365140, nm5218990]          3          281   223   \n",
       "4  tt1392190  [nm0362766, nm0000234, nm0396558]          6          220   232   \n",
       "\n",
       "  releaseDate releaseCountry  \\\n",
       "0  2014-02-20    Netherlands   \n",
       "1  2014-02-20    Netherlands   \n",
       "2  2016-12-25            USA   \n",
       "3  2016-11-18            USA   \n",
       "4  2015-05-14    Netherlands   \n",
       "\n",
       "                                        plotKeywords        budget  \\\n",
       "0  [torture, kidnapping, racism, whipping, slaver...   $20,000,000   \n",
       "1  [torture, kidnapping, racism, whipping, slaver...   $20,000,000   \n",
       "2  [los angeles california, pianist, aspiring act...   $30,000,000   \n",
       "3  [bullying, gay lead character, african america...    $4,000,000   \n",
       "4  [post apocalypse, desert, chase, female warrio...  $150,000,000   \n",
       "\n",
       "  worldwideGross  ... runtimeMinutes genres testYear    Year  recognition  \\\n",
       "0   $187,733,202  ...          134.0    NaN   2014.0  2013.0          836   \n",
       "1   $187,733,202  ...          134.0    NaN   2014.0  2013.0          836   \n",
       "2   $446,092,357  ...          128.0    NaN   2016.0  2016.0          794   \n",
       "3    $65,046,687  ...          111.0    NaN   2016.0  2016.0          757   \n",
       "4   $375,209,362  ...          120.0    NaN   2015.0  2015.0          744   \n",
       "\n",
       "   custom_median  cast_count  credible_median  averageRating  numVotes  \n",
       "0           42.5        32.0             42.5            8.1  590369.0  \n",
       "1           42.5        32.0             42.5            8.1  590369.0  \n",
       "2           36.5        54.0             36.5            8.0  451658.0  \n",
       "3           37.0         5.0              NaN            7.4  237473.0  \n",
       "4           40.0        25.0             40.0            8.1  802392.0  \n",
       "\n",
       "[5 rows x 26 columns]"
      ]
     },
     "execution_count": 178,
     "metadata": {},
     "output_type": "execute_result"
    }
   ],
   "source": [
    "recognized_movies.head()"
   ]
  },
  {
   "cell_type": "code",
   "execution_count": 250,
   "metadata": {},
   "outputs": [
    {
     "data": {
      "image/png": "[encoded data removed]",
      "text/plain": [
       "<Figure size 1008x576 with 1 Axes>"
      ]
     },
     "metadata": {
      "needs_background": "light"
     },
     "output_type": "display_data"
    }
   ],
   "source": [
    "fig = plt.figure(figsize=(14,8))\n",
    "\n",
    "plt.scatter(recognized_movies['credible_median'],\\\n",
    "            recognized_movies['numVotes'], s=5);\n",
    "\n",
    "plt.title(\"Popularity against median age\")  \n",
    "#plt.yscale('symlog')\n",
    "plt.xlabel('Median age')\n",
    "plt.ylabel('Number of votes');"
   ]
  },
  {
   "cell_type": "code",
   "execution_count": 230,
   "metadata": {},
   "outputs": [],
   "source": [
    "def keep_numbers(revenue):\n",
    "    \"\"\"Function to convert revenue string to a number, we only do it for revenue in dollars\n",
    "    Because we did not manage to find conversion rates for movies from <2000\"\"\"\n",
    "    if revenue == None or revenue[0] != '$':\n",
    "        return np.nan\n",
    "    return int(re.sub(\"[^0-9]\",\"\", str(revenue)))\n",
    "\n",
    "recognized_movies['worldwideGross_adjusted'] = recognized_movies['worldwideGross'].apply(keep_numbers)"
   ]
  },
  {
   "cell_type": "code",
   "execution_count": 244,
   "metadata": {},
   "outputs": [
    {
     "name": "stderr",
     "output_type": "stream",
     "text": [
      "/anaconda3/lib/python3.6/site-packages/easymoney/money.py:213: UserWarning: \n",
      "Inflation (CPI) data for 2022.0 in 'United States' could not be obtained from the\n",
      "International Monetary Fund database currently cached.\n",
      "Falling back to 2018.\n",
      "  warn(warn_msg % (year, natural_region_name, str(fall_back_year)))\n",
      "/anaconda3/lib/python3.6/site-packages/easymoney/money.py:213: UserWarning: \n",
      "Inflation (CPI) data for 2020.0 in 'United States' could not be obtained from the\n",
      "International Monetary Fund database currently cached.\n",
      "Falling back to 2018.\n",
      "  warn(warn_msg % (year, natural_region_name, str(fall_back_year)))\n"
     ]
    }
   ],
   "source": [
    "def normalize_inflation(revenue, year):\n",
    "    \"\"\"Take inflation into account, no data available before 1960 \"\"\"\n",
    "    if np.isnan(revenue) or np.isnan(year) or year < 1960:\n",
    "        return np.nan\n",
    "    return ep.normalize(amount=revenue, region=\"US\", from_year=year, to_year=\"latest\", base_currency=\"USD\")\n",
    "ep = EasyPeasy()\n",
    "normalize_inflation = np.vectorize(normalize_inflation)\n",
    "\n",
    "recognized_movies['worldwideGross_adjusted'] = normalize_inflation(recognized_movies['worldwideGross_adjusted'],\\\n",
    "                                                                   recognized_movies['Year'])"
   ]
  },
  {
   "cell_type": "code",
   "execution_count": 252,
   "metadata": {},
   "outputs": [
    {
     "data": {
      "image/png": "[encoded data removed]",
      "text/plain": [
       "<Figure size 1008x576 with 1 Axes>"
      ]
     },
     "metadata": {
      "needs_background": "light"
     },
     "output_type": "display_data"
    }
   ],
   "source": [
    "fig = plt.figure(figsize=(14,8))\n",
    "\n",
    "plt.scatter(recognized_movies['credible_median'],\\\n",
    "            recognized_movies['worldwideGross_adjusted'], s=5);\n",
    "\n",
    "plt.title(\"Revenue in dollars against median age\")\n",
    "#plt.yscale('symlog')\n",
    "plt.xlabel('Median age')\n",
    "plt.ylabel('Revenue in dollars');"
   ]
  },
  {
   "cell_type": "markdown",
   "metadata": {},
   "source": [
    "# Metacritic score"
   ]
  },
  {
   "cell_type": "code",
   "execution_count": 259,
   "metadata": {},
   "outputs": [],
   "source": [
    "clean_metascore = [lambda x: np.nan if x == None else int(x)]\n",
    "recognized_movies['metascore'] = recognized_movies['metascore'].apply(clean_metascore)"
   ]
  },
  {
   "cell_type": "code",
   "execution_count": 279,
   "metadata": {},
   "outputs": [
    {
     "data": {
      "image/png": "[encoded data removed]",
      "text/plain": [
       "<Figure size 432x288 with 1 Axes>"
      ]
     },
     "metadata": {
      "needs_background": "light"
     },
     "output_type": "display_data"
    }
   ],
   "source": [
    "plt.hist(recognized_movies['metascore'], bins = 25);"
   ]
  },
  {
   "cell_type": "code",
   "execution_count": 283,
   "metadata": {},
   "outputs": [
    {
     "data": {
      "image/png": "[encoded data removed]",
      "text/plain": [
       "<Figure size 1008x576 with 1 Axes>"
      ]
     },
     "metadata": {
      "needs_background": "light"
     },
     "output_type": "display_data"
    }
   ],
   "source": [
    "fig = plt.figure(figsize=(14,8))\n",
    "\n",
    "plt.scatter(recognized_movies['metascore'],\\\n",
    "            recognized_movies['recognition'], s=5);\n",
    "plt.title(\"Awards score against metacritic score\")   \n",
    "#plt.yscale('symlog')\n",
    "plt.xlabel('Metacritic score')\n",
    "plt.ylabel('Awards score');"
   ]
  },
  {
   "cell_type": "code",
   "execution_count": 287,
   "metadata": {},
   "outputs": [
    {
     "data": {
      "image/png": "[encoded data removed]",
      "text/plain": [
       "<Figure size 1008x576 with 1 Axes>"
      ]
     },
     "metadata": {
      "needs_background": "light"
     },
     "output_type": "display_data"
    }
   ],
   "source": [
    "fig = plt.figure(figsize=(14,8))\n",
    "\n",
    "plt.scatter(recognized_movies['metascore'],\\\n",
    "            recognized_movies['numVotes'], s=5);\n",
    "\n",
    "plt.title(\"Popularity against metacritic score\")  \n",
    "#plt.yscale('symlog')\n",
    "plt.xlabel('Metascore')\n",
    "plt.ylabel('Number of votes');"
   ]
  },
  {
   "cell_type": "code",
   "execution_count": 288,
   "metadata": {},
   "outputs": [
    {
     "data": {
      "image/png": "[encoded data removed]",
      "text/plain": [
       "<Figure size 1008x576 with 1 Axes>"
      ]
     },
     "metadata": {
      "needs_background": "light"
     },
     "output_type": "display_data"
    }
   ],
   "source": [
    "fig = plt.figure(figsize=(14,8))\n",
    "\n",
    "plt.scatter(recognized_movies['metascore'],\\\n",
    "            recognized_movies['worldwideGross_adjusted'], s=5);\n",
    "\n",
    "plt.title(\"Revenue in dollars against metascore\")\n",
    "#plt.yscale('symlog')\n",
    "plt.xlabel('Metascore')\n",
    "plt.ylabel('Revenue in dollars');"
   ]
  },
  {
   "cell_type": "markdown",
   "metadata": {},
   "source": [
    "# isAdult"
   ]
  },
  {
   "cell_type": "code",
   "execution_count": 379,
   "metadata": {},
   "outputs": [
    {
     "data": {
      "text/html": [
       "<div>\n",
       "<style scoped>\n",
       "    .dataframe tbody tr th:only-of-type {\n",
       "        vertical-align: middle;\n",
       "    }\n",
       "\n",
       "    .dataframe tbody tr th {\n",
       "        vertical-align: top;\n",
       "    }\n",
       "\n",
       "    .dataframe thead tr th {\n",
       "        text-align: left;\n",
       "    }\n",
       "\n",
       "    .dataframe thead tr:last-of-type th {\n",
       "        text-align: right;\n",
       "    }\n",
       "</style>\n",
       "<table border=\"1\" class=\"dataframe\">\n",
       "  <thead>\n",
       "    <tr>\n",
       "      <th></th>\n",
       "      <th colspan=\"3\" halign=\"left\">recognition</th>\n",
       "      <th colspan=\"3\" halign=\"left\">numVotes</th>\n",
       "      <th colspan=\"3\" halign=\"left\">worldwideGross_adjusted</th>\n",
       "    </tr>\n",
       "    <tr>\n",
       "      <th></th>\n",
       "      <th>custom_mean</th>\n",
       "      <th>custom_median</th>\n",
       "      <th>cast_count</th>\n",
       "      <th>custom_mean</th>\n",
       "      <th>custom_median</th>\n",
       "      <th>cast_count</th>\n",
       "      <th>custom_mean</th>\n",
       "      <th>custom_median</th>\n",
       "      <th>cast_count</th>\n",
       "    </tr>\n",
       "    <tr>\n",
       "      <th>isAdult</th>\n",
       "      <th></th>\n",
       "      <th></th>\n",
       "      <th></th>\n",
       "      <th></th>\n",
       "      <th></th>\n",
       "      <th></th>\n",
       "      <th></th>\n",
       "      <th></th>\n",
       "      <th></th>\n",
       "    </tr>\n",
       "  </thead>\n",
       "  <tbody>\n",
       "    <tr>\n",
       "      <th>0.0</th>\n",
       "      <td>1.170788</td>\n",
       "      <td>0</td>\n",
       "      <td>525757</td>\n",
       "      <td>3283.677676</td>\n",
       "      <td>48.0</td>\n",
       "      <td>236458.0</td>\n",
       "      <td>2.180524e+07</td>\n",
       "      <td>494475.35</td>\n",
       "      <td>43376.0</td>\n",
       "    </tr>\n",
       "    <tr>\n",
       "      <th>1.0</th>\n",
       "      <td>0.137336</td>\n",
       "      <td>0</td>\n",
       "      <td>8694</td>\n",
       "      <td>41.642911</td>\n",
       "      <td>15.0</td>\n",
       "      <td>4013.0</td>\n",
       "      <td>8.288359e+04</td>\n",
       "      <td>24874.76</td>\n",
       "      <td>7.0</td>\n",
       "    </tr>\n",
       "  </tbody>\n",
       "</table>\n",
       "</div>"
      ],
      "text/plain": [
       "        recognition                              numVotes                \\\n",
       "        custom_mean custom_median cast_count  custom_mean custom_median   \n",
       "isAdult                                                                   \n",
       "0.0        1.170788             0     525757  3283.677676          48.0   \n",
       "1.0        0.137336             0       8694    41.642911          15.0   \n",
       "\n",
       "                   worldwideGross_adjusted                           \n",
       "        cast_count             custom_mean custom_median cast_count  \n",
       "isAdult                                                              \n",
       "0.0       236458.0            2.180524e+07     494475.35    43376.0  \n",
       "1.0         4013.0            8.288359e+04      24874.76        7.0  "
      ]
     },
     "execution_count": 379,
     "metadata": {},
     "output_type": "execute_result"
    }
   ],
   "source": [
    "recognized_movies.groupby('isAdult')['recognition', 'numVotes', 'worldwideGross_adjusted']\\\n",
    "                 .agg([custom_mean, custom_median, cast_count])"
   ]
  },
  {
   "cell_type": "markdown",
   "metadata": {},
   "source": [
    "# runtimeMinutes"
   ]
  },
  {
   "cell_type": "code",
   "execution_count": 415,
   "metadata": {},
   "outputs": [],
   "source": [
    "length_success = recognized_movies[['tconst', 'primaryTitle', 'runtimeMinutes', 'recognition', \\\n",
    "                                    'numVotes', 'worldwideGross_adjusted']]"
   ]
  },
  {
   "cell_type": "code",
   "execution_count": 416,
   "metadata": {},
   "outputs": [
    {
     "data": {
      "image/png": "[encoded data removed]",
      "text/plain": [
       "<Figure size 432x288 with 1 Axes>"
      ]
     },
     "metadata": {
      "needs_background": "light"
     },
     "output_type": "display_data"
    }
   ],
   "source": [
    "plt.hist(length_success['runtimeMinutes'], bins = 100);\n",
    "plt.yscale('log', nonposy='clip')"
   ]
  },
  {
   "cell_type": "code",
   "execution_count": 417,
   "metadata": {},
   "outputs": [
    {
     "data": {
      "text/html": [
       "<div>\n",
       "<style scoped>\n",
       "    .dataframe tbody tr th:only-of-type {\n",
       "        vertical-align: middle;\n",
       "    }\n",
       "\n",
       "    .dataframe tbody tr th {\n",
       "        vertical-align: top;\n",
       "    }\n",
       "\n",
       "    .dataframe thead th {\n",
       "        text-align: right;\n",
       "    }\n",
       "</style>\n",
       "<table border=\"1\" class=\"dataframe\">\n",
       "  <thead>\n",
       "    <tr style=\"text-align: right;\">\n",
       "      <th></th>\n",
       "      <th>tconst</th>\n",
       "      <th>primaryTitle</th>\n",
       "      <th>runtimeMinutes</th>\n",
       "    </tr>\n",
       "  </thead>\n",
       "  <tbody>\n",
       "    <tr>\n",
       "      <th>399886</th>\n",
       "      <td>tt10844584</td>\n",
       "      <td>100</td>\n",
       "      <td>59460.0</td>\n",
       "    </tr>\n",
       "    <tr>\n",
       "      <th>100142</th>\n",
       "      <td>tt8273150</td>\n",
       "      <td>Logistics</td>\n",
       "      <td>51420.0</td>\n",
       "    </tr>\n",
       "    <tr>\n",
       "      <th>377635</th>\n",
       "      <td>tt2659636</td>\n",
       "      <td>Modern Times Forever</td>\n",
       "      <td>14400.0</td>\n",
       "    </tr>\n",
       "    <tr>\n",
       "      <th>399880</th>\n",
       "      <td>tt10844900</td>\n",
       "      <td>Qw</td>\n",
       "      <td>10062.0</td>\n",
       "    </tr>\n",
       "    <tr>\n",
       "      <th>339117</th>\n",
       "      <td>tt2355497</td>\n",
       "      <td>Beijing 2003</td>\n",
       "      <td>9000.0</td>\n",
       "    </tr>\n",
       "    <tr>\n",
       "      <th>106922</th>\n",
       "      <td>tt5068890</td>\n",
       "      <td>Hunger!</td>\n",
       "      <td>6000.0</td>\n",
       "    </tr>\n",
       "    <tr>\n",
       "      <th>118228</th>\n",
       "      <td>tt5136218</td>\n",
       "      <td>London EC1</td>\n",
       "      <td>5460.0</td>\n",
       "    </tr>\n",
       "    <tr>\n",
       "      <th>100633</th>\n",
       "      <td>tt0284020</td>\n",
       "      <td>The Cure for Insomnia</td>\n",
       "      <td>5220.0</td>\n",
       "    </tr>\n",
       "    <tr>\n",
       "      <th>308148</th>\n",
       "      <td>tt5240738</td>\n",
       "      <td>Ember Glow</td>\n",
       "      <td>4980.0</td>\n",
       "    </tr>\n",
       "    <tr>\n",
       "      <th>394026</th>\n",
       "      <td>tt1735956</td>\n",
       "      <td>Deregulation</td>\n",
       "      <td>4200.0</td>\n",
       "    </tr>\n",
       "  </tbody>\n",
       "</table>\n",
       "</div>"
      ],
      "text/plain": [
       "            tconst           primaryTitle  runtimeMinutes\n",
       "399886  tt10844584                    100         59460.0\n",
       "100142   tt8273150              Logistics         51420.0\n",
       "377635   tt2659636   Modern Times Forever         14400.0\n",
       "399880  tt10844900                     Qw         10062.0\n",
       "339117   tt2355497           Beijing 2003          9000.0\n",
       "106922   tt5068890                Hunger!          6000.0\n",
       "118228   tt5136218             London EC1          5460.0\n",
       "100633   tt0284020  The Cure for Insomnia          5220.0\n",
       "308148   tt5240738             Ember Glow          4980.0\n",
       "394026   tt1735956           Deregulation          4200.0"
      ]
     },
     "execution_count": 417,
     "metadata": {},
     "output_type": "execute_result"
    }
   ],
   "source": [
    "length_success.nlargest(10, 'runtimeMinutes')[['tconst','primaryTitle', 'runtimeMinutes']]"
   ]
  },
  {
   "cell_type": "markdown",
   "metadata": {},
   "source": [
    "Even the values are legit, we remove the outliers"
   ]
  },
  {
   "cell_type": "code",
   "execution_count": 426,
   "metadata": {},
   "outputs": [],
   "source": [
    "length_success = length_success[length_success['runtimeMinutes'] < 250]"
   ]
  },
  {
   "cell_type": "code",
   "execution_count": 430,
   "metadata": {},
   "outputs": [
    {
     "data": {
      "image/png": "[encoded data removed]",
      "text/plain": [
       "<Figure size 432x288 with 1 Axes>"
      ]
     },
     "metadata": {
      "needs_background": "light"
     },
     "output_type": "display_data"
    }
   ],
   "source": [
    "plt.hist(length_success['runtimeMinutes']);\n",
    "#plt.yscale('log', nonposy='clip')"
   ]
  },
  {
   "cell_type": "code",
   "execution_count": 431,
   "metadata": {},
   "outputs": [
    {
     "data": {
      "image/png": "[encoded data removed]",
      "text/plain": [
       "<Figure size 1008x576 with 1 Axes>"
      ]
     },
     "metadata": {
      "needs_background": "light"
     },
     "output_type": "display_data"
    }
   ],
   "source": [
    "fig = plt.figure(figsize=(14,8))\n",
    "\n",
    "plt.scatter(length_success['runtimeMinutes'],\\\n",
    "            length_success['recognition'], s=5);\n",
    "\n",
    "plt.title(\"Award score against runtime in minutes\")\n",
    "#plt.yscale('symlog')\n",
    "plt.xlabel('Runtime in minutes')\n",
    "plt.ylabel('Award score');"
   ]
  },
  {
   "cell_type": "code",
   "execution_count": 432,
   "metadata": {},
   "outputs": [
    {
     "data": {
      "image/png": "[encoded data removed]",
      "text/plain": [
       "<Figure size 1008x576 with 1 Axes>"
      ]
     },
     "metadata": {
      "needs_background": "light"
     },
     "output_type": "display_data"
    }
   ],
   "source": [
    "fig = plt.figure(figsize=(14,8))\n",
    "\n",
    "plt.scatter(length_success['runtimeMinutes'],\\\n",
    "            length_success['numVotes'], s=5);\n",
    "\n",
    "plt.title(\"Popularity against runtime in minutes\")\n",
    "#plt.yscale('symlog')\n",
    "plt.xlabel('Runtime in minutes')\n",
    "plt.ylabel('Popularity');"
   ]
  },
  {
   "cell_type": "code",
   "execution_count": 433,
   "metadata": {},
   "outputs": [
    {
     "data": {
      "image/png": "[encoded data removed]",
      "text/plain": [
       "<Figure size 1008x576 with 1 Axes>"
      ]
     },
     "metadata": {
      "needs_background": "light"
     },
     "output_type": "display_data"
    }
   ],
   "source": [
    "fig = plt.figure(figsize=(14,8))\n",
    "\n",
    "plt.scatter(length_success['runtimeMinutes'],\\\n",
    "            length_success['worldwideGross_adjusted'], s=5);\n",
    "\n",
    "plt.title(\"Revenue in dollars against runtime in minutes\")\n",
    "#plt.yscale('symlog')\n",
    "plt.xlabel('Runtime in minutes')\n",
    "plt.ylabel('Revenue in dollars');"
   ]
  },
  {
   "cell_type": "markdown",
   "metadata": {},
   "source": [
    "# plotKeywords"
   ]
  },
  {
   "cell_type": "code",
   "execution_count": 342,
   "metadata": {},
   "outputs": [],
   "source": [
    "top_keywords = recognized_movies.explode('plotKeywords')"
   ]
  },
  {
   "cell_type": "code",
   "execution_count": 381,
   "metadata": {},
   "outputs": [
    {
     "data": {
      "text/plain": [
       "female nudity            690\n",
       "female frontal nudity    413\n",
       "male frontal nudity      340\n",
       "nudity                   267\n",
       "male nudity              265\n",
       "                        ... \n",
       "ted bundy                  1\n",
       "sex in a confessional      1\n",
       "sequel to cult film        1\n",
       "french colony              1\n",
       "emergency brake            1\n",
       "Name: plotKeywords, Length: 15590, dtype: int64"
      ]
     },
     "execution_count": 381,
     "metadata": {},
     "output_type": "execute_result"
    }
   ],
   "source": [
    "top_keywords['plotKeywords'].value_counts()"
   ]
  },
  {
   "cell_type": "markdown",
   "metadata": {},
   "source": [
    "# Frequency of each award"
   ]
  },
  {
   "cell_type": "code",
   "execution_count": 434,
   "metadata": {},
   "outputs": [
    {
     "data": {
      "text/plain": [
       "1108"
      ]
     },
     "execution_count": 434,
     "metadata": {},
     "output_type": "execute_result"
    }
   ],
   "source": [
    "recognized_movies['oscarWins'].sum()"
   ]
  },
  {
   "cell_type": "code",
   "execution_count": 436,
   "metadata": {},
   "outputs": [
    {
     "data": {
      "text/plain": [
       "182540"
      ]
     },
     "execution_count": 436,
     "metadata": {},
     "output_type": "execute_result"
    }
   ],
   "source": [
    "recognized_movies['wins'].sum()"
   ]
  },
  {
   "cell_type": "code",
   "execution_count": 437,
   "metadata": {},
   "outputs": [
    {
     "data": {
      "text/plain": [
       "240716"
      ]
     },
     "execution_count": 437,
     "metadata": {},
     "output_type": "execute_result"
    }
   ],
   "source": [
    "recognized_movies['nominations'].sum()"
   ]
  },
  {
   "cell_type": "code",
   "execution_count": 438,
   "metadata": {},
   "outputs": [
    {
     "data": {
      "text/html": [
       "<div>\n",
       "<style scoped>\n",
       "    .dataframe tbody tr th:only-of-type {\n",
       "        vertical-align: middle;\n",
       "    }\n",
       "\n",
       "    .dataframe tbody tr th {\n",
       "        vertical-align: top;\n",
       "    }\n",
       "\n",
       "    .dataframe thead th {\n",
       "        text-align: right;\n",
       "    }\n",
       "</style>\n",
       "<table border=\"1\" class=\"dataframe\">\n",
       "  <thead>\n",
       "    <tr style=\"text-align: right;\">\n",
       "      <th></th>\n",
       "      <th>tconst</th>\n",
       "      <th>stars</th>\n",
       "      <th>oscarWins</th>\n",
       "      <th>nominations</th>\n",
       "      <th>wins</th>\n",
       "      <th>releaseDate</th>\n",
       "      <th>releaseCountry</th>\n",
       "      <th>plotKeywords</th>\n",
       "      <th>budget</th>\n",
       "      <th>worldwideGross</th>\n",
       "      <th>...</th>\n",
       "      <th>primaryTitle</th>\n",
       "      <th>originalTitle</th>\n",
       "      <th>isAdult</th>\n",
       "      <th>startYear</th>\n",
       "      <th>runtimeMinutes</th>\n",
       "      <th>genres</th>\n",
       "      <th>testYear</th>\n",
       "      <th>Year</th>\n",
       "      <th>recognition</th>\n",
       "      <th>recognition2</th>\n",
       "    </tr>\n",
       "  </thead>\n",
       "  <tbody>\n",
       "    <tr>\n",
       "      <th>253088</th>\n",
       "      <td>tt0167260</td>\n",
       "      <td>[nm0000704, nm0001557, nm0005212]</td>\n",
       "      <td>11</td>\n",
       "      <td>122</td>\n",
       "      <td>198</td>\n",
       "      <td>2003-12-17</td>\n",
       "      <td>Sweden</td>\n",
       "      <td>[orc, epic, battle, journey, hobbit]</td>\n",
       "      <td>$94,000,000</td>\n",
       "      <td>$1,120,424,614</td>\n",
       "      <td>...</td>\n",
       "      <td>The Lord of the Rings: The Return of the King</td>\n",
       "      <td>The Lord of the Rings: The Return of the King</td>\n",
       "      <td>0.0</td>\n",
       "      <td>2003.0</td>\n",
       "      <td>201.0</td>\n",
       "      <td>NaN</td>\n",
       "      <td>2003.0</td>\n",
       "      <td>2003.0</td>\n",
       "      <td>628</td>\n",
       "      <td>12.763399</td>\n",
       "    </tr>\n",
       "    <tr>\n",
       "      <th>236609</th>\n",
       "      <td>tt0120338</td>\n",
       "      <td>[nm0000138, nm0000701, nm0000708]</td>\n",
       "      <td>11</td>\n",
       "      <td>80</td>\n",
       "      <td>115</td>\n",
       "      <td>1997-12-19</td>\n",
       "      <td>USA</td>\n",
       "      <td>[iceberg, told in flashback, titanic, ship, sh...</td>\n",
       "      <td>$200,000,000</td>\n",
       "      <td>$2,187,463,944</td>\n",
       "      <td>...</td>\n",
       "      <td>Titanic</td>\n",
       "      <td>Titanic</td>\n",
       "      <td>0.0</td>\n",
       "      <td>1997.0</td>\n",
       "      <td>194.0</td>\n",
       "      <td>NaN</td>\n",
       "      <td>1997.0</td>\n",
       "      <td>1997.0</td>\n",
       "      <td>420</td>\n",
       "      <td>12.066274</td>\n",
       "    </tr>\n",
       "    <tr>\n",
       "      <th>187906</th>\n",
       "      <td>tt0052618</td>\n",
       "      <td>[nm0000032, nm0370144, nm0000963]</td>\n",
       "      <td>11</td>\n",
       "      <td>13</td>\n",
       "      <td>17</td>\n",
       "      <td>1960-10-06</td>\n",
       "      <td>Netherlands</td>\n",
       "      <td>[roman empire, ancient rome, roman, revenge, c...</td>\n",
       "      <td>$15,000,000</td>\n",
       "      <td>$74,427,638</td>\n",
       "      <td>...</td>\n",
       "      <td>Ben-Hur</td>\n",
       "      <td>Ben-Hur</td>\n",
       "      <td>0.0</td>\n",
       "      <td>1959.0</td>\n",
       "      <td>212.0</td>\n",
       "      <td>NaN</td>\n",
       "      <td>1960.0</td>\n",
       "      <td>1959.0</td>\n",
       "      <td>157</td>\n",
       "      <td>11.163026</td>\n",
       "    </tr>\n",
       "    <tr>\n",
       "      <th>244527</th>\n",
       "      <td>tt0055614</td>\n",
       "      <td>[nm0000081, nm0001995, nm0000937]</td>\n",
       "      <td>10</td>\n",
       "      <td>10</td>\n",
       "      <td>18</td>\n",
       "      <td>1962-03-29</td>\n",
       "      <td>Netherlands</td>\n",
       "      <td>[]</td>\n",
       "      <td>$6,000,000</td>\n",
       "      <td>$44,061,777</td>\n",
       "      <td>...</td>\n",
       "      <td>West Side Story</td>\n",
       "      <td>West Side Story</td>\n",
       "      <td>0.0</td>\n",
       "      <td>1961.0</td>\n",
       "      <td>153.0</td>\n",
       "      <td>NaN</td>\n",
       "      <td>1962.0</td>\n",
       "      <td>1961.0</td>\n",
       "      <td>146</td>\n",
       "      <td>10.155288</td>\n",
       "    </tr>\n",
       "    <tr>\n",
       "      <th>234175</th>\n",
       "      <td>tt0116209</td>\n",
       "      <td>[nm0000146, nm0000300, nm0000353]</td>\n",
       "      <td>9</td>\n",
       "      <td>75</td>\n",
       "      <td>54</td>\n",
       "      <td>1996-12-06</td>\n",
       "      <td>USA</td>\n",
       "      <td>[patient, nurse, flashback, english, church, d...</td>\n",
       "      <td>$27,000,000</td>\n",
       "      <td>$231,976,425</td>\n",
       "      <td>...</td>\n",
       "      <td>The English Patient</td>\n",
       "      <td>The English Patient</td>\n",
       "      <td>0.0</td>\n",
       "      <td>1996.0</td>\n",
       "      <td>162.0</td>\n",
       "      <td>NaN</td>\n",
       "      <td>1996.0</td>\n",
       "      <td>1996.0</td>\n",
       "      <td>273</td>\n",
       "      <td>9.672995</td>\n",
       "    </tr>\n",
       "    <tr>\n",
       "      <th>...</th>\n",
       "      <td>...</td>\n",
       "      <td>...</td>\n",
       "      <td>...</td>\n",
       "      <td>...</td>\n",
       "      <td>...</td>\n",
       "      <td>...</td>\n",
       "      <td>...</td>\n",
       "      <td>...</td>\n",
       "      <td>...</td>\n",
       "      <td>...</td>\n",
       "      <td>...</td>\n",
       "      <td>...</td>\n",
       "      <td>...</td>\n",
       "      <td>...</td>\n",
       "      <td>...</td>\n",
       "      <td>...</td>\n",
       "      <td>...</td>\n",
       "      <td>...</td>\n",
       "      <td>...</td>\n",
       "      <td>...</td>\n",
       "      <td>...</td>\n",
       "    </tr>\n",
       "    <tr>\n",
       "      <th>189271</th>\n",
       "      <td>tt0054356</td>\n",
       "      <td>[nm0088946, nm0127113, nm0353757]</td>\n",
       "      <td>0</td>\n",
       "      <td>0</td>\n",
       "      <td>0</td>\n",
       "      <td>1961-01-20</td>\n",
       "      <td>Finland</td>\n",
       "      <td>[]</td>\n",
       "      <td>None</td>\n",
       "      <td>None</td>\n",
       "      <td>...</td>\n",
       "      <td>Susanne</td>\n",
       "      <td>Susanne</td>\n",
       "      <td>0.0</td>\n",
       "      <td>1960.0</td>\n",
       "      <td>87.0</td>\n",
       "      <td>NaN</td>\n",
       "      <td>1961.0</td>\n",
       "      <td>1960.0</td>\n",
       "      <td>0</td>\n",
       "      <td>0.000000</td>\n",
       "    </tr>\n",
       "    <tr>\n",
       "      <th>189270</th>\n",
       "      <td>tt0054308</td>\n",
       "      <td>[nm0310618, nm0865063, nm0051060]</td>\n",
       "      <td>0</td>\n",
       "      <td>0</td>\n",
       "      <td>0</td>\n",
       "      <td>1960-11-23</td>\n",
       "      <td>Yugoslavia</td>\n",
       "      <td>[]</td>\n",
       "      <td>None</td>\n",
       "      <td>None</td>\n",
       "      <td>...</td>\n",
       "      <td>Signal Over the City</td>\n",
       "      <td>Signali nad gradom</td>\n",
       "      <td>0.0</td>\n",
       "      <td>1960.0</td>\n",
       "      <td>91.0</td>\n",
       "      <td>NaN</td>\n",
       "      <td>1960.0</td>\n",
       "      <td>1960.0</td>\n",
       "      <td>0</td>\n",
       "      <td>0.000000</td>\n",
       "    </tr>\n",
       "    <tr>\n",
       "      <th>189268</th>\n",
       "      <td>tt0054304</td>\n",
       "      <td>[nm0496856, nm0466977, nm0266949]</td>\n",
       "      <td>0</td>\n",
       "      <td>0</td>\n",
       "      <td>0</td>\n",
       "      <td>1961-03-11</td>\n",
       "      <td>Italy</td>\n",
       "      <td>[]</td>\n",
       "      <td>None</td>\n",
       "      <td>None</td>\n",
       "      <td>...</td>\n",
       "      <td>Blood Feud</td>\n",
       "      <td>Il sicario</td>\n",
       "      <td>0.0</td>\n",
       "      <td>1961.0</td>\n",
       "      <td>87.0</td>\n",
       "      <td>NaN</td>\n",
       "      <td>1961.0</td>\n",
       "      <td>1961.0</td>\n",
       "      <td>0</td>\n",
       "      <td>0.000000</td>\n",
       "    </tr>\n",
       "    <tr>\n",
       "      <th>189267</th>\n",
       "      <td>tt0054332</td>\n",
       "      <td>[]</td>\n",
       "      <td>0</td>\n",
       "      <td>0</td>\n",
       "      <td>0</td>\n",
       "      <td>None</td>\n",
       "      <td>None</td>\n",
       "      <td>[]</td>\n",
       "      <td>None</td>\n",
       "      <td>None</td>\n",
       "      <td>...</td>\n",
       "      <td>Spartakiáda</td>\n",
       "      <td>Spartakiáda</td>\n",
       "      <td>0.0</td>\n",
       "      <td>1956.0</td>\n",
       "      <td>88.0</td>\n",
       "      <td>NaN</td>\n",
       "      <td>NaN</td>\n",
       "      <td>1956.0</td>\n",
       "      <td>0</td>\n",
       "      <td>0.000000</td>\n",
       "    </tr>\n",
       "    <tr>\n",
       "      <th>268956</th>\n",
       "      <td>tt0020869</td>\n",
       "      <td>[nm0611804, nm0164883, nm0817021]</td>\n",
       "      <td>0</td>\n",
       "      <td>0</td>\n",
       "      <td>0</td>\n",
       "      <td>1930-06-15</td>\n",
       "      <td>USA</td>\n",
       "      <td>[]</td>\n",
       "      <td>None</td>\n",
       "      <td>None</td>\n",
       "      <td>...</td>\n",
       "      <td>The Fall Guy</td>\n",
       "      <td>The Fall Guy</td>\n",
       "      <td>0.0</td>\n",
       "      <td>1930.0</td>\n",
       "      <td>66.0</td>\n",
       "      <td>NaN</td>\n",
       "      <td>1930.0</td>\n",
       "      <td>1930.0</td>\n",
       "      <td>0</td>\n",
       "      <td>0.000000</td>\n",
       "    </tr>\n",
       "  </tbody>\n",
       "</table>\n",
       "<p>537913 rows × 22 columns</p>\n",
       "</div>"
      ],
      "text/plain": [
       "           tconst                              stars  oscarWins  nominations  \\\n",
       "253088  tt0167260  [nm0000704, nm0001557, nm0005212]         11          122   \n",
       "236609  tt0120338  [nm0000138, nm0000701, nm0000708]         11           80   \n",
       "187906  tt0052618  [nm0000032, nm0370144, nm0000963]         11           13   \n",
       "244527  tt0055614  [nm0000081, nm0001995, nm0000937]         10           10   \n",
       "234175  tt0116209  [nm0000146, nm0000300, nm0000353]          9           75   \n",
       "...           ...                                ...        ...          ...   \n",
       "189271  tt0054356  [nm0088946, nm0127113, nm0353757]          0            0   \n",
       "189270  tt0054308  [nm0310618, nm0865063, nm0051060]          0            0   \n",
       "189268  tt0054304  [nm0496856, nm0466977, nm0266949]          0            0   \n",
       "189267  tt0054332                                 []          0            0   \n",
       "268956  tt0020869  [nm0611804, nm0164883, nm0817021]          0            0   \n",
       "\n",
       "        wins releaseDate releaseCountry  \\\n",
       "253088   198  2003-12-17         Sweden   \n",
       "236609   115  1997-12-19            USA   \n",
       "187906    17  1960-10-06    Netherlands   \n",
       "244527    18  1962-03-29    Netherlands   \n",
       "234175    54  1996-12-06            USA   \n",
       "...      ...         ...            ...   \n",
       "189271     0  1961-01-20        Finland   \n",
       "189270     0  1960-11-23     Yugoslavia   \n",
       "189268     0  1961-03-11          Italy   \n",
       "189267     0        None           None   \n",
       "268956     0  1930-06-15            USA   \n",
       "\n",
       "                                             plotKeywords        budget  \\\n",
       "253088               [orc, epic, battle, journey, hobbit]   $94,000,000   \n",
       "236609  [iceberg, told in flashback, titanic, ship, sh...  $200,000,000   \n",
       "187906  [roman empire, ancient rome, roman, revenge, c...   $15,000,000   \n",
       "244527                                                 []    $6,000,000   \n",
       "234175  [patient, nurse, flashback, english, church, d...   $27,000,000   \n",
       "...                                                   ...           ...   \n",
       "189271                                                 []          None   \n",
       "189270                                                 []          None   \n",
       "189268                                                 []          None   \n",
       "189267                                                 []          None   \n",
       "268956                                                 []          None   \n",
       "\n",
       "        worldwideGross  ...                                   primaryTitle  \\\n",
       "253088  $1,120,424,614  ...  The Lord of the Rings: The Return of the King   \n",
       "236609  $2,187,463,944  ...                                        Titanic   \n",
       "187906     $74,427,638  ...                                        Ben-Hur   \n",
       "244527     $44,061,777  ...                                West Side Story   \n",
       "234175    $231,976,425  ...                            The English Patient   \n",
       "...                ...  ...                                            ...   \n",
       "189271            None  ...                                        Susanne   \n",
       "189270            None  ...                           Signal Over the City   \n",
       "189268            None  ...                                     Blood Feud   \n",
       "189267            None  ...                                    Spartakiáda   \n",
       "268956            None  ...                                   The Fall Guy   \n",
       "\n",
       "                                        originalTitle isAdult startYear  \\\n",
       "253088  The Lord of the Rings: The Return of the King     0.0    2003.0   \n",
       "236609                                        Titanic     0.0    1997.0   \n",
       "187906                                        Ben-Hur     0.0    1959.0   \n",
       "244527                                West Side Story     0.0    1961.0   \n",
       "234175                            The English Patient     0.0    1996.0   \n",
       "...                                               ...     ...       ...   \n",
       "189271                                        Susanne     0.0    1960.0   \n",
       "189270                             Signali nad gradom     0.0    1960.0   \n",
       "189268                                     Il sicario     0.0    1961.0   \n",
       "189267                                    Spartakiáda     0.0    1956.0   \n",
       "268956                                   The Fall Guy     0.0    1930.0   \n",
       "\n",
       "        runtimeMinutes  genres  testYear    Year  recognition  recognition2  \n",
       "253088           201.0     NaN    2003.0  2003.0          628     12.763399  \n",
       "236609           194.0     NaN    1997.0  1997.0          420     12.066274  \n",
       "187906           212.0     NaN    1960.0  1959.0          157     11.163026  \n",
       "244527           153.0     NaN    1962.0  1961.0          146     10.155288  \n",
       "234175           162.0     NaN    1996.0  1996.0          273      9.672995  \n",
       "...                ...     ...       ...     ...          ...           ...  \n",
       "189271            87.0     NaN    1961.0  1960.0            0      0.000000  \n",
       "189270            91.0     NaN    1960.0  1960.0            0      0.000000  \n",
       "189268            87.0     NaN    1961.0  1961.0            0      0.000000  \n",
       "189267            88.0     NaN       NaN  1956.0            0      0.000000  \n",
       "268956            66.0     NaN    1930.0  1930.0            0      0.000000  \n",
       "\n",
       "[537913 rows x 22 columns]"
      ]
     },
     "execution_count": 438,
     "metadata": {},
     "output_type": "execute_result"
    }
   ],
   "source": [
    "OSCAR_WEIGHT = 1108 / recognized_movies['oscarWins'].sum()\n",
    "WIN_WEIGHT = 1108 / recognized_movies['wins'].sum()\n",
    "NOMINATION_WEIGHT = 1108 / recognized_movies['nominations'].sum()\n",
    "movies['recognition2'] = (movies.oscarWins * OSCAR_WEIGHT) + (movies.nominations * NOMINATION_WEIGHT) + (movies.wins *WIN_WEIGHT)\n",
    "recognized_movies2 = movies.sort_values('recognition2', ascending=False)\n",
    "recognized_movies2"
   ]
  },
  {
   "cell_type": "code",
   "execution_count": 441,
   "metadata": {},
   "outputs": [],
   "source": [
    "recognized_movies2 = recognized_movies2.merge(cast_ages, how='left', left_on='tconst', right_index=True)\n",
    "recognized_movies2 = recognized_movies2.drop_duplicates(subset=['tconst'])"
   ]
  },
  {
   "cell_type": "code",
   "execution_count": 443,
   "metadata": {},
   "outputs": [
    {
     "data": {
      "image/png": "[encoded data removed]",
      "text/plain": [
       "<Figure size 1008x576 with 1 Axes>"
      ]
     },
     "metadata": {
      "needs_background": "light"
     },
     "output_type": "display_data"
    }
   ],
   "source": [
    "fig = plt.figure(figsize=(14,8))\n",
    "\n",
    "plt.scatter(recognized_movies2['credible_median'],\\\n",
    "            recognized_movies2['recognition2'], s=5);\n",
    "plt.title(\"Awards score against median age\") \n",
    "\n",
    "\n",
    "#plt.yscale('symlog')\n",
    "plt.xlabel('Median age')\n",
    "plt.ylabel('Awards score');"
   ]
  },
  {
   "cell_type": "code",
   "execution_count": 444,
   "metadata": {},
   "outputs": [],
   "source": [
    "recognized_movies2['metascore'] = recognized_movies2['metascore'].apply(clean_metascore)"
   ]
  },
  {
   "cell_type": "code",
   "execution_count": 446,
   "metadata": {},
   "outputs": [
    {
     "data": {
      "image/png": "[encoded data removed]",
      "text/plain": [
       "<Figure size 1008x576 with 1 Axes>"
      ]
     },
     "metadata": {
      "needs_background": "light"
     },
     "output_type": "display_data"
    }
   ],
   "source": [
    "fig = plt.figure(figsize=(14,8))\n",
    "\n",
    "plt.scatter(recognized_movies2['metascore'],\\\n",
    "            recognized_movies2['recognition2'], s=5);\n",
    "plt.title(\"Awards score against metacritic score\")   \n",
    "#plt.yscale('symlog')\n",
    "plt.xlabel('Metacritic score')\n",
    "plt.ylabel('Awards score');"
   ]
  },
  {
   "cell_type": "code",
   "execution_count": 449,
   "metadata": {},
   "outputs": [
    {
     "data": {
      "text/html": [
       "<div>\n",
       "<style scoped>\n",
       "    .dataframe tbody tr th:only-of-type {\n",
       "        vertical-align: middle;\n",
       "    }\n",
       "\n",
       "    .dataframe tbody tr th {\n",
       "        vertical-align: top;\n",
       "    }\n",
       "\n",
       "    .dataframe thead th {\n",
       "        text-align: right;\n",
       "    }\n",
       "</style>\n",
       "<table border=\"1\" class=\"dataframe\">\n",
       "  <thead>\n",
       "    <tr style=\"text-align: right;\">\n",
       "      <th></th>\n",
       "      <th>custom_mean</th>\n",
       "      <th>custom_median</th>\n",
       "      <th>cast_count</th>\n",
       "    </tr>\n",
       "    <tr>\n",
       "      <th>isAdult</th>\n",
       "      <th></th>\n",
       "      <th></th>\n",
       "      <th></th>\n",
       "    </tr>\n",
       "  </thead>\n",
       "  <tbody>\n",
       "    <tr>\n",
       "      <th>0.0</th>\n",
       "      <td>0.006313</td>\n",
       "      <td>0.0</td>\n",
       "      <td>525757.0</td>\n",
       "    </tr>\n",
       "    <tr>\n",
       "      <th>1.0</th>\n",
       "      <td>0.000492</td>\n",
       "      <td>0.0</td>\n",
       "      <td>8694.0</td>\n",
       "    </tr>\n",
       "  </tbody>\n",
       "</table>\n",
       "</div>"
      ],
      "text/plain": [
       "         custom_mean  custom_median  cast_count\n",
       "isAdult                                        \n",
       "0.0         0.006313            0.0    525757.0\n",
       "1.0         0.000492            0.0      8694.0"
      ]
     },
     "execution_count": 449,
     "metadata": {},
     "output_type": "execute_result"
    }
   ],
   "source": [
    "recognized_movies2.groupby('isAdult')['recognition2']\\\n",
    "                 .agg([custom_mean, custom_median, cast_count])"
   ]
  },
  {
   "cell_type": "code",
   "execution_count": 450,
   "metadata": {},
   "outputs": [],
   "source": [
    "recognized_movies.to_pickle(\"recognized_movies.pkl\")"
   ]
  },
  {
   "cell_type": "code",
   "execution_count": null,
   "metadata": {},
   "outputs": [],
   "source": []
  }
 ],
 "metadata": {
  "kernelspec": {
   "display_name": "Python 3",
   "language": "python",
   "name": "python3"
  },
  "language_info": {
   "codemirror_mode": {
    "name": "ipython",
    "version": 3
   },
   "file_extension": ".py",
   "mimetype": "text/x-python",
   "name": "python",
   "nbconvert_exporter": "python",
   "pygments_lexer": "ipython3",
   "version": "3.6.9"
  }
 },
 "nbformat": 4,
 "nbformat_minor": 2
}
