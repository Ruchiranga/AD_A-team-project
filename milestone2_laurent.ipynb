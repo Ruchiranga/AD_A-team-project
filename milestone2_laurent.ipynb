{
 "cells": [
  {
   "cell_type": "markdown",
   "metadata": {},
   "source": [
    "# Introduction\n",
    "\n",
    "As we need to scrap a lot of data, we will performe the initial analysis for milestone 2 on a subset of movies and the actors that play in those movies. This is done to show the viability of our approaches. Then as soon as we have the full set of the data, we will scale up our analysis."
   ]
  },
  {
   "cell_type": "code",
   "execution_count": 1,
   "metadata": {},
   "outputs": [],
   "source": [
    "import pandas as pd\n",
    "import numpy as np\n",
    "import seaborn as sns\n",
    "import matplotlib.pyplot as plt"
   ]
  },
  {
   "cell_type": "code",
   "execution_count": 2,
   "metadata": {
    "scrolled": true
   },
   "outputs": [
    {
     "name": "stderr",
     "output_type": "stream",
     "text": [
      "/anaconda3/lib/python3.6/site-packages/IPython/core/interactiveshell.py:3058: DtypeWarning: Columns (5) have mixed types. Specify dtype option on import or set low_memory=False.\n",
      "  interactivity=interactivity, compiler=compiler, result=result)\n"
     ]
    }
   ],
   "source": [
    "df_movies_subset=pd.read_pickle('movies_subset.pkl')\n",
    "df_actors_awards=pd.read_pickle('actors_awards_subset.pkl')\n",
    "df_movies=pd.read_csv('data/title.basics.tsv.gz', sep='\\t')\n",
    "df_actors=pd.read_csv('data/name.basics.tsv.gz', sep='\\t')\n",
    "df_ratings=pd.read_csv('data/title.ratings.tsv.gz', sep='\\t')"
   ]
  },
  {
   "cell_type": "markdown",
   "metadata": {},
   "source": [
    "## Raw Data"
   ]
  },
  {
   "cell_type": "code",
   "execution_count": null,
   "metadata": {},
   "outputs": [],
   "source": [
    "len(df_movies_subset)"
   ]
  },
  {
   "cell_type": "code",
   "execution_count": null,
   "metadata": {},
   "outputs": [],
   "source": [
    "len()"
   ]
  },
  {
   "cell_type": "markdown",
   "metadata": {},
   "source": [
    "We start by merging the different data sets with information about the movies into one data set."
   ]
  },
  {
   "cell_type": "markdown",
   "metadata": {},
   "source": [
    "### Movies data"
   ]
  },
  {
   "cell_type": "code",
   "execution_count": null,
   "metadata": {},
   "outputs": [],
   "source": [
    "#adding our scrapped data to the original movie data set\n",
    "movies_data=df_movies_subset.merge(df_movies,how='inner', on='tconst')\n",
    "movies_data=movies_data.merge(df_ratings, how='left', on='tconst').drop(['titleType','isAdult','endYear'],axis=1)"
   ]
  },
  {
   "cell_type": "code",
   "execution_count": null,
   "metadata": {
    "scrolled": true
   },
   "outputs": [],
   "source": [
    "with pd.option_context('display.max_columns', 50):\n",
    "    display(movies_data.head())"
   ]
  },
  {
   "cell_type": "markdown",
   "metadata": {},
   "source": [
    "#### Description of the data\n",
    "\n",
    "- tconst: Unique imdb identifier of each movie, given as string\n",
    "- stars: Three main actors playing in the movie , given as list of strings, scraped \n",
    "- oscarWins: Number of Oscars awarded to the movie, given as float, scraped \n",
    "- nominations: Number of general award nominations, given as float, scraped\n",
    "- wins: Number of awards won, given as integer, scraped\n",
    "- releaseDate: Date release of the movie, given as DateTime, scraped\n",
    "- releaseCountry: Country of release, given as string, scraped\n",
    "- plotKeywords: Keywords describing the plot of the movie, given as list of strings, scraped\n",
    "- budget: production budget of the movie, given as string, scraped\n",
    "- worldwideGross: Wordlwide revenue, given as string, scrapped\n",
    "- metascore: Scores are assigned to movie's reviews of large group of the world's most respected critics, and weighted average are applied to summarize their opinions range, given as float, scraped\n",
    "- musicProducer: Producer of the music in the movie, string, scraped\n",
    "- primaryTitle: English title, string\n",
    "- originalTitle: Original title, string\n",
    "- startYear: Year of release, integer\n",
    "- runtimeMinutes: Runtime of the movie in minutes, string, scraped\n",
    "- genres: genres the movie can be attributed to, string\n",
    "- averageRating: Average rating of the movie given by imbd users, float\n",
    "- numVotes: Number of users that have scored the movie, float\n",
    "\n"
   ]
  },
  {
   "cell_type": "markdown",
   "metadata": {},
   "source": [
    "### Actors data"
   ]
  },
  {
   "cell_type": "code",
   "execution_count": null,
   "metadata": {
    "scrolled": true
   },
   "outputs": [],
   "source": [
    "df_actors_awards.head()"
   ]
  },
  {
   "cell_type": "code",
   "execution_count": null,
   "metadata": {},
   "outputs": [],
   "source": [
    "df_actors.head()"
   ]
  },
  {
   "cell_type": "markdown",
   "metadata": {},
   "source": [
    "## Data Wrangling"
   ]
  },
  {
   "cell_type": "markdown",
   "metadata": {},
   "source": [
    "### Movie Data"
   ]
  },
  {
   "cell_type": "markdown",
   "metadata": {},
   "source": [
    "In movies_data we need to change a few columns to achive our goal:\n",
    "\n",
    "- releaseDate, here we only want the month, to see if there is seasonality, the release year is given seperately\n",
    "- for budget and wordwideGross: These are given in different currency depending on the movie. Furthermore, they are not always given in the same currency for a given movie. To proceed we first need to convert the strings into integers and then we would need to convert all the numbers into dollars to make them comparable.\n",
    "- runtime: Transforme to integers\n",
    "- genres: Transforme to list of strings\n",
    "\n",
    "Furthermore, there are some columns we are not interested in, that we can drop."
   ]
  },
  {
   "cell_type": "code",
   "execution_count": null,
   "metadata": {},
   "outputs": [],
   "source": [
    "#extracting month\n",
    "movies_data['releaseMonth']=movies_data['releaseDate'].map(lambda x:  x.month if x != None else None)"
   ]
  },
  {
   "cell_type": "code",
   "execution_count": null,
   "metadata": {},
   "outputs": [],
   "source": [
    "#first we need to change worldwideGross and budget to integers\n",
    "import re\n",
    "    \n",
    "def to_int(x):\n",
    "    if x ==None:\n",
    "        val=None\n",
    "        dollar= False\n",
    "    else:\n",
    "        val= int(re.sub('[^0-9,]', \"\", x).replace(\",\", \"\"))\n",
    "        if x.startswith('$'):\n",
    "            dollar= True\n",
    "        else:\n",
    "            dollar= False\n",
    "    return val, dollar\n",
    "    \n",
    "movies_data['budget'],movies_data['budget_in_dollar'] = zip(*movies_data['budget'].apply(to_int))\n",
    "movies_data['worldwideGross'], movies_data['worldwideGross_in_dollar']= zip(*movies_data['worldwideGross']\\\n",
    "                                                                            .apply(to_int))\n",
    "#now we can calculate the revenue percentage\n",
    "movies_data['revenue']=movies_data['worldwideGross']/movies_data['budget']-1"
   ]
  },
  {
   "cell_type": "code",
   "execution_count": null,
   "metadata": {},
   "outputs": [],
   "source": [
    "#only extracting one genre\n",
    "#Needs to be improved as genres are just orderd in alphabetical order not importance\n",
    "movies_data.genres=movies_data.genres.str.split(',')"
   ]
  },
  {
   "cell_type": "code",
   "execution_count": null,
   "metadata": {
    "scrolled": true
   },
   "outputs": [],
   "source": [
    "with pd.option_context('display.max_columns', 50):\n",
    "    display(movies_data.head())"
   ]
  },
  {
   "cell_type": "markdown",
   "metadata": {},
   "source": [
    "### Actors Data"
   ]
  },
  {
   "cell_type": "markdown",
   "metadata": {},
   "source": [
    "Out of the awards data of the actors we want to build a score for the actors. We will score the wins and nominations in the top 10 movies awards according to https://www.therichest.com/most-popular/top-10-most-prestigious-movie-awards-in-the-world/ higher then the wins and nominations in the other awards."
   ]
  },
  {
   "cell_type": "code",
   "execution_count": null,
   "metadata": {},
   "outputs": [],
   "source": [
    "best_award=['Golden Globe','Oscar', 'Golden Lion','Grand Jury Prize','Golden Leopard','European Film Award', 'Filmfare Award','Golden Berlin Bear','BAFTA Film Award',\"Palme d'Or\"]"
   ]
  },
  {
   "cell_type": "code",
   "execution_count": null,
   "metadata": {},
   "outputs": [],
   "source": [
    "df_actors_awards['Important']=[False]*df_actors_awards.shape[0]"
   ]
  },
  {
   "cell_type": "code",
   "execution_count": null,
   "metadata": {},
   "outputs": [],
   "source": [
    "df_actors_awards['Important'][df_actors_awards.category.isin(best_award)]=True"
   ]
  },
  {
   "cell_type": "code",
   "execution_count": null,
   "metadata": {},
   "outputs": [],
   "source": [
    "df_actors_awards.head()"
   ]
  },
  {
   "cell_type": "markdown",
   "metadata": {},
   "source": [
    "In the actors data set we want to have the gender as an aditional feature"
   ]
  },
  {
   "cell_type": "code",
   "execution_count": null,
   "metadata": {},
   "outputs": [],
   "source": [
    "#splitting professions\n",
    "df_actors.primaryProfession=df_actors.primaryProfession.str.split(',')"
   ]
  },
  {
   "cell_type": "code",
   "execution_count": null,
   "metadata": {},
   "outputs": [],
   "source": [
    "def m_f(x):\n",
    "    if type(x) is list:\n",
    "        if 'actor' in x:\n",
    "            return 'M'\n",
    "        elif 'actress' in x:\n",
    "            return 'F'\n",
    "        else:\n",
    "            return None\n",
    "    else:\n",
    "        return None"
   ]
  },
  {
   "cell_type": "code",
   "execution_count": null,
   "metadata": {},
   "outputs": [],
   "source": [
    "df_actors['gender']=df_actors.primaryProfession.apply(m_f)"
   ]
  },
  {
   "cell_type": "code",
   "execution_count": null,
   "metadata": {},
   "outputs": [],
   "source": [
    "df_actors.head()"
   ]
  },
  {
   "cell_type": "markdown",
   "metadata": {},
   "source": [
    "## Data exploration\n",
    "\n",
    "Now that we have the data sets cleaned we can do the initial data analysis."
   ]
  },
  {
   "cell_type": "markdown",
   "metadata": {},
   "source": [
    "#### Actors data"
   ]
  },
  {
   "cell_type": "markdown",
   "metadata": {},
   "source": [
    "#### Movies data"
   ]
  },
  {
   "cell_type": "code",
   "execution_count": null,
   "metadata": {},
   "outputs": [],
   "source": [
    "plt.figure(figsize=(15,7))\n",
    "chart=sns.barplot(x='releaseCountry',y='oscarWins',data=pd.DataFrame(movies_data[movies_data['oscarWins']>0].groupby('releaseCountry')['oscarWins'].sum().reset_index()),palette='colorblind')\n",
    "chart.set_xticklabels(chart.get_xticklabels(),rotation=45)\n",
    "plt.title('Number of Oscars by release country')\n",
    "plt.xlabel('Release Country')\n",
    "plt.ylabel('Number of Oscar Wins')\n",
    "plt.show()"
   ]
  },
  {
   "cell_type": "code",
   "execution_count": null,
   "metadata": {},
   "outputs": [],
   "source": [
    "plt.figure(figsize=(12,7))\n",
    "sns.barplot('releaseMonth', 'oscarWins', data=movies_data.groupby('releaseMonth')['oscarWins'].sum().reset_index(),palette='colorblind')\n",
    "plt.ylabel('Number of Oscar wins')\n",
    "plt.xlabel('Release Month')\n",
    "plt.title('Barplot of oscar wins per release month')\n",
    "plt.show()"
   ]
  }
 ],
 "metadata": {
  "kernelspec": {
   "display_name": "Python 3",
   "language": "python",
   "name": "python3"
  },
  "language_info": {
   "codemirror_mode": {
    "name": "ipython",
    "version": 3
   },
   "file_extension": ".py",
   "mimetype": "text/x-python",
   "name": "python",
   "nbconvert_exporter": "python",
   "pygments_lexer": "ipython3",
   "version": "3.6.9"
  }
 },
 "nbformat": 4,
 "nbformat_minor": 2
}
