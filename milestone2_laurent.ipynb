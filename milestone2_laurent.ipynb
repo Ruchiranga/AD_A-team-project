{
 "cells": [
  {
   "cell_type": "markdown",
   "metadata": {},
   "source": [
    "# Introduction\n",
    "\n",
    "As we need to scrap a lot of data, we will performe the initial analysis for milestone 2 on a subset of movies and the actors that play in those movies. This is done to show the viability of our approaches. Then as soon as we have the full set of the data, we will scale up our analysis."
   ]
  },
  {
   "cell_type": "code",
   "execution_count": 1,
   "metadata": {},
   "outputs": [],
   "source": [
    "import pandas as pd\n",
    "import numpy as np\n",
    "import seaborn as sns\n",
    "import matplotlib.pyplot as plt"
   ]
  },
  {
   "cell_type": "code",
   "execution_count": 2,
   "metadata": {
    "scrolled": true
   },
   "outputs": [
    {
     "name": "stderr",
     "output_type": "stream",
     "text": [
      "/home/laurent/anaconda3/lib/python3.7/site-packages/IPython/core/interactiveshell.py:3058: DtypeWarning: Columns (5) have mixed types. Specify dtype option on import or set low_memory=False.\n",
      "  interactivity=interactivity, compiler=compiler, result=result)\n"
     ]
    }
   ],
   "source": [
    "df_movies_subset=pd.read_pickle('movies_subset.pkl')\n",
    "df_actors_awards=pd.read_pickle('actors_awards_subset.pkl')\n",
    "df_movies=pd.read_csv('data/title.basics.tsv', sep='\\t')\n",
    "df_actors=pd.read_csv('data/name.basics.tsv', sep='\\t')\n",
    "df_ratings=pd.read_csv('data/title.ratings.tsv', sep='\\t')"
   ]
  },
  {
   "cell_type": "markdown",
   "metadata": {},
   "source": [
    "## Raw Data"
   ]
  },
  {
   "cell_type": "markdown",
   "metadata": {},
   "source": [
    "We start by merging the different data sets with information about the movies into one data set."
   ]
  },
  {
   "cell_type": "markdown",
   "metadata": {},
   "source": [
    "### Movies data"
   ]
  },
  {
   "cell_type": "code",
   "execution_count": 3,
   "metadata": {},
   "outputs": [],
   "source": [
    "#adding our scrapped data to the original movie data set\n",
    "movies_data=df_movies_subset.merge(df_movies,how='inner', on='tconst')\n",
    "movies_data=movies_data.merge(df_ratings, how='left', on='tconst').drop(['titleType','isAdult','endYear'],axis=1)"
   ]
  },
  {
   "cell_type": "code",
   "execution_count": 4,
   "metadata": {
    "scrolled": true
   },
   "outputs": [
    {
     "data": {
      "text/html": [
       "<div>\n",
       "<style scoped>\n",
       "    .dataframe tbody tr th:only-of-type {\n",
       "        vertical-align: middle;\n",
       "    }\n",
       "\n",
       "    .dataframe tbody tr th {\n",
       "        vertical-align: top;\n",
       "    }\n",
       "\n",
       "    .dataframe thead th {\n",
       "        text-align: right;\n",
       "    }\n",
       "</style>\n",
       "<table border=\"1\" class=\"dataframe\">\n",
       "  <thead>\n",
       "    <tr style=\"text-align: right;\">\n",
       "      <th></th>\n",
       "      <th>tconst</th>\n",
       "      <th>stars</th>\n",
       "      <th>oscarWins</th>\n",
       "      <th>nominations</th>\n",
       "      <th>wins</th>\n",
       "      <th>releaseDate</th>\n",
       "      <th>releaseCountry</th>\n",
       "      <th>plotKeywords</th>\n",
       "      <th>budget</th>\n",
       "      <th>worldwideGross</th>\n",
       "      <th>metascore</th>\n",
       "      <th>musicProducer</th>\n",
       "      <th>primaryTitle</th>\n",
       "      <th>originalTitle</th>\n",
       "      <th>startYear</th>\n",
       "      <th>runtimeMinutes</th>\n",
       "      <th>genres</th>\n",
       "      <th>averageRating</th>\n",
       "      <th>numVotes</th>\n",
       "    </tr>\n",
       "  </thead>\n",
       "  <tbody>\n",
       "    <tr>\n",
       "      <td>0</td>\n",
       "      <td>tt0014799</td>\n",
       "      <td>[nm0265550, nm0370407, nm0550195]</td>\n",
       "      <td>0</td>\n",
       "      <td>0</td>\n",
       "      <td>0</td>\n",
       "      <td>1924-05-31</td>\n",
       "      <td>UK</td>\n",
       "      <td>[]</td>\n",
       "      <td>None</td>\n",
       "      <td>None</td>\n",
       "      <td>None</td>\n",
       "      <td>None</td>\n",
       "      <td>The Conspirators</td>\n",
       "      <td>The Conspirators</td>\n",
       "      <td>1924</td>\n",
       "      <td>\\N</td>\n",
       "      <td>Crime,Drama</td>\n",
       "      <td>NaN</td>\n",
       "      <td>NaN</td>\n",
       "    </tr>\n",
       "    <tr>\n",
       "      <td>1</td>\n",
       "      <td>tt0014843</td>\n",
       "      <td>[nm0427659, nm0107574, nm0421138]</td>\n",
       "      <td>0</td>\n",
       "      <td>0</td>\n",
       "      <td>0</td>\n",
       "      <td>1924-08-24</td>\n",
       "      <td>USA</td>\n",
       "      <td>[]</td>\n",
       "      <td>None</td>\n",
       "      <td>None</td>\n",
       "      <td>None</td>\n",
       "      <td>None</td>\n",
       "      <td>The Desert Outlaw</td>\n",
       "      <td>The Desert Outlaw</td>\n",
       "      <td>1924</td>\n",
       "      <td>60</td>\n",
       "      <td>Western</td>\n",
       "      <td>NaN</td>\n",
       "      <td>NaN</td>\n",
       "    </tr>\n",
       "    <tr>\n",
       "      <td>2</td>\n",
       "      <td>tt0014809</td>\n",
       "      <td>[nm0267916, nm0119572, nm0055809]</td>\n",
       "      <td>0</td>\n",
       "      <td>0</td>\n",
       "      <td>0</td>\n",
       "      <td>1924-04-08</td>\n",
       "      <td>USA</td>\n",
       "      <td>[]</td>\n",
       "      <td>None</td>\n",
       "      <td>None</td>\n",
       "      <td>None</td>\n",
       "      <td>None</td>\n",
       "      <td>Crossed Trails</td>\n",
       "      <td>Crossed Trails</td>\n",
       "      <td>1924</td>\n",
       "      <td>50</td>\n",
       "      <td>Western</td>\n",
       "      <td>NaN</td>\n",
       "      <td>NaN</td>\n",
       "    </tr>\n",
       "    <tr>\n",
       "      <td>3</td>\n",
       "      <td>tt0014751</td>\n",
       "      <td>[nm0403710, nm0744408]</td>\n",
       "      <td>0</td>\n",
       "      <td>0</td>\n",
       "      <td>0</td>\n",
       "      <td>None</td>\n",
       "      <td>None</td>\n",
       "      <td>[]</td>\n",
       "      <td>None</td>\n",
       "      <td>None</td>\n",
       "      <td>None</td>\n",
       "      <td>None</td>\n",
       "      <td>La buenaventura de Pitusín</td>\n",
       "      <td>La buenaventura de Pitusín</td>\n",
       "      <td>1924</td>\n",
       "      <td>\\N</td>\n",
       "      <td>\\N</td>\n",
       "      <td>NaN</td>\n",
       "      <td>NaN</td>\n",
       "    </tr>\n",
       "    <tr>\n",
       "      <td>4</td>\n",
       "      <td>tt0014812</td>\n",
       "      <td>[nm0556953, nm0531962, nm0645941]</td>\n",
       "      <td>0</td>\n",
       "      <td>0</td>\n",
       "      <td>0</td>\n",
       "      <td>1924-12-28</td>\n",
       "      <td>USA</td>\n",
       "      <td>[]</td>\n",
       "      <td>None</td>\n",
       "      <td>None</td>\n",
       "      <td>None</td>\n",
       "      <td>None</td>\n",
       "      <td>Curlytop</td>\n",
       "      <td>Curlytop</td>\n",
       "      <td>1924</td>\n",
       "      <td>60</td>\n",
       "      <td>Drama,Romance</td>\n",
       "      <td>NaN</td>\n",
       "      <td>NaN</td>\n",
       "    </tr>\n",
       "  </tbody>\n",
       "</table>\n",
       "</div>"
      ],
      "text/plain": [
       "      tconst                              stars  oscarWins  nominations  wins  \\\n",
       "0  tt0014799  [nm0265550, nm0370407, nm0550195]          0            0     0   \n",
       "1  tt0014843  [nm0427659, nm0107574, nm0421138]          0            0     0   \n",
       "2  tt0014809  [nm0267916, nm0119572, nm0055809]          0            0     0   \n",
       "3  tt0014751             [nm0403710, nm0744408]          0            0     0   \n",
       "4  tt0014812  [nm0556953, nm0531962, nm0645941]          0            0     0   \n",
       "\n",
       "  releaseDate releaseCountry plotKeywords budget worldwideGross metascore  \\\n",
       "0  1924-05-31             UK           []   None           None      None   \n",
       "1  1924-08-24            USA           []   None           None      None   \n",
       "2  1924-04-08            USA           []   None           None      None   \n",
       "3        None           None           []   None           None      None   \n",
       "4  1924-12-28            USA           []   None           None      None   \n",
       "\n",
       "  musicProducer                primaryTitle               originalTitle  \\\n",
       "0          None            The Conspirators            The Conspirators   \n",
       "1          None           The Desert Outlaw           The Desert Outlaw   \n",
       "2          None              Crossed Trails              Crossed Trails   \n",
       "3          None  La buenaventura de Pitusín  La buenaventura de Pitusín   \n",
       "4          None                    Curlytop                    Curlytop   \n",
       "\n",
       "  startYear runtimeMinutes         genres  averageRating  numVotes  \n",
       "0      1924             \\N    Crime,Drama            NaN       NaN  \n",
       "1      1924             60        Western            NaN       NaN  \n",
       "2      1924             50        Western            NaN       NaN  \n",
       "3      1924             \\N             \\N            NaN       NaN  \n",
       "4      1924             60  Drama,Romance            NaN       NaN  "
      ]
     },
     "metadata": {},
     "output_type": "display_data"
    }
   ],
   "source": [
    "with pd.option_context('display.max_columns', 50):\n",
    "    display(movies_data.head())"
   ]
  },
  {
   "cell_type": "markdown",
   "metadata": {},
   "source": [
    "#### Description of the data\n",
    "\n",
    "- tconst: Unique imdb identifier of each movie, given as string\n",
    "- stars: Three main actors playing in the movie , given as list of strings, scraped \n",
    "- oscarWins: Number of Oscars awarded to the movie, given as float, scraped \n",
    "- nominations: Number of general award nominations, given as float, scraped\n",
    "- wins: Number of awards won, given as integer, scraped\n",
    "- releaseDate: Date release of the movie, given as DateTime, scraped\n",
    "- releaseCountry: Country of release, given as string, scraped\n",
    "- plotKeywords: Keywords describing the plot of the movie, given as list of strings, scraped\n",
    "- budget: production budget of the movie, given as string, scraped\n",
    "- worldwideGross: Wordlwide revenue, given as string, scrapped\n",
    "- metascore: Scores are assigned to movie's reviews of large group of the world's most respected critics, and weighted average are applied to summarize their opinions range, given as float, scraped\n",
    "- musicProducer: Producer of the music in the movie, string, scraped\n",
    "- primaryTitle: English title, string\n",
    "- originalTitle: Original title, string\n",
    "- startYear: Year of release, integer\n",
    "- runtimeMinutes: Runtime of the movie in minutes, string, scraped\n",
    "- genres: genres the movie can be attributed to, string\n",
    "- averageRating: Average rating of the movie given by imbd users, float\n",
    "- numVotes: Number of users that have scored the movie, float\n",
    "\n"
   ]
  },
  {
   "cell_type": "markdown",
   "metadata": {},
   "source": [
    "### Actors data"
   ]
  },
  {
   "cell_type": "code",
   "execution_count": 5,
   "metadata": {
    "scrolled": true
   },
   "outputs": [
    {
     "data": {
      "text/html": [
       "<div>\n",
       "<style scoped>\n",
       "    .dataframe tbody tr th:only-of-type {\n",
       "        vertical-align: middle;\n",
       "    }\n",
       "\n",
       "    .dataframe tbody tr th {\n",
       "        vertical-align: top;\n",
       "    }\n",
       "\n",
       "    .dataframe thead th {\n",
       "        text-align: right;\n",
       "    }\n",
       "</style>\n",
       "<table border=\"1\" class=\"dataframe\">\n",
       "  <thead>\n",
       "    <tr style=\"text-align: right;\">\n",
       "      <th></th>\n",
       "      <th>nconst</th>\n",
       "      <th>year</th>\n",
       "      <th>category</th>\n",
       "      <th>w_n</th>\n",
       "      <th>description</th>\n",
       "      <th>movie</th>\n",
       "      <th>tconst</th>\n",
       "    </tr>\n",
       "  </thead>\n",
       "  <tbody>\n",
       "    <tr>\n",
       "      <td>0</td>\n",
       "      <td>nm0309470</td>\n",
       "      <td>2005</td>\n",
       "      <td>David</td>\n",
       "      <td>Nominee</td>\n",
       "      <td>Best Supporting Actress (Migliore Attrice non ...</td>\n",
       "      <td>Cuore sacro</td>\n",
       "      <td>tt0429898</td>\n",
       "    </tr>\n",
       "    <tr>\n",
       "      <td>1</td>\n",
       "      <td>nm0309470</td>\n",
       "      <td>1968</td>\n",
       "      <td>Golden Plate</td>\n",
       "      <td>Winner</td>\n",
       "      <td></td>\n",
       "      <td>Grazie zia</td>\n",
       "      <td>tt0063033</td>\n",
       "    </tr>\n",
       "    <tr>\n",
       "      <td>2</td>\n",
       "      <td>nm0309470</td>\n",
       "      <td>2005</td>\n",
       "      <td>Golden Ciak</td>\n",
       "      <td>Winner</td>\n",
       "      <td>Best Supporting Actress (Migliore Attrice Non ...</td>\n",
       "      <td>Cuore sacro</td>\n",
       "      <td>tt0429898</td>\n",
       "    </tr>\n",
       "    <tr>\n",
       "      <td>3</td>\n",
       "      <td>nm0309470</td>\n",
       "      <td>1967</td>\n",
       "      <td>Golden Globe</td>\n",
       "      <td>Winner</td>\n",
       "      <td>Best Actress (Migliore Attrice)</td>\n",
       "      <td>Svegliati e uccidi</td>\n",
       "      <td>tt0061049</td>\n",
       "    </tr>\n",
       "    <tr>\n",
       "      <td>4</td>\n",
       "      <td>nm0309470</td>\n",
       "      <td>1968</td>\n",
       "      <td>Golden Goblet</td>\n",
       "      <td>Winner</td>\n",
       "      <td>Best Actress (Migliore Attrice)</td>\n",
       "      <td>Grazie zia</td>\n",
       "      <td>tt0063033</td>\n",
       "    </tr>\n",
       "  </tbody>\n",
       "</table>\n",
       "</div>"
      ],
      "text/plain": [
       "      nconst  year       category      w_n  \\\n",
       "0  nm0309470  2005          David  Nominee   \n",
       "1  nm0309470  1968   Golden Plate   Winner   \n",
       "2  nm0309470  2005    Golden Ciak   Winner   \n",
       "3  nm0309470  1967   Golden Globe   Winner   \n",
       "4  nm0309470  1968  Golden Goblet   Winner   \n",
       "\n",
       "                                         description               movie  \\\n",
       "0  Best Supporting Actress (Migliore Attrice non ...         Cuore sacro   \n",
       "1                                                             Grazie zia   \n",
       "2  Best Supporting Actress (Migliore Attrice Non ...         Cuore sacro   \n",
       "3                    Best Actress (Migliore Attrice)  Svegliati e uccidi   \n",
       "4                    Best Actress (Migliore Attrice)          Grazie zia   \n",
       "\n",
       "      tconst  \n",
       "0  tt0429898  \n",
       "1  tt0063033  \n",
       "2  tt0429898  \n",
       "3  tt0061049  \n",
       "4  tt0063033  "
      ]
     },
     "execution_count": 5,
     "metadata": {},
     "output_type": "execute_result"
    }
   ],
   "source": [
    "df_actors_awards.head()"
   ]
  },
  {
   "cell_type": "code",
   "execution_count": 6,
   "metadata": {},
   "outputs": [
    {
     "data": {
      "text/html": [
       "<div>\n",
       "<style scoped>\n",
       "    .dataframe tbody tr th:only-of-type {\n",
       "        vertical-align: middle;\n",
       "    }\n",
       "\n",
       "    .dataframe tbody tr th {\n",
       "        vertical-align: top;\n",
       "    }\n",
       "\n",
       "    .dataframe thead th {\n",
       "        text-align: right;\n",
       "    }\n",
       "</style>\n",
       "<table border=\"1\" class=\"dataframe\">\n",
       "  <thead>\n",
       "    <tr style=\"text-align: right;\">\n",
       "      <th></th>\n",
       "      <th>nconst</th>\n",
       "      <th>primaryName</th>\n",
       "      <th>birthYear</th>\n",
       "      <th>deathYear</th>\n",
       "      <th>primaryProfession</th>\n",
       "      <th>knownForTitles</th>\n",
       "    </tr>\n",
       "  </thead>\n",
       "  <tbody>\n",
       "    <tr>\n",
       "      <td>0</td>\n",
       "      <td>nm0000001</td>\n",
       "      <td>Fred Astaire</td>\n",
       "      <td>1899</td>\n",
       "      <td>1987</td>\n",
       "      <td>soundtrack,actor,miscellaneous</td>\n",
       "      <td>tt0043044,tt0050419,tt0072308,tt0053137</td>\n",
       "    </tr>\n",
       "    <tr>\n",
       "      <td>1</td>\n",
       "      <td>nm0000002</td>\n",
       "      <td>Lauren Bacall</td>\n",
       "      <td>1924</td>\n",
       "      <td>2014</td>\n",
       "      <td>actress,soundtrack</td>\n",
       "      <td>tt0117057,tt0038355,tt0071877,tt0037382</td>\n",
       "    </tr>\n",
       "    <tr>\n",
       "      <td>2</td>\n",
       "      <td>nm0000003</td>\n",
       "      <td>Brigitte Bardot</td>\n",
       "      <td>1934</td>\n",
       "      <td>\\N</td>\n",
       "      <td>actress,soundtrack,producer</td>\n",
       "      <td>tt0054452,tt0049189,tt0059956,tt0057345</td>\n",
       "    </tr>\n",
       "    <tr>\n",
       "      <td>3</td>\n",
       "      <td>nm0000004</td>\n",
       "      <td>John Belushi</td>\n",
       "      <td>1949</td>\n",
       "      <td>1982</td>\n",
       "      <td>actor,writer,soundtrack</td>\n",
       "      <td>tt0077975,tt0080455,tt0078723,tt0072562</td>\n",
       "    </tr>\n",
       "    <tr>\n",
       "      <td>4</td>\n",
       "      <td>nm0000005</td>\n",
       "      <td>Ingmar Bergman</td>\n",
       "      <td>1918</td>\n",
       "      <td>2007</td>\n",
       "      <td>writer,director,actor</td>\n",
       "      <td>tt0083922,tt0069467,tt0050986,tt0050976</td>\n",
       "    </tr>\n",
       "  </tbody>\n",
       "</table>\n",
       "</div>"
      ],
      "text/plain": [
       "      nconst      primaryName birthYear deathYear  \\\n",
       "0  nm0000001     Fred Astaire      1899      1987   \n",
       "1  nm0000002    Lauren Bacall      1924      2014   \n",
       "2  nm0000003  Brigitte Bardot      1934        \\N   \n",
       "3  nm0000004     John Belushi      1949      1982   \n",
       "4  nm0000005   Ingmar Bergman      1918      2007   \n",
       "\n",
       "                primaryProfession                           knownForTitles  \n",
       "0  soundtrack,actor,miscellaneous  tt0043044,tt0050419,tt0072308,tt0053137  \n",
       "1              actress,soundtrack  tt0117057,tt0038355,tt0071877,tt0037382  \n",
       "2     actress,soundtrack,producer  tt0054452,tt0049189,tt0059956,tt0057345  \n",
       "3         actor,writer,soundtrack  tt0077975,tt0080455,tt0078723,tt0072562  \n",
       "4           writer,director,actor  tt0083922,tt0069467,tt0050986,tt0050976  "
      ]
     },
     "execution_count": 6,
     "metadata": {},
     "output_type": "execute_result"
    }
   ],
   "source": [
    "df_actors.head()"
   ]
  },
  {
   "cell_type": "markdown",
   "metadata": {},
   "source": [
    "## Data Wrangling"
   ]
  },
  {
   "cell_type": "markdown",
   "metadata": {},
   "source": [
    "### Movie Data"
   ]
  },
  {
   "cell_type": "markdown",
   "metadata": {},
   "source": [
    "In movies_data we need to change a few columns to achive our goal:\n",
    "\n",
    "- releaseDate, here we only want the month, to see if there is seasonality, the release year is given seperately\n",
    "- for budget and wordwideGross: These are given in different currency depending on the movie. Furthermore, they are not always given in the same currency for a given movie. To proceed we first need to convert the strings into integers and then we would need to convert all the numbers into dollars to make them comparable.\n",
    "- runtime: Transforme to integers\n",
    "- genres: Transforme to list of strings\n",
    "\n",
    "Furthermore, there are some columns we are not interested in, that we can drop."
   ]
  },
  {
   "cell_type": "code",
   "execution_count": 7,
   "metadata": {},
   "outputs": [],
   "source": [
    "#extracting month\n",
    "movies_data['releaseMonth']=movies_data['releaseDate'].map(lambda x:  x.month if x != None else None)"
   ]
  },
  {
   "cell_type": "code",
   "execution_count": 8,
   "metadata": {},
   "outputs": [
    {
     "ename": "ValueError",
     "evalue": "too many values to unpack (expected 2)",
     "output_type": "error",
     "traceback": [
      "\u001b[0;31m---------------------------------------------------------------------------\u001b[0m",
      "\u001b[0;31mValueError\u001b[0m                                Traceback (most recent call last)",
      "\u001b[0;32m<ipython-input-8-26dfcf9bb8e9>\u001b[0m in \u001b[0;36m<module>\u001b[0;34m\u001b[0m\n\u001b[1;32m     14\u001b[0m     \u001b[0;32mreturn\u001b[0m \u001b[0mval\u001b[0m\u001b[0;34m,\u001b[0m \u001b[0mdollar\u001b[0m\u001b[0;34m\u001b[0m\u001b[0;34m\u001b[0m\u001b[0m\n\u001b[1;32m     15\u001b[0m \u001b[0;34m\u001b[0m\u001b[0m\n\u001b[0;32m---> 16\u001b[0;31m \u001b[0mmovies_data\u001b[0m\u001b[0;34m[\u001b[0m\u001b[0;34m'budget'\u001b[0m\u001b[0;34m]\u001b[0m\u001b[0;34m,\u001b[0m\u001b[0mmovies_data\u001b[0m\u001b[0;34m[\u001b[0m\u001b[0;34m'budget_in_dollar'\u001b[0m\u001b[0;34m]\u001b[0m \u001b[0;34m=\u001b[0m\u001b[0mmovies_data\u001b[0m\u001b[0;34m[\u001b[0m\u001b[0;34m'budget'\u001b[0m\u001b[0;34m]\u001b[0m\u001b[0;34m.\u001b[0m\u001b[0mapply\u001b[0m\u001b[0;34m(\u001b[0m\u001b[0mto_int\u001b[0m\u001b[0;34m)\u001b[0m\u001b[0;34m\u001b[0m\u001b[0;34m\u001b[0m\u001b[0m\n\u001b[0m\u001b[1;32m     17\u001b[0m \u001b[0mmovies_data\u001b[0m\u001b[0;34m[\u001b[0m\u001b[0;34m'worldwideGross'\u001b[0m\u001b[0;34m]\u001b[0m\u001b[0;34m,\u001b[0m \u001b[0mmovies_data\u001b[0m\u001b[0;34m[\u001b[0m\u001b[0;34m'worldwideGross_in_dollar'\u001b[0m\u001b[0;34m]\u001b[0m\u001b[0;34m=\u001b[0m\u001b[0mmovies_data\u001b[0m\u001b[0;34m[\u001b[0m\u001b[0;34m'worldwideGross'\u001b[0m\u001b[0;34m]\u001b[0m\u001b[0;34m.\u001b[0m\u001b[0mapply\u001b[0m\u001b[0;34m(\u001b[0m\u001b[0mto_int\u001b[0m\u001b[0;34m)\u001b[0m\u001b[0;34m\u001b[0m\u001b[0;34m\u001b[0m\u001b[0m\n\u001b[1;32m     18\u001b[0m \u001b[0;31m#now we can calculate the revenue percentage\u001b[0m\u001b[0;34m\u001b[0m\u001b[0;34m\u001b[0m\u001b[0;34m\u001b[0m\u001b[0m\n",
      "\u001b[0;31mValueError\u001b[0m: too many values to unpack (expected 2)"
     ]
    }
   ],
   "source": [
    "#first we need to change worldwideGross and budget to integers\n",
    "import re\n",
    "    \n",
    "def to_int(x):\n",
    "    if x ==None:\n",
    "        val=None\n",
    "        dollar= False\n",
    "    else:\n",
    "        val= int(re.sub('[^0-9,]', \"\", x).replace(\",\", \"\"))\n",
    "        if x.startswith('$'):\n",
    "            dollar= True\n",
    "        else:\n",
    "            dollar= False\n",
    "    return val, dollar\n",
    "    \n",
    "movies_data['budget'],movies_data['budget_in_dollar'] =movies_data['budget'].apply(to_int)\n",
    "movies_data['worldwideGross'], movies_data['worldwideGross_in_dollar']=movies_data['worldwideGross'].apply(to_int)\n",
    "#now we can calculate the revenue percentage\n",
    "movies_data['revenue']=movies_data['worldwideGross']/movies_data['budget']-1"
   ]
  },
  {
   "cell_type": "code",
   "execution_count": null,
   "metadata": {},
   "outputs": [],
   "source": [
    "#only extracting one genre\n",
    "#Needs to be improved as genres are just orderd in alphabetical order not importance\n",
    "movies_data.genres=movies_data.genres.str.split(',')"
   ]
  },
  {
   "cell_type": "code",
   "execution_count": null,
   "metadata": {
    "scrolled": true
   },
   "outputs": [],
   "source": [
    "with pd.option_context('display.max_columns', 50):\n",
    "    display(movies_data.head())"
   ]
  },
  {
   "cell_type": "markdown",
   "metadata": {},
   "source": [
    "### Actors Data"
   ]
  },
  {
   "cell_type": "markdown",
   "metadata": {},
   "source": [
    "Out of the awards data of the actors we want to build a score for the actors. We will score the wins and nominations in the top 10 movies awards according to https://www.therichest.com/most-popular/top-10-most-prestigious-movie-awards-in-the-world/ higher then the wins and nominations in the other awards."
   ]
  },
  {
   "cell_type": "code",
   "execution_count": null,
   "metadata": {},
   "outputs": [],
   "source": [
    "best_award=['Golden Globe','Oscar', 'Golden Lion','Grand Jury Prize','Golden Leopard','European Film Award', 'Filmfare Award','Golden Berlin Bear','BAFTA Film Award',\"Palme d'Or\"]"
   ]
  },
  {
   "cell_type": "code",
   "execution_count": null,
   "metadata": {},
   "outputs": [],
   "source": [
    "df_actors_awards['Important']=[False]*df_actors_awards.shape[0]"
   ]
  },
  {
   "cell_type": "code",
   "execution_count": null,
   "metadata": {},
   "outputs": [],
   "source": [
    "df_actors_awards['Important'][df_actors_awards.category.isin(best_award)]=True"
   ]
  },
  {
   "cell_type": "code",
   "execution_count": null,
   "metadata": {},
   "outputs": [],
   "source": [
    "df_actors_awards.head()"
   ]
  },
  {
   "cell_type": "markdown",
   "metadata": {},
   "source": [
    "In the actors data set we want to have the gender as an aditional feature"
   ]
  },
  {
   "cell_type": "code",
   "execution_count": null,
   "metadata": {},
   "outputs": [],
   "source": [
    "#splitting professions\n",
    "df_actors.primaryProfession=df_actors.primaryProfession.str.split(',')"
   ]
  },
  {
   "cell_type": "code",
   "execution_count": null,
   "metadata": {},
   "outputs": [],
   "source": [
    "def m_f(x):\n",
    "    if type(x) is list:\n",
    "        if 'actor' in x:\n",
    "            return 'M'\n",
    "        elif 'actress' in x:\n",
    "            return 'F'\n",
    "        else:\n",
    "            return None\n",
    "    else:\n",
    "        return None"
   ]
  },
  {
   "cell_type": "code",
   "execution_count": null,
   "metadata": {},
   "outputs": [],
   "source": [
    "df_actors['gender']=df_actors.primaryProfession.apply(m_f)"
   ]
  },
  {
   "cell_type": "code",
   "execution_count": null,
   "metadata": {},
   "outputs": [],
   "source": [
    "df_actors.head()"
   ]
  },
  {
   "cell_type": "markdown",
   "metadata": {},
   "source": [
    "## Data exploration\n",
    "\n",
    "Now that we have the data sets cleaned we can do the initial data analysis."
   ]
  },
  {
   "cell_type": "markdown",
   "metadata": {},
   "source": [
    "#### Actors data"
   ]
  },
  {
   "cell_type": "markdown",
   "metadata": {},
   "source": [
    "#### Movies data"
   ]
  },
  {
   "cell_type": "code",
   "execution_count": null,
   "metadata": {},
   "outputs": [],
   "source": [
    "plt.figure(figsize=(15,7))\n",
    "chart=sns.barplot(x='releaseCountry',y='oscarWins',data=pd.DataFrame(movies_data[movies_data['oscarWins']>0].groupby('releaseCountry')['oscarWins'].sum().reset_index()),palette='colorblind')\n",
    "chart.set_xticklabels(chart.get_xticklabels(),rotation=45)\n",
    "plt.title('Number of Oscars by release country')\n",
    "plt.xlabel('Release Country')\n",
    "plt.ylabel('Number of Oscar Wins')\n",
    "plt.show()"
   ]
  },
  {
   "cell_type": "code",
   "execution_count": null,
   "metadata": {},
   "outputs": [],
   "source": [
    "plt.figure(figsize=(12,7))\n",
    "sns.barplot('releaseMonth', 'oscarWins', data=movies_data.groupby('releaseMonth')['oscarWins'].sum().reset_index(),palette='colorblind')\n",
    "plt.ylabel('Number of Oscar wins')\n",
    "plt.xlabel('Release Month')\n",
    "plt.title('Barplot of oscar wins per release month')\n",
    "plt.show()"
   ]
  }
 ],
 "metadata": {
  "kernelspec": {
   "display_name": "Python 3",
   "language": "python",
   "name": "python3"
  },
  "language_info": {
   "codemirror_mode": {
    "name": "ipython",
    "version": 3
   },
   "file_extension": ".py",
   "mimetype": "text/x-python",
   "name": "python",
   "nbconvert_exporter": "python",
   "pygments_lexer": "ipython3",
   "version": "3.7.4"
  }
 },
 "nbformat": 4,
 "nbformat_minor": 2
}
