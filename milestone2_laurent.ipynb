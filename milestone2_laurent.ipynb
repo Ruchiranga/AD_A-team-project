{
 "cells": [
  {
   "cell_type": "markdown",
   "metadata": {},
   "source": [
    "## Introduction\n",
    "\n",
    "As we need to scrap a lot of data, we will performe the initial analysis for milestone 2 on a subset of movies and the actors that play in those movies. This is done to show the viability of our approaches. Then as soon as we have the full set of the data, we will scale up our analysis."
   ]
  },
  {
   "cell_type": "code",
   "execution_count": 1,
   "metadata": {},
   "outputs": [],
   "source": [
    "import pandas as pd\n",
    "import numpy as np\n",
    "import seaborn as sns\n",
    "import matplotlib.pyplot as plt"
   ]
  },
  {
   "cell_type": "code",
   "execution_count": 2,
   "metadata": {},
   "outputs": [
    {
     "name": "stderr",
     "output_type": "stream",
     "text": [
      "/home/laurent/anaconda3/lib/python3.7/site-packages/IPython/core/interactiveshell.py:3058: DtypeWarning: Columns (5) have mixed types. Specify dtype option on import or set low_memory=False.\n",
      "  interactivity=interactivity, compiler=compiler, result=result)\n"
     ]
    }
   ],
   "source": [
    "df_movies_subset=pd.read_pickle('movies_subset.pkl')\n",
    "df_actors_awards=pd.read_pickle('actors_awards_subset.pkl')\n",
    "df_movies=pd.read_csv('data/title.basics.tsv', sep='\\t')\n",
    "df_actors=pd.read_csv('data/name.basics.tsv', sep='\\t')"
   ]
  },
  {
   "cell_type": "code",
   "execution_count": 3,
   "metadata": {},
   "outputs": [
    {
     "data": {
      "text/html": [
       "<div>\n",
       "<style scoped>\n",
       "    .dataframe tbody tr th:only-of-type {\n",
       "        vertical-align: middle;\n",
       "    }\n",
       "\n",
       "    .dataframe tbody tr th {\n",
       "        vertical-align: top;\n",
       "    }\n",
       "\n",
       "    .dataframe thead th {\n",
       "        text-align: right;\n",
       "    }\n",
       "</style>\n",
       "<table border=\"1\" class=\"dataframe\">\n",
       "  <thead>\n",
       "    <tr style=\"text-align: right;\">\n",
       "      <th></th>\n",
       "      <th>tconst</th>\n",
       "      <th>stars</th>\n",
       "      <th>oscarWins</th>\n",
       "      <th>nominations</th>\n",
       "      <th>wins</th>\n",
       "      <th>releaseDate</th>\n",
       "      <th>releaseCountry</th>\n",
       "      <th>plotKeywords</th>\n",
       "      <th>budget</th>\n",
       "      <th>worldwideGross</th>\n",
       "      <th>metascore</th>\n",
       "      <th>musicProducer</th>\n",
       "    </tr>\n",
       "  </thead>\n",
       "  <tbody>\n",
       "    <tr>\n",
       "      <td>0</td>\n",
       "      <td>tt0014799</td>\n",
       "      <td>[nm0265550, nm0370407, nm0550195]</td>\n",
       "      <td>0</td>\n",
       "      <td>0</td>\n",
       "      <td>0</td>\n",
       "      <td>1924-05-31</td>\n",
       "      <td>UK</td>\n",
       "      <td>[]</td>\n",
       "      <td>None</td>\n",
       "      <td>None</td>\n",
       "      <td>None</td>\n",
       "      <td>None</td>\n",
       "    </tr>\n",
       "    <tr>\n",
       "      <td>1</td>\n",
       "      <td>tt0014843</td>\n",
       "      <td>[nm0427659, nm0107574, nm0421138]</td>\n",
       "      <td>0</td>\n",
       "      <td>0</td>\n",
       "      <td>0</td>\n",
       "      <td>1924-08-24</td>\n",
       "      <td>USA</td>\n",
       "      <td>[]</td>\n",
       "      <td>None</td>\n",
       "      <td>None</td>\n",
       "      <td>None</td>\n",
       "      <td>None</td>\n",
       "    </tr>\n",
       "    <tr>\n",
       "      <td>2</td>\n",
       "      <td>tt0014809</td>\n",
       "      <td>[nm0267916, nm0119572, nm0055809]</td>\n",
       "      <td>0</td>\n",
       "      <td>0</td>\n",
       "      <td>0</td>\n",
       "      <td>1924-04-08</td>\n",
       "      <td>USA</td>\n",
       "      <td>[]</td>\n",
       "      <td>None</td>\n",
       "      <td>None</td>\n",
       "      <td>None</td>\n",
       "      <td>None</td>\n",
       "    </tr>\n",
       "    <tr>\n",
       "      <td>3</td>\n",
       "      <td>tt0014751</td>\n",
       "      <td>[nm0403710, nm0744408]</td>\n",
       "      <td>0</td>\n",
       "      <td>0</td>\n",
       "      <td>0</td>\n",
       "      <td>None</td>\n",
       "      <td>None</td>\n",
       "      <td>[]</td>\n",
       "      <td>None</td>\n",
       "      <td>None</td>\n",
       "      <td>None</td>\n",
       "      <td>None</td>\n",
       "    </tr>\n",
       "    <tr>\n",
       "      <td>4</td>\n",
       "      <td>tt0014812</td>\n",
       "      <td>[nm0556953, nm0531962, nm0645941]</td>\n",
       "      <td>0</td>\n",
       "      <td>0</td>\n",
       "      <td>0</td>\n",
       "      <td>1924-12-28</td>\n",
       "      <td>USA</td>\n",
       "      <td>[]</td>\n",
       "      <td>None</td>\n",
       "      <td>None</td>\n",
       "      <td>None</td>\n",
       "      <td>None</td>\n",
       "    </tr>\n",
       "  </tbody>\n",
       "</table>\n",
       "</div>"
      ],
      "text/plain": [
       "      tconst                              stars  oscarWins  nominations  wins  \\\n",
       "0  tt0014799  [nm0265550, nm0370407, nm0550195]          0            0     0   \n",
       "1  tt0014843  [nm0427659, nm0107574, nm0421138]          0            0     0   \n",
       "2  tt0014809  [nm0267916, nm0119572, nm0055809]          0            0     0   \n",
       "3  tt0014751             [nm0403710, nm0744408]          0            0     0   \n",
       "4  tt0014812  [nm0556953, nm0531962, nm0645941]          0            0     0   \n",
       "\n",
       "  releaseDate releaseCountry plotKeywords budget worldwideGross metascore  \\\n",
       "0  1924-05-31             UK           []   None           None      None   \n",
       "1  1924-08-24            USA           []   None           None      None   \n",
       "2  1924-04-08            USA           []   None           None      None   \n",
       "3        None           None           []   None           None      None   \n",
       "4  1924-12-28            USA           []   None           None      None   \n",
       "\n",
       "  musicProducer  \n",
       "0          None  \n",
       "1          None  \n",
       "2          None  \n",
       "3          None  \n",
       "4          None  "
      ]
     },
     "execution_count": 3,
     "metadata": {},
     "output_type": "execute_result"
    }
   ],
   "source": [
    "df_movies_subset.head()\n"
   ]
  },
  {
   "cell_type": "code",
   "execution_count": 4,
   "metadata": {},
   "outputs": [
    {
     "name": "stdout",
     "output_type": "stream",
     "text": [
      "(178117, 12)\n"
     ]
    }
   ],
   "source": [
    "print(df_movies_subset.shape)"
   ]
  },
  {
   "cell_type": "code",
   "execution_count": 5,
   "metadata": {
    "scrolled": true
   },
   "outputs": [
    {
     "data": {
      "text/html": [
       "<div>\n",
       "<style scoped>\n",
       "    .dataframe tbody tr th:only-of-type {\n",
       "        vertical-align: middle;\n",
       "    }\n",
       "\n",
       "    .dataframe tbody tr th {\n",
       "        vertical-align: top;\n",
       "    }\n",
       "\n",
       "    .dataframe thead th {\n",
       "        text-align: right;\n",
       "    }\n",
       "</style>\n",
       "<table border=\"1\" class=\"dataframe\">\n",
       "  <thead>\n",
       "    <tr style=\"text-align: right;\">\n",
       "      <th></th>\n",
       "      <th>tconst</th>\n",
       "      <th>titleType</th>\n",
       "      <th>primaryTitle</th>\n",
       "      <th>originalTitle</th>\n",
       "      <th>isAdult</th>\n",
       "      <th>startYear</th>\n",
       "      <th>endYear</th>\n",
       "      <th>runtimeMinutes</th>\n",
       "      <th>genres</th>\n",
       "    </tr>\n",
       "  </thead>\n",
       "  <tbody>\n",
       "    <tr>\n",
       "      <td>0</td>\n",
       "      <td>tt0000001</td>\n",
       "      <td>short</td>\n",
       "      <td>Carmencita</td>\n",
       "      <td>Carmencita</td>\n",
       "      <td>0</td>\n",
       "      <td>1894</td>\n",
       "      <td>\\N</td>\n",
       "      <td>1</td>\n",
       "      <td>Documentary,Short</td>\n",
       "    </tr>\n",
       "    <tr>\n",
       "      <td>1</td>\n",
       "      <td>tt0000002</td>\n",
       "      <td>short</td>\n",
       "      <td>Le clown et ses chiens</td>\n",
       "      <td>Le clown et ses chiens</td>\n",
       "      <td>0</td>\n",
       "      <td>1892</td>\n",
       "      <td>\\N</td>\n",
       "      <td>5</td>\n",
       "      <td>Animation,Short</td>\n",
       "    </tr>\n",
       "    <tr>\n",
       "      <td>2</td>\n",
       "      <td>tt0000003</td>\n",
       "      <td>short</td>\n",
       "      <td>Pauvre Pierrot</td>\n",
       "      <td>Pauvre Pierrot</td>\n",
       "      <td>0</td>\n",
       "      <td>1892</td>\n",
       "      <td>\\N</td>\n",
       "      <td>4</td>\n",
       "      <td>Animation,Comedy,Romance</td>\n",
       "    </tr>\n",
       "    <tr>\n",
       "      <td>3</td>\n",
       "      <td>tt0000004</td>\n",
       "      <td>short</td>\n",
       "      <td>Un bon bock</td>\n",
       "      <td>Un bon bock</td>\n",
       "      <td>0</td>\n",
       "      <td>1892</td>\n",
       "      <td>\\N</td>\n",
       "      <td>\\N</td>\n",
       "      <td>Animation,Short</td>\n",
       "    </tr>\n",
       "    <tr>\n",
       "      <td>4</td>\n",
       "      <td>tt0000005</td>\n",
       "      <td>short</td>\n",
       "      <td>Blacksmith Scene</td>\n",
       "      <td>Blacksmith Scene</td>\n",
       "      <td>0</td>\n",
       "      <td>1893</td>\n",
       "      <td>\\N</td>\n",
       "      <td>1</td>\n",
       "      <td>Comedy,Short</td>\n",
       "    </tr>\n",
       "  </tbody>\n",
       "</table>\n",
       "</div>"
      ],
      "text/plain": [
       "      tconst titleType            primaryTitle           originalTitle  \\\n",
       "0  tt0000001     short              Carmencita              Carmencita   \n",
       "1  tt0000002     short  Le clown et ses chiens  Le clown et ses chiens   \n",
       "2  tt0000003     short          Pauvre Pierrot          Pauvre Pierrot   \n",
       "3  tt0000004     short             Un bon bock             Un bon bock   \n",
       "4  tt0000005     short        Blacksmith Scene        Blacksmith Scene   \n",
       "\n",
       "   isAdult startYear endYear runtimeMinutes                    genres  \n",
       "0        0      1894      \\N              1         Documentary,Short  \n",
       "1        0      1892      \\N              5           Animation,Short  \n",
       "2        0      1892      \\N              4  Animation,Comedy,Romance  \n",
       "3        0      1892      \\N             \\N           Animation,Short  \n",
       "4        0      1893      \\N              1              Comedy,Short  "
      ]
     },
     "execution_count": 5,
     "metadata": {},
     "output_type": "execute_result"
    }
   ],
   "source": [
    "df_movies.head()"
   ]
  },
  {
   "cell_type": "code",
   "execution_count": 6,
   "metadata": {},
   "outputs": [
    {
     "data": {
      "text/plain": [
       "(6311430, 9)"
      ]
     },
     "execution_count": 6,
     "metadata": {},
     "output_type": "execute_result"
    }
   ],
   "source": [
    "df_movies.shape"
   ]
  },
  {
   "cell_type": "code",
   "execution_count": 7,
   "metadata": {},
   "outputs": [],
   "source": [
    "#adding our scrapped data to the original data se\n",
    "movies_data=df_movies_subset.merge(df_movies,how='inner', on='tconst')"
   ]
  },
  {
   "cell_type": "code",
   "execution_count": 9,
   "metadata": {},
   "outputs": [
    {
     "data": {
      "text/html": [
       "<div>\n",
       "<style scoped>\n",
       "    .dataframe tbody tr th:only-of-type {\n",
       "        vertical-align: middle;\n",
       "    }\n",
       "\n",
       "    .dataframe tbody tr th {\n",
       "        vertical-align: top;\n",
       "    }\n",
       "\n",
       "    .dataframe thead th {\n",
       "        text-align: right;\n",
       "    }\n",
       "</style>\n",
       "<table border=\"1\" class=\"dataframe\">\n",
       "  <thead>\n",
       "    <tr style=\"text-align: right;\">\n",
       "      <th></th>\n",
       "      <th>tconst</th>\n",
       "      <th>stars</th>\n",
       "      <th>oscarWins</th>\n",
       "      <th>nominations</th>\n",
       "      <th>wins</th>\n",
       "      <th>releaseDate</th>\n",
       "      <th>releaseCountry</th>\n",
       "      <th>plotKeywords</th>\n",
       "      <th>budget</th>\n",
       "      <th>worldwideGross</th>\n",
       "      <th>metascore</th>\n",
       "      <th>musicProducer</th>\n",
       "      <th>titleType</th>\n",
       "      <th>primaryTitle</th>\n",
       "      <th>originalTitle</th>\n",
       "      <th>isAdult</th>\n",
       "      <th>startYear</th>\n",
       "      <th>endYear</th>\n",
       "      <th>runtimeMinutes</th>\n",
       "      <th>genres</th>\n",
       "    </tr>\n",
       "  </thead>\n",
       "  <tbody>\n",
       "    <tr>\n",
       "      <td>0</td>\n",
       "      <td>tt0014799</td>\n",
       "      <td>[nm0265550, nm0370407, nm0550195]</td>\n",
       "      <td>0</td>\n",
       "      <td>0</td>\n",
       "      <td>0</td>\n",
       "      <td>1924-05-31</td>\n",
       "      <td>UK</td>\n",
       "      <td>[]</td>\n",
       "      <td>None</td>\n",
       "      <td>None</td>\n",
       "      <td>None</td>\n",
       "      <td>None</td>\n",
       "      <td>movie</td>\n",
       "      <td>The Conspirators</td>\n",
       "      <td>The Conspirators</td>\n",
       "      <td>0</td>\n",
       "      <td>1924</td>\n",
       "      <td>\\N</td>\n",
       "      <td>\\N</td>\n",
       "      <td>Crime,Drama</td>\n",
       "    </tr>\n",
       "    <tr>\n",
       "      <td>1</td>\n",
       "      <td>tt0014843</td>\n",
       "      <td>[nm0427659, nm0107574, nm0421138]</td>\n",
       "      <td>0</td>\n",
       "      <td>0</td>\n",
       "      <td>0</td>\n",
       "      <td>1924-08-24</td>\n",
       "      <td>USA</td>\n",
       "      <td>[]</td>\n",
       "      <td>None</td>\n",
       "      <td>None</td>\n",
       "      <td>None</td>\n",
       "      <td>None</td>\n",
       "      <td>movie</td>\n",
       "      <td>The Desert Outlaw</td>\n",
       "      <td>The Desert Outlaw</td>\n",
       "      <td>0</td>\n",
       "      <td>1924</td>\n",
       "      <td>\\N</td>\n",
       "      <td>60</td>\n",
       "      <td>Western</td>\n",
       "    </tr>\n",
       "    <tr>\n",
       "      <td>2</td>\n",
       "      <td>tt0014809</td>\n",
       "      <td>[nm0267916, nm0119572, nm0055809]</td>\n",
       "      <td>0</td>\n",
       "      <td>0</td>\n",
       "      <td>0</td>\n",
       "      <td>1924-04-08</td>\n",
       "      <td>USA</td>\n",
       "      <td>[]</td>\n",
       "      <td>None</td>\n",
       "      <td>None</td>\n",
       "      <td>None</td>\n",
       "      <td>None</td>\n",
       "      <td>movie</td>\n",
       "      <td>Crossed Trails</td>\n",
       "      <td>Crossed Trails</td>\n",
       "      <td>0</td>\n",
       "      <td>1924</td>\n",
       "      <td>\\N</td>\n",
       "      <td>50</td>\n",
       "      <td>Western</td>\n",
       "    </tr>\n",
       "    <tr>\n",
       "      <td>3</td>\n",
       "      <td>tt0014751</td>\n",
       "      <td>[nm0403710, nm0744408]</td>\n",
       "      <td>0</td>\n",
       "      <td>0</td>\n",
       "      <td>0</td>\n",
       "      <td>None</td>\n",
       "      <td>None</td>\n",
       "      <td>[]</td>\n",
       "      <td>None</td>\n",
       "      <td>None</td>\n",
       "      <td>None</td>\n",
       "      <td>None</td>\n",
       "      <td>movie</td>\n",
       "      <td>La buenaventura de Pitusín</td>\n",
       "      <td>La buenaventura de Pitusín</td>\n",
       "      <td>0</td>\n",
       "      <td>1924</td>\n",
       "      <td>\\N</td>\n",
       "      <td>\\N</td>\n",
       "      <td>\\N</td>\n",
       "    </tr>\n",
       "    <tr>\n",
       "      <td>4</td>\n",
       "      <td>tt0014812</td>\n",
       "      <td>[nm0556953, nm0531962, nm0645941]</td>\n",
       "      <td>0</td>\n",
       "      <td>0</td>\n",
       "      <td>0</td>\n",
       "      <td>1924-12-28</td>\n",
       "      <td>USA</td>\n",
       "      <td>[]</td>\n",
       "      <td>None</td>\n",
       "      <td>None</td>\n",
       "      <td>None</td>\n",
       "      <td>None</td>\n",
       "      <td>movie</td>\n",
       "      <td>Curlytop</td>\n",
       "      <td>Curlytop</td>\n",
       "      <td>0</td>\n",
       "      <td>1924</td>\n",
       "      <td>\\N</td>\n",
       "      <td>60</td>\n",
       "      <td>Drama,Romance</td>\n",
       "    </tr>\n",
       "  </tbody>\n",
       "</table>\n",
       "</div>"
      ],
      "text/plain": [
       "      tconst                              stars  oscarWins  nominations  wins  \\\n",
       "0  tt0014799  [nm0265550, nm0370407, nm0550195]          0            0     0   \n",
       "1  tt0014843  [nm0427659, nm0107574, nm0421138]          0            0     0   \n",
       "2  tt0014809  [nm0267916, nm0119572, nm0055809]          0            0     0   \n",
       "3  tt0014751             [nm0403710, nm0744408]          0            0     0   \n",
       "4  tt0014812  [nm0556953, nm0531962, nm0645941]          0            0     0   \n",
       "\n",
       "  releaseDate releaseCountry plotKeywords budget worldwideGross metascore  \\\n",
       "0  1924-05-31             UK           []   None           None      None   \n",
       "1  1924-08-24            USA           []   None           None      None   \n",
       "2  1924-04-08            USA           []   None           None      None   \n",
       "3        None           None           []   None           None      None   \n",
       "4  1924-12-28            USA           []   None           None      None   \n",
       "\n",
       "  musicProducer titleType                primaryTitle  \\\n",
       "0          None     movie            The Conspirators   \n",
       "1          None     movie           The Desert Outlaw   \n",
       "2          None     movie              Crossed Trails   \n",
       "3          None     movie  La buenaventura de Pitusín   \n",
       "4          None     movie                    Curlytop   \n",
       "\n",
       "                originalTitle  isAdult startYear endYear runtimeMinutes  \\\n",
       "0            The Conspirators        0      1924      \\N             \\N   \n",
       "1           The Desert Outlaw        0      1924      \\N             60   \n",
       "2              Crossed Trails        0      1924      \\N             50   \n",
       "3  La buenaventura de Pitusín        0      1924      \\N             \\N   \n",
       "4                    Curlytop        0      1924      \\N             60   \n",
       "\n",
       "          genres  \n",
       "0    Crime,Drama  \n",
       "1        Western  \n",
       "2        Western  \n",
       "3             \\N  \n",
       "4  Drama,Romance  "
      ]
     },
     "metadata": {},
     "output_type": "display_data"
    }
   ],
   "source": [
    "with pd.option_context('display.max_columns', 50):\n",
    "    display(movies_data.head())"
   ]
  },
  {
   "cell_type": "markdown",
   "metadata": {},
   "source": [
    "## Data Wrangling"
   ]
  },
  {
   "cell_type": "markdown",
   "metadata": {},
   "source": [
    "In movies_data we need to change a few columns to achive our goal:\n",
    "\n",
    "- releaseDate, here we only want the month, to see if there is seasonality\n",
    "- for budget and wordwideGross we can combine into one -> percentage worldwideGross over budget. This is necessary to be able to compare between the movies as the budgets and wordlwideGross are given in local currency and are therefore not directly comparable\n",
    "- genre: We want to give each movie only one genre\n",
    "\n",
    "Furthermore, there are some columns we are not interested in, that we can drop."
   ]
  },
  {
   "cell_type": "code",
   "execution_count": 11,
   "metadata": {},
   "outputs": [],
   "source": [
    "#extracting month\n",
    "movies_data['releaseMonth']=movies_data['releaseDate'].map(lambda x:  x.month if x != None else None)"
   ]
  },
  {
   "cell_type": "code",
   "execution_count": 12,
   "metadata": {},
   "outputs": [],
   "source": [
    "#first we need to change worldwideGross and budget to integers\n",
    "import re\n",
    "def to_int(x):\n",
    "    if x ==None:\n",
    "        return None\n",
    "    else:\n",
    "        return int(re.sub('[^0-9,]', \"\", x).replace(\",\", \"\"))\n",
    "    \n",
    "movies_data['budget']=movies_data['budget'].apply(to_int)\n",
    "movies_data['worldwideGross']=movies_data['worldwideGross'].apply(to_int)\n",
    "#now we can calculate the revenue percentage\n",
    "movies_data['revenue']=movies_data['worldwideGross']/movies_data['budget']-1"
   ]
  },
  {
   "cell_type": "code",
   "execution_count": 18,
   "metadata": {},
   "outputs": [],
   "source": [
    "#only extracting one genre\n",
    "#Needs to be improved as genres are just orderd in alphabetical order not importance\n",
    "movies_data.genres=movies_data.genres.str.split(',').str.get(0)"
   ]
  },
  {
   "cell_type": "code",
   "execution_count": 21,
   "metadata": {},
   "outputs": [],
   "source": [
    "#now we can drop what we don't need\n",
    "movies_cleaned=movies_data[['tconst','stars','oscarWins','nominations','wins','releaseCountry','metascore','startYear','runtimeMinutes','genres','releaseMonth','revenue']]"
   ]
  },
  {
   "cell_type": "code",
   "execution_count": 22,
   "metadata": {
    "scrolled": true
   },
   "outputs": [
    {
     "data": {
      "text/html": [
       "<div>\n",
       "<style scoped>\n",
       "    .dataframe tbody tr th:only-of-type {\n",
       "        vertical-align: middle;\n",
       "    }\n",
       "\n",
       "    .dataframe tbody tr th {\n",
       "        vertical-align: top;\n",
       "    }\n",
       "\n",
       "    .dataframe thead th {\n",
       "        text-align: right;\n",
       "    }\n",
       "</style>\n",
       "<table border=\"1\" class=\"dataframe\">\n",
       "  <thead>\n",
       "    <tr style=\"text-align: right;\">\n",
       "      <th></th>\n",
       "      <th>tconst</th>\n",
       "      <th>stars</th>\n",
       "      <th>oscarWins</th>\n",
       "      <th>nominations</th>\n",
       "      <th>wins</th>\n",
       "      <th>releaseCountry</th>\n",
       "      <th>metascore</th>\n",
       "      <th>startYear</th>\n",
       "      <th>runtimeMinutes</th>\n",
       "      <th>genres</th>\n",
       "      <th>releaseMonth</th>\n",
       "      <th>revenue</th>\n",
       "    </tr>\n",
       "  </thead>\n",
       "  <tbody>\n",
       "    <tr>\n",
       "      <td>0</td>\n",
       "      <td>tt0014799</td>\n",
       "      <td>[nm0265550, nm0370407, nm0550195]</td>\n",
       "      <td>0</td>\n",
       "      <td>0</td>\n",
       "      <td>0</td>\n",
       "      <td>UK</td>\n",
       "      <td>None</td>\n",
       "      <td>1924</td>\n",
       "      <td>\\N</td>\n",
       "      <td>Crime</td>\n",
       "      <td>5.0</td>\n",
       "      <td>NaN</td>\n",
       "    </tr>\n",
       "    <tr>\n",
       "      <td>1</td>\n",
       "      <td>tt0014843</td>\n",
       "      <td>[nm0427659, nm0107574, nm0421138]</td>\n",
       "      <td>0</td>\n",
       "      <td>0</td>\n",
       "      <td>0</td>\n",
       "      <td>USA</td>\n",
       "      <td>None</td>\n",
       "      <td>1924</td>\n",
       "      <td>60</td>\n",
       "      <td>Western</td>\n",
       "      <td>8.0</td>\n",
       "      <td>NaN</td>\n",
       "    </tr>\n",
       "    <tr>\n",
       "      <td>2</td>\n",
       "      <td>tt0014809</td>\n",
       "      <td>[nm0267916, nm0119572, nm0055809]</td>\n",
       "      <td>0</td>\n",
       "      <td>0</td>\n",
       "      <td>0</td>\n",
       "      <td>USA</td>\n",
       "      <td>None</td>\n",
       "      <td>1924</td>\n",
       "      <td>50</td>\n",
       "      <td>Western</td>\n",
       "      <td>4.0</td>\n",
       "      <td>NaN</td>\n",
       "    </tr>\n",
       "    <tr>\n",
       "      <td>3</td>\n",
       "      <td>tt0014751</td>\n",
       "      <td>[nm0403710, nm0744408]</td>\n",
       "      <td>0</td>\n",
       "      <td>0</td>\n",
       "      <td>0</td>\n",
       "      <td>None</td>\n",
       "      <td>None</td>\n",
       "      <td>1924</td>\n",
       "      <td>\\N</td>\n",
       "      <td>\\N</td>\n",
       "      <td>NaN</td>\n",
       "      <td>NaN</td>\n",
       "    </tr>\n",
       "    <tr>\n",
       "      <td>4</td>\n",
       "      <td>tt0014812</td>\n",
       "      <td>[nm0556953, nm0531962, nm0645941]</td>\n",
       "      <td>0</td>\n",
       "      <td>0</td>\n",
       "      <td>0</td>\n",
       "      <td>USA</td>\n",
       "      <td>None</td>\n",
       "      <td>1924</td>\n",
       "      <td>60</td>\n",
       "      <td>Drama</td>\n",
       "      <td>12.0</td>\n",
       "      <td>NaN</td>\n",
       "    </tr>\n",
       "  </tbody>\n",
       "</table>\n",
       "</div>"
      ],
      "text/plain": [
       "      tconst                              stars  oscarWins  nominations  wins  \\\n",
       "0  tt0014799  [nm0265550, nm0370407, nm0550195]          0            0     0   \n",
       "1  tt0014843  [nm0427659, nm0107574, nm0421138]          0            0     0   \n",
       "2  tt0014809  [nm0267916, nm0119572, nm0055809]          0            0     0   \n",
       "3  tt0014751             [nm0403710, nm0744408]          0            0     0   \n",
       "4  tt0014812  [nm0556953, nm0531962, nm0645941]          0            0     0   \n",
       "\n",
       "  releaseCountry metascore startYear runtimeMinutes   genres  releaseMonth  \\\n",
       "0             UK      None      1924             \\N    Crime           5.0   \n",
       "1            USA      None      1924             60  Western           8.0   \n",
       "2            USA      None      1924             50  Western           4.0   \n",
       "3           None      None      1924             \\N       \\N           NaN   \n",
       "4            USA      None      1924             60    Drama          12.0   \n",
       "\n",
       "   revenue  \n",
       "0      NaN  \n",
       "1      NaN  \n",
       "2      NaN  \n",
       "3      NaN  \n",
       "4      NaN  "
      ]
     },
     "execution_count": 22,
     "metadata": {},
     "output_type": "execute_result"
    }
   ],
   "source": [
    "movies_cleaned.head()"
   ]
  },
  {
   "cell_type": "markdown",
   "metadata": {},
   "source": [
    "Out of the awards data of the actors we want to build a score for the actors. For now we keep it simple, we give one point for each nomination and 5 points for each award win. Later we can improve this score, by giving different scores depending on which award was won."
   ]
  },
  {
   "cell_type": "code",
   "execution_count": 23,
   "metadata": {},
   "outputs": [
    {
     "data": {
      "text/html": [
       "<div>\n",
       "<style scoped>\n",
       "    .dataframe tbody tr th:only-of-type {\n",
       "        vertical-align: middle;\n",
       "    }\n",
       "\n",
       "    .dataframe tbody tr th {\n",
       "        vertical-align: top;\n",
       "    }\n",
       "\n",
       "    .dataframe thead th {\n",
       "        text-align: right;\n",
       "    }\n",
       "</style>\n",
       "<table border=\"1\" class=\"dataframe\">\n",
       "  <thead>\n",
       "    <tr style=\"text-align: right;\">\n",
       "      <th></th>\n",
       "      <th>nconst</th>\n",
       "      <th>year</th>\n",
       "      <th>category</th>\n",
       "      <th>w_n</th>\n",
       "      <th>description</th>\n",
       "      <th>movie</th>\n",
       "      <th>tconst</th>\n",
       "    </tr>\n",
       "  </thead>\n",
       "  <tbody>\n",
       "    <tr>\n",
       "      <td>0</td>\n",
       "      <td>nm0309470</td>\n",
       "      <td>2005</td>\n",
       "      <td>David</td>\n",
       "      <td>Nominee</td>\n",
       "      <td>Best Supporting Actress (Migliore Attrice non ...</td>\n",
       "      <td>Cuore sacro</td>\n",
       "      <td>tt0429898</td>\n",
       "    </tr>\n",
       "    <tr>\n",
       "      <td>1</td>\n",
       "      <td>nm0309470</td>\n",
       "      <td>1968</td>\n",
       "      <td>Golden Plate</td>\n",
       "      <td>Winner</td>\n",
       "      <td></td>\n",
       "      <td>Grazie zia</td>\n",
       "      <td>tt0063033</td>\n",
       "    </tr>\n",
       "    <tr>\n",
       "      <td>2</td>\n",
       "      <td>nm0309470</td>\n",
       "      <td>2005</td>\n",
       "      <td>Golden Ciak</td>\n",
       "      <td>Winner</td>\n",
       "      <td>Best Supporting Actress (Migliore Attrice Non ...</td>\n",
       "      <td>Cuore sacro</td>\n",
       "      <td>tt0429898</td>\n",
       "    </tr>\n",
       "    <tr>\n",
       "      <td>3</td>\n",
       "      <td>nm0309470</td>\n",
       "      <td>1967</td>\n",
       "      <td>Golden Globe</td>\n",
       "      <td>Winner</td>\n",
       "      <td>Best Actress (Migliore Attrice)</td>\n",
       "      <td>Svegliati e uccidi</td>\n",
       "      <td>tt0061049</td>\n",
       "    </tr>\n",
       "    <tr>\n",
       "      <td>4</td>\n",
       "      <td>nm0309470</td>\n",
       "      <td>1968</td>\n",
       "      <td>Golden Goblet</td>\n",
       "      <td>Winner</td>\n",
       "      <td>Best Actress (Migliore Attrice)</td>\n",
       "      <td>Grazie zia</td>\n",
       "      <td>tt0063033</td>\n",
       "    </tr>\n",
       "  </tbody>\n",
       "</table>\n",
       "</div>"
      ],
      "text/plain": [
       "      nconst  year       category      w_n  \\\n",
       "0  nm0309470  2005          David  Nominee   \n",
       "1  nm0309470  1968   Golden Plate   Winner   \n",
       "2  nm0309470  2005    Golden Ciak   Winner   \n",
       "3  nm0309470  1967   Golden Globe   Winner   \n",
       "4  nm0309470  1968  Golden Goblet   Winner   \n",
       "\n",
       "                                         description               movie  \\\n",
       "0  Best Supporting Actress (Migliore Attrice non ...         Cuore sacro   \n",
       "1                                                             Grazie zia   \n",
       "2  Best Supporting Actress (Migliore Attrice Non ...         Cuore sacro   \n",
       "3                    Best Actress (Migliore Attrice)  Svegliati e uccidi   \n",
       "4                    Best Actress (Migliore Attrice)          Grazie zia   \n",
       "\n",
       "      tconst  \n",
       "0  tt0429898  \n",
       "1  tt0063033  \n",
       "2  tt0429898  \n",
       "3  tt0061049  \n",
       "4  tt0063033  "
      ]
     },
     "execution_count": 23,
     "metadata": {},
     "output_type": "execute_result"
    }
   ],
   "source": [
    "df_actors_awards.head()"
   ]
  },
  {
   "cell_type": "code",
   "execution_count": 90,
   "metadata": {},
   "outputs": [],
   "source": [
    "scoring=pd.DataFrame(df_actors_awards.groupby('nconst').w_n.value_counts().rename_axis(['nconst','type']).reset_index())"
   ]
  },
  {
   "cell_type": "code",
   "execution_count": 91,
   "metadata": {},
   "outputs": [
    {
     "data": {
      "text/html": [
       "<div>\n",
       "<style scoped>\n",
       "    .dataframe tbody tr th:only-of-type {\n",
       "        vertical-align: middle;\n",
       "    }\n",
       "\n",
       "    .dataframe tbody tr th {\n",
       "        vertical-align: top;\n",
       "    }\n",
       "\n",
       "    .dataframe thead th {\n",
       "        text-align: right;\n",
       "    }\n",
       "</style>\n",
       "<table border=\"1\" class=\"dataframe\">\n",
       "  <thead>\n",
       "    <tr style=\"text-align: right;\">\n",
       "      <th></th>\n",
       "      <th>nconst</th>\n",
       "      <th>type</th>\n",
       "      <th>w_n</th>\n",
       "    </tr>\n",
       "  </thead>\n",
       "  <tbody>\n",
       "    <tr>\n",
       "      <td>0</td>\n",
       "      <td>nm0000001</td>\n",
       "      <td>Winner</td>\n",
       "      <td>18</td>\n",
       "    </tr>\n",
       "    <tr>\n",
       "      <td>1</td>\n",
       "      <td>nm0000001</td>\n",
       "      <td>Nominee</td>\n",
       "      <td>7</td>\n",
       "    </tr>\n",
       "    <tr>\n",
       "      <td>2</td>\n",
       "      <td>nm0000002</td>\n",
       "      <td>Winner</td>\n",
       "      <td>20</td>\n",
       "    </tr>\n",
       "    <tr>\n",
       "      <td>3</td>\n",
       "      <td>nm0000002</td>\n",
       "      <td>Nominee</td>\n",
       "      <td>13</td>\n",
       "    </tr>\n",
       "    <tr>\n",
       "      <td>4</td>\n",
       "      <td>nm0000003</td>\n",
       "      <td>Nominee</td>\n",
       "      <td>2</td>\n",
       "    </tr>\n",
       "  </tbody>\n",
       "</table>\n",
       "</div>"
      ],
      "text/plain": [
       "      nconst     type  w_n\n",
       "0  nm0000001   Winner   18\n",
       "1  nm0000001  Nominee    7\n",
       "2  nm0000002   Winner   20\n",
       "3  nm0000002  Nominee   13\n",
       "4  nm0000003  Nominee    2"
      ]
     },
     "execution_count": 91,
     "metadata": {},
     "output_type": "execute_result"
    }
   ],
   "source": [
    "scoring.head()"
   ]
  },
  {
   "cell_type": "code",
   "execution_count": 92,
   "metadata": {},
   "outputs": [
    {
     "name": "stderr",
     "output_type": "stream",
     "text": [
      "/home/laurent/anaconda3/lib/python3.7/site-packages/ipykernel_launcher.py:1: SettingWithCopyWarning: \n",
      "A value is trying to be set on a copy of a slice from a DataFrame\n",
      "\n",
      "See the caveats in the documentation: http://pandas.pydata.org/pandas-docs/stable/user_guide/indexing.html#returning-a-view-versus-a-copy\n",
      "  \"\"\"Entry point for launching an IPython kernel.\n"
     ]
    }
   ],
   "source": [
    "scoring['w_n'][scoring['type']=='Winner']=scoring['w_n']*5"
   ]
  },
  {
   "cell_type": "code",
   "execution_count": 93,
   "metadata": {},
   "outputs": [],
   "source": [
    "scoring=pd.DataFrame(scoring.groupby('nconst')['w_n'].sum().reset_index().rename(columns={\"w_n\": \"score\"}))"
   ]
  },
  {
   "cell_type": "code",
   "execution_count": 141,
   "metadata": {},
   "outputs": [],
   "source": [
    "actor_data=df_actors.merge(scoring, how='inner', on='nconst')"
   ]
  },
  {
   "cell_type": "code",
   "execution_count": 144,
   "metadata": {},
   "outputs": [],
   "source": [
    "#splitting professions\n",
    "actor_data.primaryProfession=actor_data.primaryProfession.str.split(',')"
   ]
  },
  {
   "cell_type": "code",
   "execution_count": 150,
   "metadata": {},
   "outputs": [],
   "source": [
    "def m_f(x):\n",
    "    if type(x) is list:\n",
    "        if 'actor' in x:\n",
    "            return 'M'\n",
    "        elif 'actress' in x:\n",
    "            return 'F'\n",
    "        else:\n",
    "            return None\n",
    "    else:\n",
    "        return None"
   ]
  },
  {
   "cell_type": "code",
   "execution_count": 152,
   "metadata": {},
   "outputs": [],
   "source": [
    "actor_data['gender']=actor_data.primaryProfession.apply(m_f)"
   ]
  },
  {
   "cell_type": "code",
   "execution_count": 153,
   "metadata": {},
   "outputs": [
    {
     "data": {
      "text/html": [
       "<div>\n",
       "<style scoped>\n",
       "    .dataframe tbody tr th:only-of-type {\n",
       "        vertical-align: middle;\n",
       "    }\n",
       "\n",
       "    .dataframe tbody tr th {\n",
       "        vertical-align: top;\n",
       "    }\n",
       "\n",
       "    .dataframe thead th {\n",
       "        text-align: right;\n",
       "    }\n",
       "</style>\n",
       "<table border=\"1\" class=\"dataframe\">\n",
       "  <thead>\n",
       "    <tr style=\"text-align: right;\">\n",
       "      <th></th>\n",
       "      <th>nconst</th>\n",
       "      <th>primaryName</th>\n",
       "      <th>birthYear</th>\n",
       "      <th>deathYear</th>\n",
       "      <th>primaryProfession</th>\n",
       "      <th>knownForTitles</th>\n",
       "      <th>score</th>\n",
       "      <th>gender</th>\n",
       "    </tr>\n",
       "  </thead>\n",
       "  <tbody>\n",
       "    <tr>\n",
       "      <td>0</td>\n",
       "      <td>nm0000001</td>\n",
       "      <td>Fred Astaire</td>\n",
       "      <td>1899</td>\n",
       "      <td>1987</td>\n",
       "      <td>[soundtrack, actor, miscellaneous]</td>\n",
       "      <td>tt0043044,tt0050419,tt0072308,tt0053137</td>\n",
       "      <td>97</td>\n",
       "      <td>M</td>\n",
       "    </tr>\n",
       "    <tr>\n",
       "      <td>1</td>\n",
       "      <td>nm0000002</td>\n",
       "      <td>Lauren Bacall</td>\n",
       "      <td>1924</td>\n",
       "      <td>2014</td>\n",
       "      <td>[actress, soundtrack]</td>\n",
       "      <td>tt0117057,tt0038355,tt0071877,tt0037382</td>\n",
       "      <td>113</td>\n",
       "      <td>F</td>\n",
       "    </tr>\n",
       "    <tr>\n",
       "      <td>2</td>\n",
       "      <td>nm0000003</td>\n",
       "      <td>Brigitte Bardot</td>\n",
       "      <td>1934</td>\n",
       "      <td>\\N</td>\n",
       "      <td>[actress, soundtrack, producer]</td>\n",
       "      <td>tt0054452,tt0049189,tt0059956,tt0057345</td>\n",
       "      <td>12</td>\n",
       "      <td>F</td>\n",
       "    </tr>\n",
       "    <tr>\n",
       "      <td>3</td>\n",
       "      <td>nm0000004</td>\n",
       "      <td>John Belushi</td>\n",
       "      <td>1949</td>\n",
       "      <td>1982</td>\n",
       "      <td>[actor, writer, soundtrack]</td>\n",
       "      <td>tt0077975,tt0080455,tt0078723,tt0072562</td>\n",
       "      <td>15</td>\n",
       "      <td>M</td>\n",
       "    </tr>\n",
       "    <tr>\n",
       "      <td>4</td>\n",
       "      <td>nm0000005</td>\n",
       "      <td>Ingmar Bergman</td>\n",
       "      <td>1918</td>\n",
       "      <td>2007</td>\n",
       "      <td>[writer, director, actor]</td>\n",
       "      <td>tt0083922,tt0069467,tt0050986,tt0050976</td>\n",
       "      <td>428</td>\n",
       "      <td>M</td>\n",
       "    </tr>\n",
       "  </tbody>\n",
       "</table>\n",
       "</div>"
      ],
      "text/plain": [
       "      nconst      primaryName birthYear deathYear  \\\n",
       "0  nm0000001     Fred Astaire      1899      1987   \n",
       "1  nm0000002    Lauren Bacall      1924      2014   \n",
       "2  nm0000003  Brigitte Bardot      1934        \\N   \n",
       "3  nm0000004     John Belushi      1949      1982   \n",
       "4  nm0000005   Ingmar Bergman      1918      2007   \n",
       "\n",
       "                    primaryProfession  \\\n",
       "0  [soundtrack, actor, miscellaneous]   \n",
       "1               [actress, soundtrack]   \n",
       "2     [actress, soundtrack, producer]   \n",
       "3         [actor, writer, soundtrack]   \n",
       "4           [writer, director, actor]   \n",
       "\n",
       "                            knownForTitles  score gender  \n",
       "0  tt0043044,tt0050419,tt0072308,tt0053137     97      M  \n",
       "1  tt0117057,tt0038355,tt0071877,tt0037382    113      F  \n",
       "2  tt0054452,tt0049189,tt0059956,tt0057345     12      F  \n",
       "3  tt0077975,tt0080455,tt0078723,tt0072562     15      M  \n",
       "4  tt0083922,tt0069467,tt0050986,tt0050976    428      M  "
      ]
     },
     "execution_count": 153,
     "metadata": {},
     "output_type": "execute_result"
    }
   ],
   "source": [
    "actor_data.head()"
   ]
  },
  {
   "cell_type": "code",
   "execution_count": 155,
   "metadata": {},
   "outputs": [],
   "source": [
    "actor_cleaned=actor_data[['nconst','birthYear','score','gender']]"
   ]
  },
  {
   "cell_type": "markdown",
   "metadata": {},
   "source": [
    "Now we can add the cast score to each movie."
   ]
  },
  {
   "cell_type": "code",
   "execution_count": 173,
   "metadata": {},
   "outputs": [
    {
     "name": "stdout",
     "output_type": "stream",
     "text": [
      "nm0265550\n"
     ]
    }
   ],
   "source": [
    "print(movies_cleaned.stars[0][0])"
   ]
  },
  {
   "cell_type": "code",
   "execution_count": 179,
   "metadata": {},
   "outputs": [
    {
     "data": {
      "text/plain": [
       "0"
      ]
     },
     "execution_count": 179,
     "metadata": {},
     "output_type": "execute_result"
    }
   ],
   "source": [
    "actor_cleaned.loc[actor_cleaned['nconst'].isin(movies_cleaned.stars[0]),'score'].sum()\n"
   ]
  },
  {
   "cell_type": "code",
   "execution_count": 182,
   "metadata": {},
   "outputs": [
    {
     "name": "stderr",
     "output_type": "stream",
     "text": [
      "/home/laurent/anaconda3/lib/python3.7/site-packages/ipykernel_launcher.py:5: SettingWithCopyWarning: \n",
      "A value is trying to be set on a copy of a slice from a DataFrame.\n",
      "Try using .loc[row_indexer,col_indexer] = value instead\n",
      "\n",
      "See the caveats in the documentation: http://pandas.pydata.org/pandas-docs/stable/user_guide/indexing.html#returning-a-view-versus-a-copy\n",
      "  \"\"\"\n"
     ]
    }
   ],
   "source": [
    "#for full dataset we probably need a better method\n",
    "cast_score=[]\n",
    "for stars in movies_cleaned.stars:\n",
    "    cast_score.append(actor_cleaned.loc[actor_cleaned['nconst'].isin(stars),'score'].sum())\n",
    "\n",
    "movies_cleaned['castScore']=cast_score"
   ]
  },
  {
   "cell_type": "code",
   "execution_count": 192,
   "metadata": {},
   "outputs": [
    {
     "name": "stderr",
     "output_type": "stream",
     "text": [
      "/home/laurent/anaconda3/lib/python3.7/site-packages/pandas/core/frame.py:4244: SettingWithCopyWarning: \n",
      "A value is trying to be set on a copy of a slice from a DataFrame\n",
      "\n",
      "See the caveats in the documentation: http://pandas.pydata.org/pandas-docs/stable/user_guide/indexing.html#returning-a-view-versus-a-copy\n",
      "  **kwargs\n"
     ]
    }
   ],
   "source": [
    "movies_cleaned.fillna(value=pd.np.nan, inplace=True)"
   ]
  },
  {
   "cell_type": "code",
   "execution_count": 201,
   "metadata": {},
   "outputs": [
    {
     "name": "stderr",
     "output_type": "stream",
     "text": [
      "/home/laurent/anaconda3/lib/python3.7/site-packages/pandas/core/frame.py:4263: SettingWithCopyWarning: \n",
      "A value is trying to be set on a copy of a slice from a DataFrame\n",
      "\n",
      "See the caveats in the documentation: http://pandas.pydata.org/pandas-docs/stable/user_guide/indexing.html#returning-a-view-versus-a-copy\n",
      "  method=method,\n"
     ]
    }
   ],
   "source": [
    "movies_cleaned.replace(r'\\N',np.nan, inplace=True)"
   ]
  },
  {
   "cell_type": "code",
   "execution_count": 202,
   "metadata": {},
   "outputs": [
    {
     "data": {
      "text/html": [
       "<div>\n",
       "<style scoped>\n",
       "    .dataframe tbody tr th:only-of-type {\n",
       "        vertical-align: middle;\n",
       "    }\n",
       "\n",
       "    .dataframe tbody tr th {\n",
       "        vertical-align: top;\n",
       "    }\n",
       "\n",
       "    .dataframe thead th {\n",
       "        text-align: right;\n",
       "    }\n",
       "</style>\n",
       "<table border=\"1\" class=\"dataframe\">\n",
       "  <thead>\n",
       "    <tr style=\"text-align: right;\">\n",
       "      <th></th>\n",
       "      <th>tconst</th>\n",
       "      <th>stars</th>\n",
       "      <th>oscarWins</th>\n",
       "      <th>nominations</th>\n",
       "      <th>wins</th>\n",
       "      <th>releaseCountry</th>\n",
       "      <th>metascore</th>\n",
       "      <th>startYear</th>\n",
       "      <th>runtimeMinutes</th>\n",
       "      <th>genres</th>\n",
       "      <th>releaseMonth</th>\n",
       "      <th>revenue</th>\n",
       "      <th>castScore</th>\n",
       "    </tr>\n",
       "  </thead>\n",
       "  <tbody>\n",
       "    <tr>\n",
       "      <td>0</td>\n",
       "      <td>tt0014799</td>\n",
       "      <td>[nm0265550, nm0370407, nm0550195]</td>\n",
       "      <td>0</td>\n",
       "      <td>0</td>\n",
       "      <td>0</td>\n",
       "      <td>UK</td>\n",
       "      <td>NaN</td>\n",
       "      <td>1924</td>\n",
       "      <td>NaN</td>\n",
       "      <td>Crime</td>\n",
       "      <td>5.0</td>\n",
       "      <td>NaN</td>\n",
       "      <td>0</td>\n",
       "    </tr>\n",
       "    <tr>\n",
       "      <td>1</td>\n",
       "      <td>tt0014843</td>\n",
       "      <td>[nm0427659, nm0107574, nm0421138]</td>\n",
       "      <td>0</td>\n",
       "      <td>0</td>\n",
       "      <td>0</td>\n",
       "      <td>USA</td>\n",
       "      <td>NaN</td>\n",
       "      <td>1924</td>\n",
       "      <td>60</td>\n",
       "      <td>Western</td>\n",
       "      <td>8.0</td>\n",
       "      <td>NaN</td>\n",
       "      <td>15</td>\n",
       "    </tr>\n",
       "    <tr>\n",
       "      <td>2</td>\n",
       "      <td>tt0014809</td>\n",
       "      <td>[nm0267916, nm0119572, nm0055809]</td>\n",
       "      <td>0</td>\n",
       "      <td>0</td>\n",
       "      <td>0</td>\n",
       "      <td>USA</td>\n",
       "      <td>NaN</td>\n",
       "      <td>1924</td>\n",
       "      <td>50</td>\n",
       "      <td>Western</td>\n",
       "      <td>4.0</td>\n",
       "      <td>NaN</td>\n",
       "      <td>0</td>\n",
       "    </tr>\n",
       "    <tr>\n",
       "      <td>3</td>\n",
       "      <td>tt0014751</td>\n",
       "      <td>[nm0403710, nm0744408]</td>\n",
       "      <td>0</td>\n",
       "      <td>0</td>\n",
       "      <td>0</td>\n",
       "      <td>NaN</td>\n",
       "      <td>NaN</td>\n",
       "      <td>1924</td>\n",
       "      <td>NaN</td>\n",
       "      <td>NaN</td>\n",
       "      <td>NaN</td>\n",
       "      <td>NaN</td>\n",
       "      <td>0</td>\n",
       "    </tr>\n",
       "    <tr>\n",
       "      <td>4</td>\n",
       "      <td>tt0014812</td>\n",
       "      <td>[nm0556953, nm0531962, nm0645941]</td>\n",
       "      <td>0</td>\n",
       "      <td>0</td>\n",
       "      <td>0</td>\n",
       "      <td>USA</td>\n",
       "      <td>NaN</td>\n",
       "      <td>1924</td>\n",
       "      <td>60</td>\n",
       "      <td>Drama</td>\n",
       "      <td>12.0</td>\n",
       "      <td>NaN</td>\n",
       "      <td>0</td>\n",
       "    </tr>\n",
       "  </tbody>\n",
       "</table>\n",
       "</div>"
      ],
      "text/plain": [
       "      tconst                              stars  oscarWins  nominations  wins  \\\n",
       "0  tt0014799  [nm0265550, nm0370407, nm0550195]          0            0     0   \n",
       "1  tt0014843  [nm0427659, nm0107574, nm0421138]          0            0     0   \n",
       "2  tt0014809  [nm0267916, nm0119572, nm0055809]          0            0     0   \n",
       "3  tt0014751             [nm0403710, nm0744408]          0            0     0   \n",
       "4  tt0014812  [nm0556953, nm0531962, nm0645941]          0            0     0   \n",
       "\n",
       "  releaseCountry metascore startYear runtimeMinutes   genres  releaseMonth  \\\n",
       "0             UK       NaN      1924            NaN    Crime           5.0   \n",
       "1            USA       NaN      1924             60  Western           8.0   \n",
       "2            USA       NaN      1924             50  Western           4.0   \n",
       "3            NaN       NaN      1924            NaN      NaN           NaN   \n",
       "4            USA       NaN      1924             60    Drama          12.0   \n",
       "\n",
       "   revenue  castScore  \n",
       "0      NaN          0  \n",
       "1      NaN         15  \n",
       "2      NaN          0  \n",
       "3      NaN          0  \n",
       "4      NaN          0  "
      ]
     },
     "execution_count": 202,
     "metadata": {},
     "output_type": "execute_result"
    }
   ],
   "source": [
    "movies_cleaned.head()"
   ]
  },
  {
   "cell_type": "markdown",
   "metadata": {},
   "source": [
    "## Data exploration"
   ]
  },
  {
   "cell_type": "markdown",
   "metadata": {},
   "source": [
    "#### Actors data"
   ]
  },
  {
   "cell_type": "code",
   "execution_count": 207,
   "metadata": {},
   "outputs": [
    {
     "data": {
      "text/plain": [
       "nconst         0\n",
       "birthYear      0\n",
       "score          0\n",
       "gender       317\n",
       "dtype: int64"
      ]
     },
     "execution_count": 207,
     "metadata": {},
     "output_type": "execute_result"
    }
   ],
   "source": [
    "actor_cleaned.isnull().sum(axis = 0)"
   ]
  },
  {
   "cell_type": "code",
   "execution_count": 208,
   "metadata": {},
   "outputs": [
    {
     "data": {
      "text/plain": [
       "<matplotlib.axes._subplots.AxesSubplot at 0x7fd88066b2d0>"
      ]
     },
     "execution_count": 208,
     "metadata": {},
     "output_type": "execute_result"
    },
    {
     "data": {
      "image/png": "[encoded data removed]",
      "text/plain": [
       "<Figure size 1080x576 with 1 Axes>"
      ]
     },
     "metadata": {
      "needs_background": "light"
     },
     "output_type": "display_data"
    }
   ],
   "source": [
    "plt.figure(figsize=(15,8))\n",
    "sns.distplot(actor_cleaned['score'])actor_cleaned"
   ]
  },
  {
   "cell_type": "code",
   "execution_count": 216,
   "metadata": {},
   "outputs": [
    {
     "data": {
      "text/plain": [
       "Text(0.5, 1.0, 'Scores of male actors')"
      ]
     },
     "execution_count": 216,
     "metadata": {},
     "output_type": "execute_result"
    },
    {
     "data": {
      "image/png": "[encoded data removed]",
      "text/plain": [
       "<Figure size 1080x576 with 2 Axes>"
      ]
     },
     "metadata": {
      "needs_background": "light"
     },
     "output_type": "display_data"
    }
   ],
   "source": [
    "plt.figure(figsize=(15,8))\n",
    "plt.subplot(121)  #sublot(Anzahl Zeilen Anzahl Spalten Bild Nummer)\n",
    "sns.boxplot(actor_cleaned[actor_cleaned['gender']=='F']['score'])\n",
    "plt.title('Scores of female actors')\n",
    "\n",
    "\n",
    "plt.subplot(122)\n",
    "sns.boxplot(actor_cleaned[actor_cleaned['gender']=='M']['score'])\n",
    "plt.title('Scores of male actors')\n",
    "\n"
   ]
  },
  {
   "cell_type": "code",
   "execution_count": 203,
   "metadata": {},
   "outputs": [
    {
     "data": {
      "text/plain": [
       "tconst                 0\n",
       "stars                  0\n",
       "oscarWins              0\n",
       "nominations            0\n",
       "wins                   0\n",
       "releaseCountry     47718\n",
       "metascore         173165\n",
       "startYear            215\n",
       "runtimeMinutes     49067\n",
       "genres             33579\n",
       "releaseMonth       66147\n",
       "revenue           173683\n",
       "castScore              0\n",
       "dtype: int64"
      ]
     },
     "execution_count": 203,
     "metadata": {},
     "output_type": "execute_result"
    }
   ],
   "source": [
    "movies_cleaned.isnull().sum(axis = 0)"
   ]
  },
  {
   "cell_type": "code",
   "execution_count": 205,
   "metadata": {},
   "outputs": [
    {
     "data": {
      "text/plain": [
       "(178115, 13)"
      ]
     },
     "execution_count": 205,
     "metadata": {},
     "output_type": "execute_result"
    }
   ],
   "source": [
    "movies_cleaned.shape"
   ]
  }
 ],
 "metadata": {
  "kernelspec": {
   "display_name": "Python 3",
   "language": "python",
   "name": "python3"
  },
  "language_info": {
   "codemirror_mode": {
    "name": "ipython",
    "version": 3
   },
   "file_extension": ".py",
   "mimetype": "text/x-python",
   "name": "python",
   "nbconvert_exporter": "python",
   "pygments_lexer": "ipython3",
   "version": "3.7.4"
  }
 },
 "nbformat": 4,
 "nbformat_minor": 2
}
